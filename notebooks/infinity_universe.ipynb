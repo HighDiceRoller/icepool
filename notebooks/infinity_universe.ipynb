{
  "metadata": {
    "language_info": {
      "codemirror_mode": {
        "name": "python",
        "version": 3
      },
      "file_extension": ".py",
      "mimetype": "text/x-python",
      "name": "python",
      "nbconvert_exporter": "python",
      "pygments_lexer": "ipython3",
      "version": "3.8"
    },
    "kernelspec": {
      "name": "python",
      "display_name": "Python (Pyodide)",
      "language": "python"
    }
  },
  "nbformat_minor": 4,
  "nbformat": 4,
  "cells": [
    {
      "cell_type": "markdown",
      "source": "## Infinity Universe\n\n[Rules.](https://infinitythewiki.com/Rolls#Face_to_Face_Rolls)\n\n[Question on GitHub.](https://github.com/HighDiceRoller/icepool/issues/100)",
      "metadata": {}
    },
    {
      "cell_type": "code",
      "source": "%pip install icepool\n\nimport icepool\nfrom icepool import d20\n\nclass InfinityUniverseEvaluator(icepool.MultisetEvaluator):\n    def __init__(self, a_sv, b_sv):\n        self.a_sv = a_sv\n        self.b_sv = b_sv\n        \n    # Note that outcomes are seen in ascending order by default.\n    def next_state(self, state, outcome, a_count, b_count):\n        # Initial state is all zeros.\n        a_crit, a_success, b_crit, b_success = state or (0, 0, 0, 0)\n        \n        # First, accumulate scores.\n        if outcome < self.a_sv:\n            a_success += a_count\n        elif outcome == self.a_sv:\n            a_crit += a_count\n        if outcome < self.b_sv:\n            b_success += b_count\n        elif outcome == self.b_sv:\n            b_crit += b_count\n\n        # Then, cancel the other side's current and previous successes,\n        # which must all have been equal or less than the current outcome.\n        # Crits continue to cancel future (higher) successes as well.\n        if a_crit or (a_count > 0 and outcome <= self.a_sv):\n            b_success = 0\n        if b_crit or (b_count > 0 and outcome <= self.b_sv):\n            a_success = 0\n        \n        # Finally, cancel all crits if both sides scored any crit.\n        if a_crit > 0 and b_crit > 0:\n            # Note that successes were already cancelled above.\n            # Also, no more outcomes will matter since\n            # all remaining outcomes are above SV.\n            a_crit = 0\n            b_crit = 0\n        return a_crit, a_success, b_crit, b_success\n    \nprint(InfinityUniverseEvaluator(a_sv=12, b_sv=10).evaluate(d20.pool(3), d20.pool(2)))",
      "metadata": {
        "trusted": true
      },
      "execution_count": 1,
      "outputs": [
        {
          "name": "stdout",
          "text": "Die with denominator 3200000\n\n| Outcome[0] | Outcome[1] | Outcome[2] | Outcome[3] | Quantity | Probability |\n|-----------:|-----------:|-----------:|-----------:|---------:|------------:|\n|          0 |          0 |          0 |          0 |   232328 |   7.260250% |\n|          0 |          0 |          0 |          1 |   460752 |  14.398500% |\n|          0 |          0 |          0 |          2 |   106152 |   3.317250% |\n|          0 |          0 |          1 |          0 |   225218 |   7.038063% |\n|          0 |          0 |          1 |          1 |    35424 |   1.107000% |\n|          0 |          0 |          2 |          0 |     6859 |   0.214344% |\n|          0 |          1 |          0 |          0 |   891834 |  27.869813% |\n|          0 |          2 |          0 |          0 |   623112 |  19.472250% |\n|          0 |          3 |          0 |          0 |   206420 |   6.450625% |\n|          1 |          0 |          0 |          0 |   166107 |   5.190844% |\n|          1 |          1 |          0 |          0 |   159468 |   4.983375% |\n|          1 |          2 |          0 |          0 |    65388 |   2.043375% |\n|          2 |          0 |          0 |          0 |    12939 |   0.404344% |\n|          2 |          1 |          0 |          0 |     7638 |   0.238687% |\n|          3 |          0 |          0 |          0 |      361 |   0.011281% |\n\n\n",
          "output_type": "stream"
        }
      ]
    },
    {
      "cell_type": "markdown",
      "source": "### Follow-up question: success values above 20\n\n[Question on GitHub.](https://github.com/HighDiceRoller/icepool/issues/101)\n\nFor success values above 20, the success value is treated as 20, with each excess point being treated as a bonus to the d20 roll. Rolls above 20 are treated as 20 (i.e. a critical).",
      "metadata": {}
    },
    {
      "cell_type": "code",
      "source": "# This can be done by modifying the die that goes into the pool.\n# Example: a 21 SV versus a 20 SV with one die each.\nfrom icepool import d20, lowest\nprint(InfinityUniverseEvaluator(a_sv=20, b_sv=20).evaluate(lowest(d20+1, 20).pool(1), d20.pool(1)))",
      "metadata": {
        "trusted": true
      },
      "execution_count": 2,
      "outputs": [
        {
          "name": "stdout",
          "text": "Die with denominator 400\n\n| Outcome[0] | Outcome[1] | Outcome[2] | Outcome[3] | Quantity | Probability |\n|-----------:|-----------:|-----------:|-----------:|---------:|------------:|\n|          0 |          0 |          0 |          0 |       20 |   5.000000% |\n|          0 |          0 |          0 |          1 |      153 |  38.250000% |\n|          0 |          0 |          1 |          0 |       18 |   4.500000% |\n|          0 |          1 |          0 |          0 |      171 |  42.750000% |\n|          1 |          0 |          0 |          0 |       38 |   9.500000% |\n\n\n",
          "output_type": "stream"
        }
      ]
    },
    {
      "cell_type": "code",
      "source": "",
      "metadata": {},
      "execution_count": null,
      "outputs": []
    }
  ]
}