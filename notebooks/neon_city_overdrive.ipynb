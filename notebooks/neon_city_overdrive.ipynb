{
 "cells": [
  {
   "cell_type": "code",
   "execution_count": 1,
   "metadata": {},
   "outputs": [
    {
     "name": "stdout",
     "output_type": "stream",
     "text": [
      "Requirement already satisfied: hdroller in c:\\users\\ajul1\\appdata\\local\\programs\\python\\python39\\lib\\site-packages (0.6.1)\n",
      "Total weight: 131621703842267136\n",
      "| Outcome |            Weight | Probability |\n",
      "|--------:|------------------:|------------:|\n",
      "|       0 |   120430899525096 |   0.091498% |\n",
      "|       1 |  2522395308976020 |   1.916398% |\n",
      "|       2 |  6894369347858052 |   5.238019% |\n",
      "|       3 | 13547506290025944 |  10.292760% |\n",
      "|       4 | 22823611358939616 |  17.340310% |\n",
      "|       5 | 35070648792732228 |  26.645035% |\n",
      "|       6 | 25566858159294430 |  19.424500% |\n",
      "|       7 | 15442366097229500 |  11.732386% |\n",
      "|       8 |  6790569584411250 |   5.159156% |\n",
      "|       9 |  2203227290550000 |   1.673909% |\n",
      "|      10 |   531089314490625 |   0.403497% |\n",
      "|      11 |    94956991593750 |   0.072144% |\n",
      "|      12 |    12437652734375 |   0.009450% |\n",
      "|      13 |     1160757812500 |   0.000882% |\n",
      "|      14 |       73154296875 |   0.000056% |\n",
      "|      15 |        2792968750 |   0.000002% |\n",
      "|      16 |          48828125 |   0.000000% |\n",
      "\n"
     ]
    }
   ],
   "source": [
    "try:\n",
    "    # JupyterLite\n",
    "    import micropip\n",
    "    await micropip.install('hdroller')\n",
    "except ModuleNotFoundError:\n",
    "    # Jupyter\n",
    "    import sys\n",
    "    !{sys.executable} -m pip install hdroller\n",
    "\n",
    "import hdroller\n",
    "\n",
    "class EvalNco(hdroller.EvalPool):\n",
    "    def next_state(self, state, outcome, action, danger):\n",
    "        if state is None:\n",
    "            state = 0\n",
    "        if action > danger:\n",
    "            if outcome == 6:\n",
    "                return action - danger + 5\n",
    "            else:\n",
    "                return max(outcome, state)\n",
    "        else:\n",
    "            return state\n",
    "\n",
    "result = EvalNco().eval(hdroller.Pool(hdroller.d6, 11), hdroller.Pool(hdroller.d6, 11))\n",
    "print(result)"
   ]
  },
  {
   "cell_type": "code",
   "execution_count": null,
   "metadata": {},
   "outputs": [],
   "source": []
  }
 ],
 "metadata": {
  "kernelspec": {
   "display_name": "Python 3 (ipykernel)",
   "language": "python",
   "name": "python3"
  },
  "language_info": {
   "codemirror_mode": {
    "name": "ipython",
    "version": 3
   },
   "file_extension": ".py",
   "mimetype": "text/x-python",
   "name": "python",
   "nbconvert_exporter": "python",
   "pygments_lexer": "ipython3",
   "version": "3.9.10"
  }
 },
 "nbformat": 4,
 "nbformat_minor": 4
}
