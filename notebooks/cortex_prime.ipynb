{
  "metadata": {
    "kernelspec": {
      "name": "python",
      "display_name": "Pyolite",
      "language": "python"
    },
    "language_info": {
      "codemirror_mode": {
        "name": "python",
        "version": 3
      },
      "file_extension": ".py",
      "mimetype": "text/x-python",
      "name": "python",
      "nbconvert_exporter": "python",
      "pygments_lexer": "ipython3",
      "version": "3.8"
    }
  },
  "nbformat_minor": 5,
  "nbformat": 4,
  "cells": [
    {
      "cell_type": "markdown",
      "source": "## *Cortex Prime*\n\n[Official site.](https://www.cortexrpg.com/)\n\nThe system functions by rolling a pool of mixed standard dice and (usually) summing the two highest. Ones don't count.\n\nThis example will show various ways of working with dice pools.",
      "metadata": {},
      "id": "0ff7f319-78cf-4c40-a223-32e60da45df1"
    },
    {
      "cell_type": "code",
      "source": "import piplite\nawait piplite.install(\"hdroller\")\n\nimport hdroller",
      "metadata": {
        "trusted": true
      },
      "execution_count": 1,
      "outputs": [],
      "id": "f3bc1d5f-157c-4520-a1ef-33c1951e206b"
    },
    {
      "cell_type": "markdown",
      "source": "Each dice pool needs a fundamental die, which defines the relative weight of each outcome. In *Cortex* the largest die is a d12, so we use that as our fundamental die. We then treat ones as zeros using the `sub()` method, which can take in a `dict` mapping old outcomes to new outcomes.",
      "metadata": {},
      "id": "14398584-1a01-4729-a50e-54d9659fd910"
    },
    {
      "cell_type": "code",
      "source": "die = hdroller.d12.sub({1: 0})",
      "metadata": {
        "trusted": true
      },
      "execution_count": 2,
      "outputs": [],
      "id": "19c18127-df9c-402c-9b04-b01847c215f0"
    },
    {
      "cell_type": "markdown",
      "source": "Here's a simple pool of 3d6, keeping the highest two dice via the `count_dice` argument.",
      "metadata": {},
      "id": "b8a69e4c-0cb3-43fd-b746-1f886d51ad5c"
    },
    {
      "cell_type": "code",
      "source": "three_d6_keep_2 = die.pool(max_outcomes=[6, 6, 6], count_dice=slice(-2, None))\nprint(three_d6_keep_2.sum())  # The sum() method sums the dice in the pool.",
      "metadata": {
        "trusted": true
      },
      "execution_count": 3,
      "outputs": [
        {
          "name": "stdout",
          "text": "Denominator: 216\n| Outcome | Weight | Probability |\n|--------:|-------:|------------:|\n|       0 |      1 |   0.462963% |\n|       2 |      3 |   1.388889% |\n|       3 |      3 |   1.388889% |\n|       4 |      7 |   3.240741% |\n|       5 |     12 |   5.555556% |\n|       6 |     19 |   8.796296% |\n|       7 |     24 |  11.111111% |\n|       8 |     34 |  15.740741% |\n|       9 |     36 |  16.666667% |\n|      10 |     34 |  15.740741% |\n|      11 |     27 |  12.500000% |\n|      12 |     16 |   7.407407% |\n\n",
          "output_type": "stream"
        }
      ],
      "id": "5d12d0d0-3b05-434c-9fc0-178c0c88345d"
    },
    {
      "cell_type": "markdown",
      "source": "Note that the dice to count are sorted in ascending order.\n\nWe can also choose the dice to keep after creating the pool, which allows us to use the slice syntax.",
      "metadata": {},
      "id": "23107364-897a-417b-8c50-4d4b0041d67e"
    },
    {
      "cell_type": "code",
      "source": "three_d6 = die.pool(max_outcomes=[6, 6, 6])\nthree_d6_keep_2 = three_d6[-2:]\nprint(three_d6_keep_2.sum()) ",
      "metadata": {
        "trusted": true
      },
      "execution_count": 4,
      "outputs": [
        {
          "name": "stdout",
          "text": "Denominator: 216\n| Outcome | Weight | Probability |\n|--------:|-------:|------------:|\n|       0 |      1 |   0.462963% |\n|       2 |      3 |   1.388889% |\n|       3 |      3 |   1.388889% |\n|       4 |      7 |   3.240741% |\n|       5 |     12 |   5.555556% |\n|       6 |     19 |   8.796296% |\n|       7 |     24 |  11.111111% |\n|       8 |     34 |  15.740741% |\n|       9 |     36 |  16.666667% |\n|      10 |     34 |  15.740741% |\n|      11 |     27 |  12.500000% |\n|      12 |     16 |   7.407407% |\n\n",
          "output_type": "stream"
        }
      ],
      "id": "e42f2698-6dc8-4fba-bf85-8a074b62878f"
    },
    {
      "cell_type": "markdown",
      "source": "Mixing die sizes is as simple as changing `max_outcomes`.",
      "metadata": {},
      "id": "6534a72b-40cd-49e5-994c-4da15b5956a9"
    },
    {
      "cell_type": "code",
      "source": "print(die.pool(max_outcomes=[12, 10, 8, 8, 6])[-2:].sum())",
      "metadata": {
        "trusted": true
      },
      "execution_count": 5,
      "outputs": [
        {
          "name": "stdout",
          "text": "Denominator: 46080\n| Outcome | Weight | Probability |\n|--------:|-------:|------------:|\n|       0 |      1 |   0.002170% |\n|       2 |      5 |   0.010851% |\n|       3 |      5 |   0.010851% |\n|       4 |     31 |   0.067274% |\n|       5 |     80 |   0.173611% |\n|       6 |    211 |   0.457899% |\n|       7 |    404 |   0.876736% |\n|       8 |    780 |   1.692708% |\n|       9 |   1262 |   2.738715% |\n|      10 |   2018 |   4.379340% |\n|      11 |   2836 |   6.154514% |\n|      12 |   3863 |   8.383247% |\n|      13 |   4655 |  10.101997% |\n|      14 |   5298 |  11.497396% |\n|      15 |   5368 |  11.649306% |\n|      16 |   5348 |  11.605903% |\n|      17 |   4592 |   9.965278% |\n|      18 |   3845 |   8.344184% |\n|      19 |   2544 |   5.520833% |\n|      20 |   1782 |   3.867188% |\n|      21 |    768 |   1.666667% |\n|      22 |    384 |   0.833333% |\n\n",
          "output_type": "stream"
        }
      ],
      "id": "def641c1-5979-4928-a4cb-e9aa279b8f53"
    },
    {
      "cell_type": "markdown",
      "source": "By changing the slice, you can e.g. drop the highest, then sum the next three highest.",
      "metadata": {},
      "id": "fefdfcf6-d24b-479b-9221-cf1127b4e3fb"
    },
    {
      "cell_type": "code",
      "source": "print(die.pool(max_outcomes=[12, 10, 8, 8, 6])[-3:-1].sum())",
      "metadata": {
        "trusted": true
      },
      "execution_count": 6,
      "outputs": [
        {
          "name": "stdout",
          "text": "Denominator: 46080\n| Outcome | Weight | Probability |\n|--------:|-------:|------------:|\n|       0 |     40 |   0.086806% |\n|       2 |    146 |   0.316840% |\n|       3 |    126 |   0.273438% |\n|       4 |    496 |   1.076389% |\n|       5 |    968 |   2.100694% |\n|       6 |   1816 |   3.940972% |\n|       7 |   2652 |   5.755208% |\n|       8 |   3834 |   8.320312% |\n|       9 |   4693 |  10.184462% |\n|      10 |   5625 |  12.207031% |\n|      11 |   5849 |  12.693142% |\n|      12 |   5870 |  12.738715% |\n|      13 |   4982 |  10.811632% |\n|      14 |   3890 |   8.441840% |\n|      15 |   2510 |   5.447049% |\n|      16 |   1629 |   3.535156% |\n|      17 |    684 |   1.484375% |\n|      18 |    270 |   0.585938% |\n\n",
          "output_type": "stream"
        }
      ],
      "id": "0a9bb83c-bc05-4cb9-a935-304745af7a2c"
    },
    {
      "cell_type": "code",
      "source": "",
      "metadata": {},
      "execution_count": null,
      "outputs": [],
      "id": "d8748492-7aca-44e3-88ee-473ccfef5f2b"
    }
  ]
}