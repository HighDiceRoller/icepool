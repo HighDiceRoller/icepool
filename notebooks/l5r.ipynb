{
 "cells": [
  {
   "cell_type": "markdown",
   "id": "10bd8eca-f719-4de4-b9e6-fdcfe63fb7e3",
   "metadata": {},
   "source": [
    "## *Legend of the Five Rings* (up to 4th edition)\n",
    "\n",
    "In this system you roll a number of exploding d10s (i.e. if you roll a 10, you roll it again and add it to the running total, as long as you keep rolling 10s). Then you keep a number of the highest among them and sum.\n",
    "\n",
    "This is an infamous challenge for dice calculators.\n",
    "\n",
    "### AnyDice\n",
    "\n",
    "[AnyDice](https://anydice.com/) appears to take exponential time in the number of dice. For example,\n",
    "\n",
    "```\n",
    "output [highest 5 of 10d[explode d10]]\n",
    "```\n",
    "\n",
    "times out. (n.b. At default, AnyDice explodes dice up to two times, not counting the base roll.)\n",
    "\n",
    "### Troll\n",
    "\n",
    "The [conference paper](http://hjemmesider.diku.dk/~torbenm/Troll/Troll-SAC.pdf) for the [Troll dice roller and probability calculator](https://topps.diku.dk/torbenm/troll.msp) says:\n",
    "\n",
    "> For example, the game \"Legend of Five Rings\" uses a roll mechanism that can be described in Troll as\n",
    ">\n",
    "> ``` sum (largest M N#(sum accumulate x := d10 until x<10)) ```\n",
    ">\n",
    "> where M and N depend on the situation. With M = 3, N = 5 and the maximum number of iterations for accumulate set to 5, Troll takes nearly 500 seconds to calculate the result, and it gets much worse if any of the numbers increase.\n",
    "\n",
    "To be fair, this paper was presented more than a decade ago, and hardware has advanced considerably since then. [cpubenchmark.net](https://www.cpubenchmark.net/compare/Intel-Pentium-4-3.20GHz-vs-Intel-i5-8400/1076vs3097) shows a factor of about 5× in single-threaded performance and 33× in overall performance from the CPU used in the paper to my current desktop CPU. However, 500 seconds is a long time, and even this advancement in hardware is not nearly enough to overcome even modest increases in the number of dice due to the exponential time of the algorithm.\n",
    "\n",
    "### SnakeEyes\n",
    "\n",
    "A Lua-language calculator that runs locally in the browser. (Hence why I don't feel bad linking [a futile *L5R* script](https://snake-eyes.io/?script=DYVgTgBAvBAmCMAGAXAUwB4AdgHtaoAokAaCAZgEoAoK7HAFwKMQgCoJQwLlYwdMA+rgDuqAM6MQFCkA) in this case, as it's not putting load on someone else's server. I don't recommend clicking on that if your computer is prone to hanging though.) The author did come up with an [optimized script](https://snake-eyes.io/?url=examples/l5r.lua) for *L5R* in particular, though this still takes some time especially as the explosion depth increases.\n",
    "\n",
    "### lynks.se\n",
    "\n",
    "There does exist a website with *L5R* probabilities: [lynks.se](https://lynks.se/probability/). However, if you look at that webpage's source code, you'll see that the probabilities have been precomputed and stored in static arrays. Furthermore, there is a small but noticeable amount of noise in the data, indicating that it was computed via Monte Carlo rather than a closed-form method.\n",
    "\n",
    "Now let's give `hdroller` a try. First, import it:"
   ]
  },
  {
   "cell_type": "code",
   "execution_count": 1,
   "id": "ff022201-fc3d-468e-9664-e5211c3e5d17",
   "metadata": {},
   "outputs": [
    {
     "name": "stdout",
     "output_type": "stream",
     "text": [
      "Requirement already satisfied: hdroller in c:\\users\\ajul1\\appdata\\local\\programs\\python\\python39\\lib\\site-packages (0.6.1)\n"
     ]
    }
   ],
   "source": [
    "try:\n",
    "    # JupyterLite\n",
    "    import micropip\n",
    "    await micropip.install('hdroller')\n",
    "except ModuleNotFoundError:\n",
    "    # Jupyter\n",
    "    import sys\n",
    "    !{sys.executable} -m pip install hdroller\n",
    "\n",
    "import hdroller\n",
    "import time"
   ]
  },
  {
   "cell_type": "markdown",
   "id": "86916307-c1ab-4186-8655-fc9dd4b671d1",
   "metadata": {},
   "source": [
    "Now run it. We'll give it a generous explosion limit of 9.\n",
    "\n",
    "Notes:\n",
    "\n",
    "* Internal computations will be cached, so subsequent runs will run faster. Restart the kernel for a more \"fair\" comparison.\n",
    "* JupyterLite runs the computation right in your own browser, not an external server."
   ]
  },
  {
   "cell_type": "code",
   "execution_count": 2,
   "id": "66d3107c-4a24-44a9-a4cc-0db48798529c",
   "metadata": {},
   "outputs": [
    {
     "name": "stdout",
     "output_type": "stream",
     "text": [
      "Computation time: 103 ms\n"
     ]
    },
    {
     "data": {
      "image/png": "[encoded data removed]",
      "text/plain": [
       "<Figure size 432x288 with 1 Axes>"
      ]
     },
     "metadata": {
      "needs_background": "light"
     },
     "output_type": "display_data"
    }
   ],
   "source": [
    "start_ns = time.perf_counter_ns()\n",
    "result = hdroller.d10.explode(max_depth=9).keep_highest(10, 5)\n",
    "end_ns = time.perf_counter_ns()\n",
    "elapsed_ms = round((end_ns - start_ns) * 1e-6)\n",
    "print(f'Computation time: {elapsed_ms} ms')\n",
    "\n",
    "import matplotlib.pyplot as plt\n",
    "\n",
    "fig, ax = plt.subplots()\n",
    "ax.plot(result.outcomes(), result.pmf(percent=True))\n",
    "ax.set_title('L5R 10 keep 5')\n",
    "ax.set_xlabel('Outcome')\n",
    "ax.set_xlim(0, 100)\n",
    "ax.set_ylim(0)\n",
    "ax.grid(True)\n",
    "plt.show()"
   ]
  },
  {
   "cell_type": "code",
   "execution_count": null,
   "id": "1e889b3a-5596-467e-b3ee-00d3fa50094b",
   "metadata": {},
   "outputs": [],
   "source": []
  }
 ],
 "metadata": {
  "kernelspec": {
   "display_name": "Python 3 (ipykernel)",
   "language": "python",
   "name": "python3"
  },
  "language_info": {
   "codemirror_mode": {
    "name": "ipython",
    "version": 3
   },
   "file_extension": ".py",
   "mimetype": "text/x-python",
   "name": "python",
   "nbconvert_exporter": "python",
   "pygments_lexer": "ipython3",
   "version": "3.9.10"
  }
 },
 "nbformat": 4,
 "nbformat_minor": 5
}
