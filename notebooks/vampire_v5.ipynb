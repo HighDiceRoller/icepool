{
  "metadata": {
    "kernelspec": {
      "name": "python",
      "display_name": "Python (Pyodide)",
      "language": "python"
    },
    "language_info": {
      "codemirror_mode": {
        "name": "python",
        "version": 3
      },
      "file_extension": ".py",
      "mimetype": "text/x-python",
      "name": "python",
      "nbconvert_exporter": "python",
      "pygments_lexer": "ipython3",
      "version": "3.8"
    }
  },
  "nbformat_minor": 5,
  "nbformat": 4,
  "cells": [
    {
      "cell_type": "markdown",
      "source": "## *Vampire* 5th edition\n\n[Official site.](https://www.worldofdarkness.com/vampire-the-masquerade)\n\nThis edition works as follows:\n\n1. Roll a pool of d10s. Some of these will be normal dice, and some will be Hunger dice.\n2. Count each 6+ as a success.\n3. For each pair of 10s, add two additional successes (for a total of four successes from those two dice).\n4. If the total number of successes meets or exceeds the difficulty, it's a win. Otherwise it's a loss.\n\nIn addition to the binary win/loss aspect of the outcome, there are the following special rules:\n\n* A win with at least one pair of 10s is a **critical win**.\n* However, a critical win with at least one Hunger die showing a 10 becomes a **messy critical** instead.\n* A loss with at least one Hunger die showing a 1 is a **bestial failure**.",
      "metadata": {},
      "id": "61d25f08-19c9-4e3d-8d29-a4e6184c1b4d"
    },
    {
      "cell_type": "code",
      "source": "%pip install icepool\n\nimport icepool",
      "metadata": {
        "trusted": true
      },
      "execution_count": 1,
      "outputs": [],
      "id": "9345c6db-e983-400b-a1b1-5533f1b3ddaa"
    },
    {
      "cell_type": "markdown",
      "source": "### Method 1: One-hot representation",
      "metadata": {},
      "id": "39d607eb-fb52-4fdb-be3f-18568cd6283b"
    },
    {
      "cell_type": "code",
      "source": "# One method is to express the possible outcomes using a tuple \n# that has exactly one element set according to the symbol rolled.\n# This is called a \"one-hot\" representation.\n# In this case we have four types of symbols.\n\nfrom icepool import Die, vectorize\n\nnormal_die = Die({vectorize(0, 0, 0, 0): 5, # failure\n                  vectorize(0, 1, 0, 0): 4, # success\n                  vectorize(0, 0, 1, 0): 1, # crit\n                 })\nhunger_die = Die({vectorize(1, 0, 0, 0): 1, # bestial failure\n                  vectorize(0, 0, 0, 0): 4, # failure\n                  vectorize(0, 1, 0, 0): 4, # success\n                  vectorize(0, 0, 0, 1): 1, # messy crit\n                 })\n\n\n\n# Summing the dice produces the total number of each symbol rolled.\n# The @ operator means roll the left die, then roll that many of the right die and sum.\n# For outcomes that are tuples, sums are performed element-wise.\ntotal = 3 @ normal_die + 2 @ hunger_die\n\n# Then we can use a function to compute the final result.\ndef eval_one_hot(hunger_botch, success, crit, hunger_crit):\n    total_crit = crit + hunger_crit\n    success += total_crit + 2 * (total_crit // 2)\n    if total_crit >= 2:\n        if hunger_crit > 0:\n            win_type = 'messy'\n        else:\n            win_type = 'crit'\n    else:\n        win_type = ''\n    loss_type = 'bestial' if hunger_botch > 0 else ''\n    return success, win_type, loss_type\n\n# star=1 unpacks the tuples before giving them to eval_one_hot.\nresult = total.map(eval_one_hot, star=1)\nprint(result)",
      "metadata": {
        "trusted": true
      },
      "execution_count": 2,
      "outputs": [
        {
          "name": "stdout",
          "text": "Die with denominator 100000\n\n| Outcome[0] | Outcome[1] | Outcome[2] | Quantity | Probability |\n|-----------:|:-----------|:-----------|---------:|------------:|\n|          0 |            |            |     2000 |   2.000000% |\n|          0 |            | bestial    |     1125 |   1.125000% |\n|          1 |            |            |    11000 |  11.000000% |\n|          1 |            | bestial    |     4625 |   4.625000% |\n|          2 |            |            |    23160 |  23.160000% |\n|          2 |            | bestial    |     6840 |   6.840000% |\n|          3 |            |            |    23632 |  23.632000% |\n|          3 |            | bestial    |     4368 |   4.368000% |\n|          4 |            |            |    11776 |  11.776000% |\n|          4 |            | bestial    |     1024 |   1.024000% |\n|          4 | crit       |            |      240 |   0.240000% |\n|          4 | crit       | bestial    |      135 |   0.135000% |\n|          4 | messy      |            |      725 |   0.725000% |\n|          4 | messy      | bestial    |      150 |   0.150000% |\n|          5 |            |            |     2304 |   2.304000% |\n|          5 | crit       |            |      688 |   0.688000% |\n|          5 | crit       | bestial    |      237 |   0.237000% |\n|          5 | messy      |            |     2055 |   2.055000% |\n|          5 | messy      | bestial    |      270 |   0.270000% |\n|          6 | crit       |            |      656 |   0.656000% |\n|          6 | crit       | bestial    |      104 |   0.104000% |\n|          6 | messy      |            |     1920 |   1.920000% |\n|          6 | messy      | bestial    |      120 |   0.120000% |\n|          7 | crit       |            |      208 |   0.208000% |\n|          7 | messy      |            |      592 |   0.592000% |\n|          8 | messy      |            |       23 |   0.023000% |\n|          8 | messy      | bestial    |        2 |   0.002000% |\n|          9 | messy      |            |       21 |   0.021000% |\n\n\n",
          "output_type": "stream"
        }
      ],
      "id": "11adbeca-6ffc-4869-909f-c389f7ddba91"
    },
    {
      "cell_type": "code",
      "source": "# We can use `marginals[]` to marginalize dimensions from the result.\n# For example, dimension 1 is the win type.\nprint(result.marginals[1])",
      "metadata": {
        "trusted": true
      },
      "execution_count": 3,
      "outputs": [
        {
          "name": "stdout",
          "text": "Die with denominator 100000\n\n| Outcome | Quantity | Probability |\n|:--------|---------:|------------:|\n|         |    91854 |  91.854000% |\n| crit    |     2268 |   2.268000% |\n| messy   |     5878 |   5.878000% |\n\n\n",
          "output_type": "stream"
        }
      ],
      "id": "054b3a12-359d-4835-82a3-903fb45de3ed"
    },
    {
      "cell_type": "markdown",
      "source": "### Method 2: MultisetEvaluator",
      "metadata": {},
      "id": "04f6d12d-7a67-4004-991d-478c6e734771"
    },
    {
      "cell_type": "code",
      "source": "# Another method is to use `MultisetEvaluator` with a normal pool and a hunger pool.\n# This is a more complex solution, but may be a helpful example.\n# In many cases, `MultisetEvaluator` is more computationally efficient.\n\n# The die to use.\nv5_die = Die({'botch' : 1, 'failure' : 4, 'success' : 4, 'crit' : 1})\n\n# This evaluates the results of the two pools.\nclass EvalVampire5(icepool.MultisetEvaluator):\n    # next_state() computes a \"running total\". In this case, this is:\n    # * The number of successes.\n    # * The type of win, if the result is a win.\n    # * The type of loss, if the result is a loss.\n    def next_state(self, state, outcome, normal, hunger):\n        success, win_type, loss_type = state or (0, '', '')\n        if outcome == 'crit':\n            total_crit = normal + hunger\n            # Crits count as successes, and every pair adds 2 more.\n            success += total_crit + 2 * (total_crit // 2)\n            if total_crit >= 2:\n                if hunger > 0:\n                    win_type = 'messy'\n                else:\n                    win_type = 'crit'\n        elif outcome == 'success':\n            success += normal + hunger\n        elif outcome == 'botch':\n            if hunger > 0:\n                loss_type = 'bestial'\n        else:  # normal loss\n            pass\n\n        return success, win_type, loss_type\n\nv5_eval = EvalVampire5()\n\n# Now we can construct the normal and Hunger pools and evaluate:\nresult = v5_eval(v5_die.pool(3), v5_die.pool(2))\nprint(result)",
      "metadata": {
        "trusted": true
      },
      "execution_count": 4,
      "outputs": [
        {
          "name": "stdout",
          "text": "Die with denominator 100000\n\n| Outcome[0] | Outcome[1] | Outcome[2] | Quantity | Probability |\n|-----------:|:-----------|:-----------|---------:|------------:|\n|          0 |            |            |     2000 |   2.000000% |\n|          0 |            | bestial    |     1125 |   1.125000% |\n|          1 |            |            |    11000 |  11.000000% |\n|          1 |            | bestial    |     4625 |   4.625000% |\n|          2 |            |            |    23160 |  23.160000% |\n|          2 |            | bestial    |     6840 |   6.840000% |\n|          3 |            |            |    23632 |  23.632000% |\n|          3 |            | bestial    |     4368 |   4.368000% |\n|          4 |            |            |    11776 |  11.776000% |\n|          4 |            | bestial    |     1024 |   1.024000% |\n|          4 | crit       |            |      240 |   0.240000% |\n|          4 | crit       | bestial    |      135 |   0.135000% |\n|          4 | messy      |            |      725 |   0.725000% |\n|          4 | messy      | bestial    |      150 |   0.150000% |\n|          5 |            |            |     2304 |   2.304000% |\n|          5 | crit       |            |      688 |   0.688000% |\n|          5 | crit       | bestial    |      237 |   0.237000% |\n|          5 | messy      |            |     2055 |   2.055000% |\n|          5 | messy      | bestial    |      270 |   0.270000% |\n|          6 | crit       |            |      656 |   0.656000% |\n|          6 | crit       | bestial    |      104 |   0.104000% |\n|          6 | messy      |            |     1920 |   1.920000% |\n|          6 | messy      | bestial    |      120 |   0.120000% |\n|          7 | crit       |            |      208 |   0.208000% |\n|          7 | messy      |            |      592 |   0.592000% |\n|          8 | messy      |            |       23 |   0.023000% |\n|          8 | messy      | bestial    |        2 |   0.002000% |\n|          9 | messy      |            |       21 |   0.021000% |\n\n\n",
          "output_type": "stream"
        }
      ],
      "id": "4e5ac015-ff2f-4f3d-9bc5-e80ad7a98a1e"
    }
  ]
}