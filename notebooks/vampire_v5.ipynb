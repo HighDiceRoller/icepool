{
  "metadata": {
    "kernelspec": {
      "name": "python",
      "display_name": "Pyolite",
      "language": "python"
    },
    "language_info": {
      "codemirror_mode": {
        "name": "python",
        "version": 3
      },
      "file_extension": ".py",
      "mimetype": "text/x-python",
      "name": "python",
      "nbconvert_exporter": "python",
      "pygments_lexer": "ipython3",
      "version": "3.8"
    }
  },
  "nbformat_minor": 5,
  "nbformat": 4,
  "cells": [
    {
      "cell_type": "markdown",
      "source": "## *Vampire* 5th edition\n\n[Official site.](https://www.worldofdarkness.com/vampire-the-masquerade)\n\nThis edition works as follows:\n\n1. Roll a pool of d10s. Some of these will be normal dice, and some will be Hunger dice.\n2. Count each 6+ as a success.\n3. For each pair of 10s, add two additional successes (for a total of four from those two dice).\n4. If the total number of successes meets or exceeds the difficulty, you win. Otherwise you lose.\n\nIn addition to the binary win/lose aspect of the outcome, there are the following special rules:\n\n* If you won and had at least one pair of 10s, you score a **critical win**.\n* However, if you scored a critical win and at least one Hunger die shows a 10, it becomes a **messy critical** instead.\n* If you lost and at least one Hunger die shows a 1, you score a **bestial failure**.\n\n## Code\n\nThis example will demonstrate a couple features of `icepool`:\n\n* Non-integer outcomes.\n* `EvalPool` with multiple pools. Each pool will generate an independent `count`.\n* Multivariate dice: Dice will have three axes, namely the number of successes, the win type, and the lose type.",
      "metadata": {},
      "id": "61d25f08-19c9-4e3d-8d29-a4e6184c1b4d"
    },
    {
      "cell_type": "code",
      "source": "import piplite\nawait piplite.install(\"icepool\")\n\nimport icepool",
      "metadata": {
        "trusted": true
      },
      "execution_count": 1,
      "outputs": [],
      "id": "9345c6db-e983-400b-a1b1-5533f1b3ddaa"
    },
    {
      "cell_type": "markdown",
      "source": "We start by translating the V5 dice mechanic into an `EvalPool`.",
      "metadata": {},
      "id": "c222af2e-0c9b-4aa8-9118-65bf2aa4358a"
    },
    {
      "cell_type": "code",
      "source": "class EvalVampire5(icepool.EvalPool):\n    def next_state(self, prev_state, outcome, normal, hunger):\n        if prev_state is None:\n            successes, win_type, lose_type = 0, '', ''\n        else:\n            successes, win_type, lose_type = prev_state\n        if outcome == 'crit':\n            total_crit = normal + hunger\n            # Crits count as successes, and every pair adds 2 more.\n            successes += total_crit + 2 * (total_crit // 2)\n            if total_crit >= 2:\n                if hunger > 0:\n                    win_type = 'messy'\n                else:\n                    win_type = 'crit'\n        elif outcome == 'success':\n            successes += normal + hunger\n        elif outcome == 'botch':\n            if hunger > 0:\n                lose_type = 'bestial'\n        else:  # normal loss\n            pass\n\n        return successes, win_type, lose_type\n\nv5_eval = EvalVampire5()",
      "metadata": {
        "trusted": true
      },
      "execution_count": 2,
      "outputs": [],
      "id": "4e5ac015-ff2f-4f3d-9bc5-e80ad7a98a1e"
    },
    {
      "cell_type": "markdown",
      "source": "Along with this, the V5 die:",
      "metadata": {},
      "id": "0fa89d84-c043-49b6-ad88-0926f06dcfef"
    },
    {
      "cell_type": "code",
      "source": "v5_die = icepool.Die({'botch' : 1, 'failure' : 4, 'success' : 4, 'crit' : 1})",
      "metadata": {
        "trusted": true
      },
      "execution_count": 3,
      "outputs": [],
      "id": "56282aa9-424f-4ad0-85db-3eb130cbaf7f"
    },
    {
      "cell_type": "markdown",
      "source": "Now we can construct the normal and Hunger pools and evaluate:",
      "metadata": {},
      "id": "40348617-0c7a-4ec6-bea4-ab5991066364"
    },
    {
      "cell_type": "code",
      "source": "result = v5_eval(v5_die.pool(3), v5_die.pool(2))\nprint(result)",
      "metadata": {
        "trusted": true
      },
      "execution_count": 4,
      "outputs": [
        {
          "name": "stdout",
          "text": "Denominator: 100000\n\n| Outcome[0] | Outcome[1] | Outcome[2] | Weights | Probability |\n|-----------:|-----------:|-----------:|--------:|------------:|\n|          0 |            |            |    2000 |   2.000000% |\n|          0 |            |    bestial |    1125 |   1.125000% |\n|          1 |            |            |   11000 |  11.000000% |\n|          1 |            |    bestial |    4625 |   4.625000% |\n|          2 |            |            |   23160 |  23.160000% |\n|          2 |            |    bestial |    6840 |   6.840000% |\n|          3 |            |            |   23632 |  23.632000% |\n|          3 |            |    bestial |    4368 |   4.368000% |\n|          4 |            |            |   11776 |  11.776000% |\n|          4 |            |    bestial |    1024 |   1.024000% |\n|          4 |       crit |            |     240 |   0.240000% |\n|          4 |       crit |    bestial |     135 |   0.135000% |\n|          4 |      messy |            |     725 |   0.725000% |\n|          4 |      messy |    bestial |     150 |   0.150000% |\n|          5 |            |            |    2304 |   2.304000% |\n|          5 |       crit |            |     688 |   0.688000% |\n|          5 |       crit |    bestial |     237 |   0.237000% |\n|          5 |      messy |            |    2055 |   2.055000% |\n|          5 |      messy |    bestial |     270 |   0.270000% |\n|          6 |       crit |            |     656 |   0.656000% |\n|          6 |       crit |    bestial |     104 |   0.104000% |\n|          6 |      messy |            |    1920 |   1.920000% |\n|          6 |      messy |    bestial |     120 |   0.120000% |\n|          7 |       crit |            |     208 |   0.208000% |\n|          7 |      messy |            |     592 |   0.592000% |\n|          8 |      messy |            |      23 |   0.023000% |\n|          8 |      messy |    bestial |       2 |   0.002000% |\n|          9 |      messy |            |      21 |   0.021000% |\n\n",
          "output_type": "stream"
        }
      ],
      "id": "be640eb4-cb2b-4911-a6bd-2936cc5c7399"
    },
    {
      "cell_type": "markdown",
      "source": "We can use the `[]` operator to marginalize dimensions from the result.\nFor example, dimension 1 is the win type.",
      "metadata": {},
      "id": "bd7f1d4f-b854-4131-bc3b-78b7470a2532"
    },
    {
      "cell_type": "code",
      "source": "print(result[1])",
      "metadata": {
        "trusted": true
      },
      "execution_count": 5,
      "outputs": [
        {
          "name": "stdout",
          "text": "Denominator: 100000\n\n| Outcome | Weights | Probability |\n|--------:|--------:|------------:|\n|         |   91854 |  91.854000% |\n|    crit |    2268 |   2.268000% |\n|   messy |    5878 |   5.878000% |\n\n",
          "output_type": "stream"
        }
      ],
      "id": "054b3a12-359d-4835-82a3-903fb45de3ed"
    },
    {
      "cell_type": "code",
      "source": "",
      "metadata": {},
      "execution_count": null,
      "outputs": [],
      "id": "be430bdc-4e5b-4109-89f5-850321d4baf5"
    }
  ]
}