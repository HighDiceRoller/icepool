{
  "metadata": {
    "language_info": {
      "codemirror_mode": {
        "name": "python",
        "version": 3
      },
      "file_extension": ".py",
      "mimetype": "text/x-python",
      "name": "python",
      "nbconvert_exporter": "python",
      "pygments_lexer": "ipython3",
      "version": "3.8"
    },
    "kernelspec": {
      "name": "python",
      "display_name": "Pyolite",
      "language": "python"
    }
  },
  "nbformat_minor": 4,
  "nbformat": 4,
  "cells": [
    {
      "cell_type": "markdown",
      "source": "## Ironsworn\n\n[Official site.](https://www.ironswornrpg.com/)\n\nRoll 1d6 + modifier (action die) against two d10s (challenge dice).\n\n* If the action die is > both challenge dice, it's a strong hit.\n* If it is > than one challenge die, it's a weak hit.\n* Otherwise, it's a miss.\n\nAdditionally, there is a momentum score.\n\n* A positive momentum can be used to zero out any challenge die less than its value.\n* A negative momentum zeroes out any action die equal to its value.",
      "metadata": {}
    },
    {
      "cell_type": "code",
      "source": "import piplite\nawait piplite.install(\"hdroller\")\n\nimport hdroller",
      "metadata": {
        "trusted": true
      },
      "execution_count": 1,
      "outputs": []
    },
    {
      "cell_type": "markdown",
      "source": "## The classic mistake in implementing *Ironsworn*\n\nLet's start without momentum and add it later.\n\nThe classic mistake with finding probabilities for *Ironsworn* is that this doesn't work:",
      "metadata": {}
    },
    {
      "cell_type": "code",
      "source": "def does_not_work(modifier):\n    return 2 @ (hdroller.d6 + modifier > hdroller.d10)\n\nprint(does_not_work(1))",
      "metadata": {
        "trusted": true
      },
      "execution_count": 2,
      "outputs": [
        {
          "name": "stdout",
          "text": "Denominator: 3600\n| Outcome | Weight | Probability |\n|--------:|-------:|------------:|\n|       0 |   1521 |  42.250000% |\n|       1 |   1638 |  45.500000% |\n|       2 |    441 |  12.250000% |\n\n",
          "output_type": "stream"
        }
      ]
    },
    {
      "cell_type": "markdown",
      "source": "The trouble with this is that it effectively rolls two independent contests of d6 + modifier against d10, not using the same d6 against both.\nThis overestimates the chance of the central outcome (weak hit).\n\n## Correct ways of implementing *Ironsworn*\n\nA correct way to do this would be to use the `apply()` function to the three dice:",
      "metadata": {}
    },
    {
      "cell_type": "code",
      "source": "def using_apply(modifier):\n    def func(a, c1, c2):\n        return (a > c1) + (a > c2)\n    return hdroller.apply(func, hdroller.d6 + modifier, hdroller.d10, hdroller.d10)\n\nprint(using_apply(1))",
      "metadata": {
        "trusted": true
      },
      "execution_count": 3,
      "outputs": [
        {
          "name": "stdout",
          "text": "Denominator: 600\n| Outcome | Weight | Probability |\n|--------:|-------:|------------:|\n|       0 |    271 |  45.166667% |\n|       1 |    238 |  39.666667% |\n|       2 |     91 |  15.166667% |\n\n",
          "output_type": "stream"
        }
      ]
    },
    {
      "cell_type": "markdown",
      "source": "Or you can \"roll\" the action die first, and then use the `sub()` method to compare the result to two d10s.",
      "metadata": {}
    },
    {
      "cell_type": "code",
      "source": "def using_sub(modifier):\n    return (hdroller.d6 + modifier).sub(lambda a: 2 @ (a > hdroller.d10))\n\nprint(using_sub(1))",
      "metadata": {
        "trusted": true
      },
      "execution_count": 4,
      "outputs": [
        {
          "name": "stdout",
          "text": "Denominator: 600\n| Outcome | Weight | Probability |\n|--------:|-------:|------------:|\n|       0 |    271 |  45.166667% |\n|       1 |    238 |  39.666667% |\n|       2 |     91 |  15.166667% |\n\n",
          "output_type": "stream"
        }
      ]
    },
    {
      "cell_type": "markdown",
      "source": "## Adding momentum\n\nNow let's add the momentum mechanic.\n\nWe can do this by modifying the action and challenge dice, which can also be done using the `sub()` method.",
      "metadata": {}
    },
    {
      "cell_type": "code",
      "source": "def using_sub(modifier, momentum):\n    action = hdroller.d6\n    challenge = hdroller.d10\n    if momentum > 1:\n        challenge = challenge.sub(lambda c: 0 if c < momentum else c)\n    if momentum < 0:\n        # You can use a dict to map old outcomes to new outcomes.\n        # Any outcomes not mentioned are preserved.\n        action = action.sub({-momentum: 0})\n    return (action + modifier).sub(lambda a: 2 @ (a > challenge))\n\nprint(using_sub(1, 5))",
      "metadata": {
        "trusted": true
      },
      "execution_count": 8,
      "outputs": [
        {
          "name": "stdout",
          "text": "Denominator: 600\n| Outcome | Weight | Probability |\n|--------:|-------:|------------:|\n|       0 |    185 |  30.833333% |\n|       1 |    290 |  48.333333% |\n|       2 |    125 |  20.833333% |\n\n",
          "output_type": "stream"
        }
      ]
    },
    {
      "cell_type": "code",
      "source": "",
      "metadata": {},
      "execution_count": null,
      "outputs": []
    }
  ]
}