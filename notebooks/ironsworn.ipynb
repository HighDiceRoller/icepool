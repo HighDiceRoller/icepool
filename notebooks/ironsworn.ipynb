{
  "metadata": {
    "language_info": {
      "codemirror_mode": {
        "name": "python",
        "version": 3
      },
      "file_extension": ".py",
      "mimetype": "text/x-python",
      "name": "python",
      "nbconvert_exporter": "python",
      "pygments_lexer": "ipython3",
      "version": "3.8"
    },
    "kernelspec": {
      "name": "python",
      "display_name": "Python (Pyodide)",
      "language": "python"
    }
  },
  "nbformat_minor": 4,
  "nbformat": 4,
  "cells": [
    {
      "cell_type": "markdown",
      "source": "## Ironsworn\n\n[Official site.](https://www.ironswornrpg.com/)\n\nRoll 1d6 + modifier (action die) against two d10s (challenge dice).\n\n* If the action die is > both challenge dice, it's a strong hit.\n* If it is > than one challenge die, it's a weak hit.\n* Otherwise, it's a miss.\n\nAdditionally, there is a momentum score.\n\n* A positive momentum can be used to zero out any challenge die less than its value.\n* A negative momentum zeroes out any action die equal to its value.",
      "metadata": {}
    },
    {
      "cell_type": "code",
      "source": "import piplite\nawait piplite.install(\"icepool\")\n\nimport icepool\nfrom icepool import d6, d10",
      "metadata": {
        "trusted": true
      },
      "execution_count": 1,
      "outputs": []
    },
    {
      "cell_type": "markdown",
      "source": "## The classic mistake in implementing *Ironsworn*\n\nLet's start without momentum and add it later.\n\nThe classic mistake with finding probabilities for *Ironsworn* is that this doesn't work:",
      "metadata": {}
    },
    {
      "cell_type": "code",
      "source": "def does_not_work(mod):\n    return 2 @ (d6 + mod > d10)\n\nprint(does_not_work(1))",
      "metadata": {
        "trusted": true
      },
      "execution_count": 2,
      "outputs": [
        {
          "name": "stdout",
          "text": "Die with denominator 3600\n\n| Outcome | Quantity | Probability |\n|--------:|---------:|------------:|\n|       0 |     1521 |  42.250000% |\n|       1 |     1638 |  45.500000% |\n|       2 |      441 |  12.250000% |\n\n\n",
          "output_type": "stream"
        }
      ]
    },
    {
      "cell_type": "markdown",
      "source": "The trouble with this is that it effectively rolls two independent contests of d6 + modifier against d10, not using the same d6 against both.\nThis overestimates the chance of the central outcome (weak hit).\n\n## Correct ways of implementing *Ironsworn*\n\nA correct way to do this would be to use the `apply()` function to the three dice:",
      "metadata": {}
    },
    {
      "cell_type": "code",
      "source": "def ironsworn(a, mod, c1, c2):\n    action_score = min(a + mod, 10)\n    return (action_score > c1) + (action_score > c2)\n\ndef using_apply(mod):\n    return icepool.apply(ironsworn, d6, mod, d10, d10)\n\nprint(using_apply(1))",
      "metadata": {
        "trusted": true
      },
      "execution_count": 3,
      "outputs": [
        {
          "name": "stdout",
          "text": "Die with denominator 600\n\n| Outcome | Quantity | Probability |\n|--------:|---------:|------------:|\n|       0 |      271 |  45.166667% |\n|       1 |      238 |  39.666667% |\n|       2 |       91 |  15.166667% |\n\n\n",
          "output_type": "stream"
        }
      ]
    },
    {
      "cell_type": "markdown",
      "source": "Or you can \"roll\" the action die first, and then use the `sub()` method to compare the result to two d10s.",
      "metadata": {}
    },
    {
      "cell_type": "code",
      "source": "def using_sub(mod):\n    return (d6 + mod).clip(max_outcome=10).sub(lambda a: 2 @ (a > d10))\n\nprint(using_sub(1))",
      "metadata": {
        "trusted": true
      },
      "execution_count": 4,
      "outputs": [
        {
          "name": "stdout",
          "text": "Die with denominator 600\n\n| Outcome | Quantity | Probability |\n|--------:|---------:|------------:|\n|       0 |      271 |  45.166667% |\n|       1 |      238 |  39.666667% |\n|       2 |       91 |  15.166667% |\n\n\n",
          "output_type": "stream"
        }
      ]
    },
    {
      "cell_type": "markdown",
      "source": "## Momentum\n\nNow let's add the momentum mechanic.\n\nWe can do this by modifying the action and challenge dice, which can also be done using the `sub()` method.",
      "metadata": {}
    },
    {
      "cell_type": "code",
      "source": "def using_sub(mod, momentum):\n    action = d6\n    challenge = d10\n    if momentum > 1:\n        challenge = challenge.sub(lambda c: 0 if c < momentum else c)\n    if momentum < 0:\n        # You can use a dict to map old outcomes to new outcomes.\n        # Any outcomes not mentioned are preserved.\n        action = action.sub({-momentum: 0})\n    return (action + mod).sub(lambda a: 2 @ (a > challenge))\n\nprint(using_sub(1, 5))",
      "metadata": {
        "trusted": true
      },
      "execution_count": 5,
      "outputs": [
        {
          "name": "stdout",
          "text": "Die with denominator 600\n\n| Outcome | Quantity | Probability |\n|--------:|---------:|------------:|\n|       0 |      185 |  30.833333% |\n|       1 |      290 |  48.333333% |\n|       2 |      125 |  20.833333% |\n\n\n",
          "output_type": "stream"
        }
      ]
    },
    {
      "cell_type": "markdown",
      "source": "## Rerolls\n\nHow about the ability to reroll any or all of the dice (thrown simultaneously)? Brute-forcing the solution by trying all possible choices of rerolls on all possible initial rolls is not particularly efficient, but is good enough for a problem of this size.\n\nWe'll produce a table of the mean result for a given modifier.",
      "metadata": {}
    },
    {
      "cell_type": "code",
      "source": "def ironsworn_optimal_reroll(a, mod, c1, c2):\n    best_result = icepool.Die([0])\n    for a_final in [a, d6]:\n        for c1_final in [c1, d10]:\n            for c2_final in [c2, d10]:\n                result = icepool.apply(ironsworn, a_final, mod, c1_final, c2_final)\n                if result.mean() > best_result.mean():\n                    best_result = result\n    return best_result\n\nprint('| Mod | Without reroll | With reroll |')\nprint('|----:|---------------:|------------:|')\nfor mod in range(-4, 10):\n    without_reroll = icepool.apply(ironsworn, d6, mod, d10, d10)\n    with_reroll = icepool.apply(ironsworn_optimal_reroll, d6, mod, d10, d10)\n    print(f'| {mod} | {without_reroll.mean():0.3f} | {with_reroll.mean():0.3f} |')\n    ",
      "metadata": {
        "trusted": true
      },
      "execution_count": null,
      "outputs": [
        {
          "name": "stdout",
          "text": "| Mod | Without reroll | With reroll |\n|----:|---------------:|------------:|\n| -4 | 0.033 | 0.116 |\n| -3 | 0.100 | 0.304 |\n| -2 | 0.200 | 0.532 |\n| -1 | 0.333 | 0.780 |\n| 0 | 0.500 | 1.030 |\n| 1 | 0.700 | 1.268 |\n| 2 | 0.900 | 1.475 |\n| 3 | 1.100 | 1.646 |\n| 4 | 1.300 | 1.782 |\n| 5 | 1.467 | 1.874 |\n| 6 | 1.600 | 1.930 |\n| 7 | 1.700 | 1.961 |\n| 8 | 1.767 | 1.976 |\n",
          "output_type": "stream"
        }
      ]
    },
    {
      "cell_type": "code",
      "source": "",
      "metadata": {},
      "execution_count": null,
      "outputs": []
    }
  ]
}