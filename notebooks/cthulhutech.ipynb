{
  "metadata": {
    "language_info": {
      "codemirror_mode": {
        "name": "python",
        "version": 3
      },
      "file_extension": ".py",
      "mimetype": "text/x-python",
      "name": "python",
      "nbconvert_exporter": "python",
      "pygments_lexer": "ipython3",
      "version": "3.8"
    },
    "kernelspec": {
      "name": "python",
      "display_name": "Pyolite",
      "language": "python"
    }
  },
  "nbformat_minor": 4,
  "nbformat": 4,
  "cells": [
    {
      "cell_type": "markdown",
      "source": "## CthulhuTech / Framewerk\n\nIn this system, the player rolls a pool of d10s. The player may choose one of the following:\n\n* One matching set of at least 1 die.\n* One straight of at least 3 dice.\n\nAll of those dice are summed to form the result.",
      "metadata": {}
    },
    {
      "cell_type": "code",
      "source": "import piplite\nawait piplite.install(\"icepool\")\n\nimport icepool\n\nclass CthulhuTechEval(icepool.EvalPool):\n    def next_state(self, state, outcome, count):\n        # This implementation assumes all outcomes are consecutive,\n        # as is the case for CthulhuTech's d10s.\n        # Otherwise we would need to store the previous seen outcome in the state.\n        score, run = state or (0, 0)\n        if count > 0:\n            set_score = outcome * count\n            run_score = 0\n            run += 1\n            if run >= 3:\n                # This could be the triangular formula, but it's clearer this way.\n                for i in range(run): run_score += (outcome - i)\n            score = max(set_score, run_score, score)\n        else:\n            # No dice rolled this number, so the score remains the same.\n            run = 0\n        return score, run\n\n    def final_outcome(self, final_state, *_):\n        # Return just the score.\n        return final_state[0]\n\nimport matplotlib.pyplot as plt\n\ndefault_colors = plt.rcParams['axes.prop_cycle'].by_key()['color']\nevaluator = CthulhuTechEval()\nfigsize = (16, 9)\nfig, ax = plt.subplots(figsize=figsize)\n\nfor num_dice in range(1, 11):\n    pool = icepool.d10.pool(num_dice)\n    result = evaluator.eval(pool)\n    ax.plot(result.outcomes(), result.sf(percent=True))\n    marker_size = 64 if num_dice < 10 else 128\n    ax.scatter(result.median(), 50.0,\n               marker=('$%d$' % num_dice),\n               facecolor=default_colors[num_dice-1],\n               s=marker_size)\n\nax.set_xticks(range(0, 61, 5))\nax.set_yticks(range(0, 101, 10))\nax.set_xlim(0, 60)\nax.set_ylim(0, 100)\nax.set_xlabel('Result')\nax.set_ylabel('Chance of getting at least (%)')\nax.grid()\nplt.show()",
      "metadata": {
        "trusted": true
      },
      "execution_count": null,
      "outputs": []
    }
  ]
}