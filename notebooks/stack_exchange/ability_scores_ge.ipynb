{
  "metadata": {
    "language_info": {
      "codemirror_mode": {
        "name": "python",
        "version": 3
      },
      "file_extension": ".py",
      "mimetype": "text/x-python",
      "name": "python",
      "nbconvert_exporter": "python",
      "pygments_lexer": "ipython3",
      "version": "3.8"
    },
    "kernelspec": {
      "name": "python",
      "display_name": "Pyolite",
      "language": "python"
    }
  },
  "nbformat_minor": 4,
  "nbformat": 4,
  "cells": [
    {
      "cell_type": "markdown",
      "source": "## Probability that one set of dice rolls is greater than or equal to a given set\n\n[StackExchange question.](https://math.stackexchange.com/questions/4379856/probability-that-one-set-of-dice-rolls-is-greater-than-or-equal-to-a-given-set)\n\n### Single ability\n\nFirst, we generate the distribution of a single ability score of 4d6, keep 3 highest. This is small enough for brute force enumeration of all possibilities, though more efficient algorithms do exist. More on this later.",
      "metadata": {}
    },
    {
      "cell_type": "code",
      "source": "import piplite\nawait piplite.install(\"hdroller\")\n\nimport hdroller\n\nsingle_ability = hdroller.d6.keep_highest(4, 3)\n\nprint(single_ability)",
      "metadata": {
        "trusted": true
      },
      "execution_count": 1,
      "outputs": [
        {
          "name": "stdout",
          "text": "Denominator: 1296\n| Outcome | Weight | Probability |\n|--------:|-------:|------------:|\n|       3 |      1 |   0.077160% |\n|       4 |      4 |   0.308642% |\n|       5 |     10 |   0.771605% |\n|       6 |     21 |   1.620370% |\n|       7 |     38 |   2.932099% |\n|       8 |     62 |   4.783951% |\n|       9 |     91 |   7.021605% |\n|      10 |    122 |   9.413580% |\n|      11 |    148 |  11.419753% |\n|      12 |    167 |  12.885802% |\n|      13 |    172 |  13.271605% |\n|      14 |    160 |  12.345679% |\n|      15 |    131 |  10.108025% |\n|      16 |     94 |   7.253086% |\n|      17 |     54 |   4.166667% |\n|      18 |     21 |   1.620370% |\n\n",
          "output_type": "stream"
        }
      ]
    },
    {
      "cell_type": "markdown",
      "source": "### Problem 1\n\nWhat's the chance that the sum of player A's six ability scores is greater than or equal to the sum of player B's six ability scores?\nAddition of probability distributions can be done via convolution, so this is pretty simple.",
      "metadata": {}
    },
    {
      "cell_type": "code",
      "source": "print(6 @ single_ability >= 6 @ single_ability)",
      "metadata": {
        "trusted": true
      },
      "execution_count": 2,
      "outputs": [
        {
          "name": "stdout",
          "text": "Denominator: 22452257707354557240087211123792674816\n| Outcome |                                 Weight | Probability |\n|--------:|---------------------------------------:|------------:|\n|   False | 10773601417436608285167797336637018642 |  47.984490% |\n|    True | 11678656289917948954919413787155656174 |  52.015510% |\n\n",
          "output_type": "stream"
        }
      ]
    },
    {
      "cell_type": "markdown",
      "source": "### Problem 2\n\nNow for the harder problem: what is the chance that there is some pairing of player A's ability scores and player B's ability scores\nsuch that player A's score is greater than or equal to player B's score for each pair? The trick is to express the problem not over the six pairs, but the values the scores can take.\nTo wit: what is the chance, that for all values from 18 to 3, player A will have at least as many scores of at least that value as player B?\n\nFrom here, it turns out we can efficiently solve dice pool problems as long as we phrase the evaluation as\na series of iterative state transitions over tuples of (outcomes, how many dice in each pool rolled that outcome)\nand keep the number of states to a minimum.\n[Here's an (unfortuantely still crude) explanation of the underlying algorithm.](https://gitlab.com/highdiceroller/hdroller/-/wikis/dice%20pool%20algorithm)",
      "metadata": {}
    },
    {
      "cell_type": "code",
      "source": "class SortedAllGe(hdroller.EvalPool):\n    def next_state(self, state, outcome, a, b):\n        # state is how many dice A has of outcome or higher minus how many dice B has of outcome or higher,\n        # but \"sticks\" at -1 if it ever goes negative, indicating that B had a higher paired die at some point.\n        if state is None:\n            state = 0\n        elif state < 0:\n            return -1\n        state += a - b\n        if state < 0:\n            return -1\n        else:\n            return state\n        \n    def final_outcome(self, final_state, *_):\n        return final_state >= 0\n    \n    def direction(self, *_):\n        # See outcomes in descending order.\n        return -1\n    \nevaluator = SortedAllGe()\nprint(evaluator.eval(single_ability.pool(6), single_ability.pool(6)))",
      "metadata": {
        "trusted": true
      },
      "execution_count": 3,
      "outputs": [
        {
          "name": "stdout",
          "text": "Denominator: 22452257707354557240087211123792674816\n| Outcome |                                 Weight | Probability |\n|--------:|---------------------------------------:|------------:|\n|   False | 17750571119832007830956108494444318705 |  79.059181% |\n|    True |  4701686587522549409131102629348356111 |  20.940819% |\n\n",
          "output_type": "stream"
        }
      ]
    },
    {
      "cell_type": "markdown",
      "source": "In fact, we can also formulate the problem of \"roll N dice, keep the M highest\" in this way.\nThis is what underlies the `keep_highest()` method at the top.\nWhile more efficient algorithms do exist for that specific problem, this is still fairly fast and reduces the amount of bespoke code.",
      "metadata": {}
    },
    {
      "cell_type": "code",
      "source": "class SumPool(hdroller.EvalPool):\n    \"\"\" A simple `EvalPool` that just sums the dice in a pool. \"\"\"\n    def next_state(self, state, outcome, count):\n        \"\"\" Add the dice to the running total. \"\"\"\n        if state is None:\n            return outcome * count\n        else:\n            return state + outcome * count\n    \n    def direction(self, *pools):\n        \"\"\" This eval doesn't care about direction. \"\"\"\n        return 0\n",
      "metadata": {
        "trusted": true
      },
      "execution_count": 4,
      "outputs": []
    }
  ]
}