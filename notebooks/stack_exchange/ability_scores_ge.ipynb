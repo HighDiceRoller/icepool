{
  "metadata": {
    "language_info": {
      "codemirror_mode": {
        "name": "python",
        "version": 3
      },
      "file_extension": ".py",
      "mimetype": "text/x-python",
      "name": "python",
      "nbconvert_exporter": "python",
      "pygments_lexer": "ipython3",
      "version": "3.8"
    },
    "kernelspec": {
      "name": "python",
      "display_name": "Pyolite",
      "language": "python"
    }
  },
  "nbformat_minor": 4,
  "nbformat": 4,
  "cells": [
    {
      "cell_type": "markdown",
      "source": "## Probability that one set of dice rolls is greater than or equal to a given set\n\n[StackExchange question.](https://math.stackexchange.com/questions/4379856/probability-that-one-set-of-dice-rolls-is-greater-than-or-equal-to-a-given-set)\n\n### Single ability\n\nFirst, we generate the distribution of a single ability score of 4d6, keep 3 highest. This is small enough for brute force enumeration of all possibilities, though more efficient algorithms do exist. More on this later.",
      "metadata": {}
    },
    {
      "cell_type": "code",
      "source": "import piplite\nawait piplite.install(\"hdroller\")\n\nimport hdroller\n\nsingle_ability = hdroller.d6.keep_highest(4, 3)\n\nprint(single_ability)",
      "metadata": {
        "trusted": true
      },
      "execution_count": 1,
      "outputs": [
        {
          "name": "stdout",
          "text": "Denominator: 1296\n| Outcome | Weight | Probability |\n|--------:|-------:|------------:|\n|       3 |      1 |   0.077160% |\n|       4 |      4 |   0.308642% |\n|       5 |     10 |   0.771605% |\n|       6 |     21 |   1.620370% |\n|       7 |     38 |   2.932099% |\n|       8 |     62 |   4.783951% |\n|       9 |     91 |   7.021605% |\n|      10 |    122 |   9.413580% |\n|      11 |    148 |  11.419753% |\n|      12 |    167 |  12.885802% |\n|      13 |    172 |  13.271605% |\n|      14 |    160 |  12.345679% |\n|      15 |    131 |  10.108025% |\n|      16 |     94 |   7.253086% |\n|      17 |     54 |   4.166667% |\n|      18 |     21 |   1.620370% |\n\n",
          "output_type": "stream"
        }
      ]
    },
    {
      "cell_type": "markdown",
      "source": "### Problem 1\n\nWhat's the chance that the sum of player A's six ability scores is greater than or equal to the sum of player B's six ability scores?\nAddition of probability distributions can be done via convolution, so this is pretty simple.",
      "metadata": {}
    },
    {
      "cell_type": "code",
      "source": "print(6 @ single_ability >= 6 @ single_ability)",
      "metadata": {
        "trusted": true
      },
      "execution_count": 2,
      "outputs": [
        {
          "name": "stdout",
          "text": "Denominator: 22452257707354557240087211123792674816\n| Outcome |                                 Weight | Probability |\n|--------:|---------------------------------------:|------------:|\n|   False | 10773601417436608285167797336637018642 |  47.984490% |\n|    True | 11678656289917948954919413787155656174 |  52.015510% |\n\n",
          "output_type": "stream"
        }
      ]
    },
    {
      "cell_type": "markdown",
      "source": "### Problem 2\n\nNow for the harder problem: what is the chance that there is some pairing of player A's ability scores and player B's ability scores\nsuch that player A's score is greater than or equal to player B's score for each pair? The trick is to express the problem not over the six pairs, but the values the scores can take.\nTo wit: what is the chance, that for all values from 18 to 3, player A will have at least as many scores of at least that value as player B? (The equivalency is left as an exercise for the reader.)\n\nFrom here, it turns out we can efficiently solve dice pool problems as long as we phrase the evaluation as\na series of iterative state transitions over tuples of (outcome, how many dice in each pool rolled that outcome)\nand keep the number of states to a minimum. In this case the \"dice\" in the pool are entire ability scores rather than individual d6s.\n[Here's an (unfortuantely still crude) explanation of the underlying algorithm.](https://gitlab.com/highdiceroller/hdroller/-/wikis/dice%20pool%20algorithm)",
      "metadata": {}
    },
    {
      "cell_type": "code",
      "source": "class SortedAllGe(hdroller.EvalPool):\n    def next_state(self, state, outcome, a, b):\n        # state is how many dice A has of outcome or higher minus how many dice B has of outcome or higher,\n        # but \"sticks\" at -1 if it ever goes negative, indicating that B had a higher paired die at some point.\n        if state is None:\n            state = 0\n        elif state < 0:\n            return -1\n        state += a - b\n        if state < 0:\n            return -1\n        else:\n            return state\n        \n    def final_outcome(self, final_state, *_):\n        return final_state >= 0\n    \n    def direction(self, *_):\n        # See outcomes in descending order.\n        return -1\n    \nevaluator = SortedAllGe()\nprint(evaluator.eval(single_ability.pool(6), single_ability.pool(6)))",
      "metadata": {
        "trusted": true
      },
      "execution_count": 3,
      "outputs": [
        {
          "name": "stdout",
          "text": "Denominator: 22452257707354557240087211123792674816\n| Outcome |                                 Weight | Probability |\n|--------:|---------------------------------------:|------------:|\n|   False | 17750571119832007830956108494444318705 |  79.059181% |\n|    True |  4701686587522549409131102629348356111 |  20.940819% |\n\n",
          "output_type": "stream"
        }
      ]
    },
    {
      "cell_type": "markdown",
      "source": "Checking this against a Monte Carlo simulation:",
      "metadata": {}
    },
    {
      "cell_type": "code",
      "source": "def sorted_all_ge_mc(n):\n    result = 0\n    for i in range(n):\n        a_scores = sorted(single_ability.sample() for i in range(6))\n        b_scores = sorted(single_ability.sample() for i in range(6))\n        if all(a >= b for a, b in zip(a_scores, b_scores)):\n            result += 1\n    return result / n\n\nprint(sorted_all_ge_mc(10000))",
      "metadata": {
        "trusted": true
      },
      "execution_count": 4,
      "outputs": [
        {
          "name": "stdout",
          "text": "0.2075\n",
          "output_type": "stream"
        }
      ]
    },
    {
      "cell_type": "markdown",
      "source": "In fact, we can also formulate the problem of \"roll N dice, keep the M highest\" in this way.\nThis is what underlies the `keep_highest()` method at the top.\nWhile more efficient algorithms do exist for that specific problem, this is still fairly fast and reduces the amount of bespoke code. The evaluation simply sums all observed dice:",
      "metadata": {}
    },
    {
      "cell_type": "code",
      "source": "class SumPool(hdroller.EvalPool):\n    \"\"\" A simple `EvalPool` that just sums the dice in a pool. \"\"\"\n    def next_state(self, state, outcome, count):\n        \"\"\" Add the dice to the running total. \"\"\"\n        if state is None:\n            return outcome * count\n        else:\n            return state + outcome * count\n    \n    def direction(self, *pools):\n        \"\"\" This eval doesn't care about direction. \"\"\"\n        return 0",
      "metadata": {
        "trusted": true
      },
      "execution_count": 5,
      "outputs": []
    },
    {
      "cell_type": "markdown",
      "source": "and the \"keep highest\" aspect is a property of the pool, which is already taken into account by the time `next_state()` sees the `count` parameter.\n\n## Variant: at least one score strictly greater than\n\nThis is the chance that A's scores are strictly better than B's scores.\n\nWe can either subtract off the chance that A and B will have exactly the same sorted array, or we can explicitly encode it into the evaluation function:",
      "metadata": {}
    },
    {
      "cell_type": "code",
      "source": "class StrictlyBetter(hdroller.EvalPool):\n    def next_state(self, state, outcome, a, b):\n        # This time we explicitly store whether each side had some score up on the other.\n        # This increases the state space and is therefore less efficient, but is still quite fast.\n        advantage, a_had_one_up, b_had_one_up = state or (0, False, False)\n        advantage += a - b\n        if advantage > 0:\n            a_had_one_up = True\n        if advantage < 0:\n            b_had_one_up = True\n        return advantage, a_had_one_up, b_had_one_up\n        \n    def final_outcome(self, final_state, *_):\n        _, a_had_one_up, b_had_one_up = final_state\n        if a_had_one_up and not b_had_one_up:\n            return 'a strictly better'\n        elif b_had_one_up and not a_had_one_up:\n            return 'b strictly better'\n        elif not (a_had_one_up or b_had_one_up):\n            return 'exactly the same'\n        else:\n            return 'mixed result'\n    \n    def direction(self, *_):\n        # See outcomes in descending order.\n        return -1\n    \nevaluator = StrictlyBetter()\nprint(evaluator.eval(single_ability.pool(6), single_ability.pool(6)))",
      "metadata": {
        "trusted": true
      },
      "execution_count": 9,
      "outputs": [
        {
          "name": "stdout",
          "text": "Denominator: 22452257707354557240087211123792674816\n|           Outcome |                                 Weight | Probability |\n|------------------:|---------------------------------------:|------------:|\n| a strictly better |  4696617436843743365666704597889926627 |  20.918241% |\n| b strictly better |  4696617436843743365666704597889926627 |  20.918241% |\n|  exactly the same |     5069150678806043464398031458429484 |   0.022577% |\n|      mixed result | 13053953682988264465289403896554392078 |  58.140940% |\n\n",
          "output_type": "stream"
        }
      ]
    },
    {
      "cell_type": "code",
      "source": "",
      "metadata": {},
      "execution_count": null,
      "outputs": []
    }
  ]
}