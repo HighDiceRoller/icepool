{
  "metadata": {
    "language_info": {
      "codemirror_mode": {
        "name": "python",
        "version": 3
      },
      "file_extension": ".py",
      "mimetype": "text/x-python",
      "name": "python",
      "nbconvert_exporter": "python",
      "pygments_lexer": "ipython3",
      "version": "3.8"
    },
    "kernelspec": {
      "name": "python",
      "display_name": "Pyolite",
      "language": "python"
    }
  },
  "nbformat_minor": 4,
  "nbformat": 4,
  "cells": [
    {
      "cell_type": "markdown",
      "source": "Code for evaluating [this StackExchange question](https://rpg.stackexchange.com/questions/196327/what-are-the-odds-of-rolling-high-all-the-time).",
      "metadata": {}
    },
    {
      "cell_type": "code",
      "source": "import piplite\nawait piplite.install(\"hdroller\")\n\nimport hdroller\n\n# Dimension 0 is the number of dice that scored 15+, dimension 1 is the number that scored 9-.\ndie = hdroller.Die({ (1, 0) : 6, (0, 0) : 5, (0, 1) : 9 })\nseventeen_rolls = 17 @ die\nprint('Chance of rolling 15+ on at least 10 out of 17 dice:\\n', seventeen_rolls.dim[0] >= 10)\nseventeen_rolls_cond = seventeen_rolls.reroll(lambda a, b: a < 10, max_depth=None)\nprint('Chance of rolling 9- on at most 4 dice, conditional on the above:\\n', seventeen_rolls_cond.dim[1] <= 4)",
      "metadata": {
        "trusted": true
      },
      "execution_count": 23,
      "outputs": [
        {
          "name": "stdout",
          "text": "Chance of rolling 15+ on at least 10 out of 17 dice:\n Denominator: 13107200000000000000000\n| Outcome |                  Weight | Probability |\n|--------:|------------------------:|------------:|\n|   False | 12940833918520166973440 |  98.730728% |\n|    True |   166366081479833026560 |   1.269272% |\n\nChance of rolling 9- on at most 4 dice, conditional on the above:\n Denominator: 166366081479833026560\n| Outcome |               Weight | Probability |\n|--------:|---------------------:|------------:|\n|   False | 75088211144104304640 |  45.134327% |\n|    True | 91277870335728721920 |  54.865673% |\n\n",
          "output_type": "stream"
        }
      ]
    },
    {
      "cell_type": "code",
      "source": "print('Versus if the remaining 7 dice were uniform and IID:\\n', 7 @ (hdroller.d20 <= 9) <= 4)",
      "metadata": {
        "trusted": true
      },
      "execution_count": 24,
      "outputs": [
        {
          "name": "stdout",
          "text": "Versus if the remaining 7 dice were uniform and IID:\n Denominator: 1280000000\n| Outcome |     Weight | Probability |\n|--------:|-----------:|------------:|\n|   False |  195747435 |  15.292768% |\n|    True | 1084252565 |  84.707232% |\n\n",
          "output_type": "stream"
        }
      ]
    },
    {
      "cell_type": "code",
      "source": "",
      "metadata": {},
      "execution_count": null,
      "outputs": []
    }
  ]
}