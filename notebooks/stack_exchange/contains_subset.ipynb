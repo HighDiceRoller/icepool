{
  "metadata": {
    "language_info": {
      "codemirror_mode": {
        "name": "python",
        "version": 3
      },
      "file_extension": ".py",
      "mimetype": "text/x-python",
      "name": "python",
      "nbconvert_exporter": "python",
      "pygments_lexer": "ipython3",
      "version": "3.8"
    },
    "kernelspec": {
      "name": "python",
      "display_name": "Pyolite",
      "language": "python"
    }
  },
  "nbformat_minor": 4,
  "nbformat": 4,
  "cells": [
    {
      "cell_type": "markdown",
      "source": "## Roll contains subset\n\n[StackExchange question.](https://math.stackexchange.com/questions/4393869/roll-some-dice-each-with-different-number-of-sides-what-are-the-odds-of-that-r)\n\nRoll a possibly mixed pool of standard dice, looking for a target unordered subset of numbers.\nThe target may have repeats.",
      "metadata": {}
    },
    {
      "cell_type": "code",
      "source": "import piplite\nawait piplite.install(\"hdroller\")\n\nimport hdroller\nfrom collections import Counter\n\nclass ContainsSubset(hdroller.EvalPool):\n    def __init__(self, target_subset):\n        # target_subset: a dict-like mapping outcomes to counts.\n        # The result is True iff the pool rolls each outcome at least that many times\n        # for all items in the pool.\n        self.target_subset = target_subset\n        \n    def next_state(self, state, outcome, count):\n        if state is None:\n            state = True\n        if self.target_subset.get(outcome, 0) > count:\n            state = False\n        return state\n    \n    def direction(self, *_):\n        # No preferred direction.\n        return 0 \n\n# A pool of d4, d6, d8, d8, looking for a 2, 4, 5, and 7.\nprint(hdroller.standard_pool(4, 6, 8, 8).eval(ContainsSubset(Counter([2, 4, 5, 7]))))",
      "metadata": {
        "trusted": true
      },
      "execution_count": 2,
      "outputs": [
        {
          "name": "stdout",
          "text": "Denominator: 1536\n| Outcome | Weight | Probability |\n|--------:|-------:|------------:|\n|   False |   1528 |  99.479167% |\n|    True |      8 |   0.520833% |\n\n",
          "output_type": "stream"
        }
      ]
    },
    {
      "cell_type": "code",
      "source": "",
      "metadata": {},
      "execution_count": null,
      "outputs": []
    }
  ]
}