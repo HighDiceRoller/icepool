{
  "metadata": {
    "language_info": {
      "codemirror_mode": {
        "name": "python",
        "version": 3
      },
      "file_extension": ".py",
      "mimetype": "text/x-python",
      "name": "python",
      "nbconvert_exporter": "python",
      "pygments_lexer": "ipython3",
      "version": "3.8"
    },
    "kernelspec": {
      "name": "python",
      "display_name": "Python (Pyodide)",
      "language": "python"
    }
  },
  "nbformat_minor": 4,
  "nbformat": 4,
  "cells": [
    {
      "cell_type": "markdown",
      "source": "## Roll contains subset\n\n[StackExchange question.](https://math.stackexchange.com/questions/4393869/roll-some-dice-each-with-different-number-of-sides-what-are-the-odds-of-that-r)\n\nRoll a possibly mixed pool of standard dice, looking for a target unordered subset of numbers.\nThe target may have repeats.",
      "metadata": {}
    },
    {
      "cell_type": "code",
      "source": "%pip install icepool\n\nimport icepool\nfrom collections import Counter\n\nclass IntersectionSize(icepool.MultisetEvaluator):\n    \"\"\"The final outcome is the number of items shared with the given target multiset.\"\"\"\n    def __init__(self, target):\n        # target_subset: a dict-like mapping outcomes to counts.\n        self.target = target\n        \n    def next_state(self, state, outcome, count):\n        if state is None:\n            state = 0\n        state += min(count, self.target.get(outcome, 0))\n        return state\n    \n    def order(self):\n        # No preferred direction.\n        return 0 \n\nevaluator = IntersectionSize(Counter([2, 4, 5, 7]))\n# A pool of d4, d6, d8, d8, looking for a 2, 4, 5, and 7.\nprint(evaluator(icepool.standard_pool([4, 6, 8, 8])))",
      "metadata": {
        "trusted": true
      },
      "execution_count": 1,
      "outputs": [
        {
          "name": "stdout",
          "text": "Die with denominator 1536\n\n| Outcome | Quantity | Probability |\n|--------:|---------:|------------:|\n|       0 |       96 |   6.250000% |\n|       1 |      566 |  36.848958% |\n|       2 |      678 |  44.140625% |\n|       3 |      188 |  12.239583% |\n|       4 |        8 |   0.520833% |\n\n\n",
          "output_type": "stream"
        }
      ]
    },
    {
      "cell_type": "code",
      "source": "# You can also use built-in operators to take the intersection and compute its size.\nprint((icepool.standard_pool([4, 6, 8, 8]) & [2, 4, 5, 7]).count())",
      "metadata": {
        "trusted": true
      },
      "execution_count": 2,
      "outputs": [
        {
          "name": "stdout",
          "text": "Die with denominator 1536\n\n| Outcome | Quantity | Probability |\n|--------:|---------:|------------:|\n|       0 |       96 |   6.250000% |\n|       1 |      566 |  36.848958% |\n|       2 |      678 |  44.140625% |\n|       3 |      188 |  12.239583% |\n|       4 |        8 |   0.520833% |\n\n\n",
          "output_type": "stream"
        }
      ]
    },
    {
      "cell_type": "code",
      "source": "",
      "metadata": {},
      "execution_count": null,
      "outputs": []
    }
  ]
}