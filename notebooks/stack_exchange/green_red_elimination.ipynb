{
  "metadata": {
    "kernelspec": {
      "name": "python",
      "display_name": "Python (Pyodide)",
      "language": "python"
    },
    "language_info": {
      "codemirror_mode": {
        "name": "python",
        "version": 3
      },
      "file_extension": ".py",
      "mimetype": "text/x-python",
      "name": "python",
      "nbconvert_exporter": "python",
      "pygments_lexer": "ipython3",
      "version": "3.8"
    }
  },
  "nbformat_minor": 4,
  "nbformat": 4,
  "cells": [
    {
      "cell_type": "markdown",
      "source": "## Anydice: two-colored polyhedral dice pool\n\n[StackExchange question.](https://rpg.stackexchange.com/questions/198579/anydice-two-colored-polyhedral-dice-pool)\n\n1. Roll two pools of dice, not necessarily all of the same size: a \"green\" pool and a \"red\" pool.\n2. Green dice and red dice that rolled the same number eliminate each other 1:1.\n3. If the two highest remaining dice are green, or there are only green dice remaining, it's a full success.\n4. If the two highest remaining dice are red, or there are only green dice remaining, it's a failure.\n5. Otherwise (the two highest dice are of different colors, or no dice remain), it's a partial success.",
      "metadata": {}
    },
    {
      "cell_type": "code",
      "source": "%pip install icepool\n\nimport icepool\nfrom icepool import d4, d6, d8, d10, d12, MultisetEvaluator\n\nclass GreenRed(MultisetEvaluator):\n    def next_state(self, state, order, outcome, green, red):\n        # State is the number of top-two dice for green and red.\n        top_green, top_red = state or (0, 0)\n        # If there are remaining places in the top two...\n        remaining_top_two = 2 - (top_green + top_red)\n        if remaining_top_two > 0:\n            # Compute the number of non-eliminated dice that rolled this outcome.\n            net = green - red\n            # Then add them to the winning team's top two.\n            if net > 0:\n                top_green += min(net, remaining_top_two)\n            elif net < 0:\n                top_red += min(-net, remaining_top_two)\n        return top_green, top_red\n    \n    def final_outcome(self, final_state, *_):\n        top_green, top_red = final_state\n        if (top_green > 0) and not (top_red > 0):\n            return 2\n        elif (top_red > 0) and not (top_green > 0):\n            return 0\n        else:\n            return 1\n    \n    def order(self):\n        # See outcomes in descending order.\n        return -1\n    \ngreen_red = GreenRed()\n# The argument lists are implicitly cast to pools.\nprint(green_red.evaluate([d10, d8], [d6, d8]))",
      "metadata": {
        "trusted": true
      },
      "outputs": [
        {
          "name": "stdout",
          "output_type": "stream",
          "text": "Die with denominator 3840\n\n| Outcome | Quantity | Probability |\n|--------:|---------:|------------:|\n|       0 |      791 |  20.598958% |\n|       1 |     2784 |  72.500000% |\n|       2 |      265 |   6.901042% |\n\n\n"
        }
      ],
      "execution_count": 1
    },
    {
      "cell_type": "code",
      "source": "# A larger calculation.\nprint(green_red.evaluate([d12, d10, d8, d6, d4, d12, d10, d8, d6, d4], [d12, d10, d8, d6, d4, d12, d10, d8, d6, d4]))",
      "metadata": {
        "trusted": true
      },
      "outputs": [
        {
          "name": "stdout",
          "output_type": "stream",
          "text": "Die with denominator 281792804290560000\n\n| Outcome |          Quantity | Probability |\n|--------:|------------------:|------------:|\n|       0 | 93805993954176668 |  33.288996% |\n|       1 | 94180816382206664 |  33.422009% |\n|       2 | 93805993954176668 |  33.288996% |\n\n\n"
        }
      ],
      "execution_count": 2
    },
    {
      "cell_type": "code",
      "source": "",
      "metadata": {
        "trusted": true
      },
      "outputs": [],
      "execution_count": null
    }
  ]
}