{
  "metadata": {
    "language_info": {
      "codemirror_mode": {
        "name": "python",
        "version": 3
      },
      "file_extension": ".py",
      "mimetype": "text/x-python",
      "name": "python",
      "nbconvert_exporter": "python",
      "pygments_lexer": "ipython3",
      "version": "3.8"
    },
    "kernelspec": {
      "name": "python",
      "display_name": "Pyolite",
      "language": "python"
    }
  },
  "nbformat_minor": 4,
  "nbformat": 4,
  "cells": [
    {
      "cell_type": "markdown",
      "source": "## How do you simulate dependent dice rolls in anydice?\n\n[StackExchange.](https://rpg.stackexchange.com/questions/197916/how-do-you-simulate-dependent-dice-rolls-in-anydice)\n\nThis is the following scenario in 5e D&D:\n\n1. First, the player casts *mind sliver*. Target must make an Int save or suffer 2d6 damage, and a -1d4 penalty to their next saving throw.\n2. Then the player sends two *minute meteors* against the target, who suffers 2d6 damage with a Dex save for half.",
      "metadata": {}
    },
    {
      "cell_type": "code",
      "source": "import piplite\nawait piplite.install(\"icepool\")\n\nimport icepool\n\nfrom icepool import d\n\ndc = 15\ndex_save_mod = 1\nint_save_mod = 1\nmind_sliver_damage = 2 @ d(6)\nmeteor_damage = 2 @ d(6)",
      "metadata": {
        "trusted": true
      },
      "execution_count": 1,
      "outputs": []
    },
    {
      "cell_type": "code",
      "source": "# Style 1: using direct expression.\n\n# First, express the damage result of a meteor as a die.\nmeteor = meteor_damage // (1 + (dex_save_mod + d(20) >= dc))\nsliver_meteor = meteor_damage // (1 + (dex_save_mod + d(20) - d(4) >= dc))\n\n# Then, choose a sum based on the result of the save against *mind sliver*.\nnet_damage = (int_save_mod + d(20) < dc).if_else(\n    mind_sliver_damage + sliver_meteor + meteor,\n    meteor + meteor\n)\n\nprint(net_damage)\nprint('Mean: ', net_damage.mean())",
      "metadata": {
        "trusted": true
      },
      "execution_count": 2,
      "outputs": [
        {
          "name": "stdout",
          "text": "Denominator: 1492992000\n\n| Outcome |   Weight | Probability |\n|--------:|---------:|------------:|\n|       2 |   444528 |   0.029774% |\n|       3 |  2624832 |   0.175810% |\n|       4 |  8250102 |   0.552588% |\n|       5 | 17316780 |   1.159871% |\n|       6 | 27671950 |   1.853456% |\n|       7 | 36747456 |   2.461330% |\n|       8 | 44712588 |   2.994831% |\n|       9 | 52931776 |   3.545349% |\n|      10 | 62124420 |   4.161069% |\n|      11 | 71072532 |   4.760409% |\n|      12 | 79249786 |   5.308119% |\n|      13 | 86235552 |   5.776022% |\n|      14 | 91764738 |   6.146365% |\n|      15 | 95246840 |   6.379595% |\n|      16 | 96978180 |   6.495559% |\n|      17 | 97277856 |   6.515631% |\n|      18 | 95569162 |   6.401184% |\n|      19 | 91354536 |   6.118890% |\n|      20 | 84550284 |   5.663144% |\n|      21 | 75907104 |   5.084227% |\n|      22 | 65890890 |   4.413345% |\n|      23 | 55201224 |   3.697356% |\n|      24 | 44606276 |   2.987710% |\n|      25 | 34718736 |   2.325447% |\n|      26 | 25940850 |   1.737508% |\n|      27 | 18472376 |   1.237272% |\n|      28 | 12503634 |   0.837488% |\n|      29 |  7999524 |   0.535805% |\n|      30 |  4786652 |   0.320608% |\n|      31 |  2640456 |   0.176857% |\n|      32 |  1320228 |   0.088428% |\n|      33 |   586768 |   0.039301% |\n|      34 |   220038 |   0.014738% |\n|      35 |    62868 |   0.004211% |\n|      36 |    10478 |   0.000702% |\n\nMean:  16.2296875\n",
          "output_type": "stream"
        }
      ]
    },
    {
      "cell_type": "code",
      "source": "# Style 2: using state transitions.\n\n# Define state transition functions.\n# The state consists of the total damage dealt so far and whether the target has the *mind sliver* debuff.\n# These functions take a state and update them with the results of one event.\n\ndef mind_sliver(damage, debuff):\n    return (int_save_mod - debuff @ d(4) + d(20) < dc).if_else(\n        (damage + mind_sliver_damage, True),\n        (damage, False)\n    )\n\ndef one_meteor(damage, debuff):\n    return (dex_save_mod - debuff @ d(4) + d(20) < dc).if_else(\n        (damage + meteor_damage, False),\n        (damage + meteor_damage // 2, False)\n    )\n\n# Then, apply them to the state using the sub() method.\n# The initial state is 0 damage dealt so far and no *mind sliver* debuff.\nstate = icepool.Die([(0, False)])\n# The star option unpacks outcomes before giving them to the function.\nstate = state.sub(mind_sliver, star=1)\nstate = state.sub(one_meteor, star=1)\nstate = state.sub(one_meteor, star=1)\n\nprint(state)\nprint('Mean: ', state[0].mean())",
      "metadata": {
        "trusted": true
      },
      "execution_count": 3,
      "outputs": [
        {
          "name": "stdout",
          "text": "Denominator: 1492992000\n\n| Outcome[0] | Outcome[1] |   Weight | Probability |\n|-----------:|-----------:|---------:|------------:|\n|          2 |      False |   444528 |   0.029774% |\n|          3 |      False |  2624832 |   0.175810% |\n|          4 |      False |  8250102 |   0.552588% |\n|          5 |      False | 17316780 |   1.159871% |\n|          6 |      False | 27671950 |   1.853456% |\n|          7 |      False | 36747456 |   2.461330% |\n|          8 |      False | 44712588 |   2.994831% |\n|          9 |      False | 52931776 |   3.545349% |\n|         10 |      False | 62124420 |   4.161069% |\n|         11 |      False | 71072532 |   4.760409% |\n|         12 |      False | 79249786 |   5.308119% |\n|         13 |      False | 86235552 |   5.776022% |\n|         14 |      False | 91764738 |   6.146365% |\n|         15 |      False | 95246840 |   6.379595% |\n|         16 |      False | 96978180 |   6.495559% |\n|         17 |      False | 97277856 |   6.515631% |\n|         18 |      False | 95569162 |   6.401184% |\n|         19 |      False | 91354536 |   6.118890% |\n|         20 |      False | 84550284 |   5.663144% |\n|         21 |      False | 75907104 |   5.084227% |\n|         22 |      False | 65890890 |   4.413345% |\n|         23 |      False | 55201224 |   3.697356% |\n|         24 |      False | 44606276 |   2.987710% |\n|         25 |      False | 34718736 |   2.325447% |\n|         26 |      False | 25940850 |   1.737508% |\n|         27 |      False | 18472376 |   1.237272% |\n|         28 |      False | 12503634 |   0.837488% |\n|         29 |      False |  7999524 |   0.535805% |\n|         30 |      False |  4786652 |   0.320608% |\n|         31 |      False |  2640456 |   0.176857% |\n|         32 |      False |  1320228 |   0.088428% |\n|         33 |      False |   586768 |   0.039301% |\n|         34 |      False |   220038 |   0.014738% |\n|         35 |      False |    62868 |   0.004211% |\n|         36 |      False |    10478 |   0.000702% |\n\nMean:  16.2296875\n",
          "output_type": "stream"
        }
      ]
    },
    {
      "cell_type": "code",
      "source": "",
      "metadata": {},
      "execution_count": null,
      "outputs": []
    }
  ]
}