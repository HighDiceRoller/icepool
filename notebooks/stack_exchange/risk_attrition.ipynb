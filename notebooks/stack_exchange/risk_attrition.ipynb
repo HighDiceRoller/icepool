{
  "metadata": {
    "language_info": {
      "codemirror_mode": {
        "name": "python",
        "version": 3
      },
      "file_extension": ".py",
      "mimetype": "text/x-python",
      "name": "python",
      "nbconvert_exporter": "python",
      "pygments_lexer": "ipython3",
      "version": "3.8"
    },
    "kernelspec": {
      "name": "python",
      "display_name": "Pyolite",
      "language": "python"
    }
  },
  "nbformat_minor": 4,
  "nbformat": 4,
  "cells": [
    {
      "cell_type": "markdown",
      "source": "## *RISK* attrition\n\n[StackExchange question.](https://math.stackexchange.com/questions/4318008/comparing-the-probability-of-parallel-multiple-dice-rolls)\n\n* Two sides each have a pool of d6s.\n* Each side rolls their dice, and then pairs of one die from each side are made from highest to lowest.\n    (Some dice may be unpaired.)\n* For each pair, if one side rolled a higher number, they eliminate the opposing die.\n    On a tie nothing happens to that pair.\n* Repeat until one side runs out of dice.",
      "metadata": {}
    },
    {
      "cell_type": "code",
      "source": "import piplite\nawait piplite.install(\"icepool\")\n\nimport icepool\n\nclass EvalRiskAttrition(icepool.EvalPool):\n    def next_state(self, state, outcome, a, b):\n        if state is None:\n            score_a, score_b, advantage = 0, 0, 0\n        else:\n            score_a, score_b, advantage = state\n        # Advantage is the number of unpaired dice that rolled a previous (higher) number.\n        # If positive, it favors side A, otherwise it favors side B.\n        # We pair them off with newly-rolled dice of the disadvantaged side.\n        if advantage > 0:\n            score_a += min(b, advantage)\n        elif advantage < 0:\n            score_b += min(a, -advantage)\n        advantage += a - b\n        return score_a, score_b, advantage\n    \n    def final_outcome(self, final_state, pool_a, pool_b):\n        score_a, score_b, advantage = final_state\n        if score_a == 0 and score_b == 0:\n            # No change. Eliminate this outcome to prevent infinite looping.\n            # This is equivalent to rerolling the contest until at least one die is removed.\n            return icepool.Reroll\n        # Each side loses dice equal to the other's hits.\n        # The result is the number of remaining dice on each side.\n        return pool_a.num_dice() - score_b, pool_b.num_dice() - score_a\n    \n    def direction(self, *_):\n        # See outcomes in descending order.\n        return -1\n\neval_risk = EvalRiskAttrition().bind_dice(icepool.d6, icepool.d6)\n\ndef risk_attrition(a, b):\n    if a == 0 or b == 0:\n        # If one side has run out of dice, no more rolling is necessary.\n        return a, b\n    else:\n        # Otherwise, run the contest.\n        return eval_risk(a, b)\n\n# 4 dice vs. 3 dice.\na = 4\nb = 3\n# Construct a die that always rolls the tuple (4, 3).\n# Then, apply the risk_attrition function recursively until reaching a fixed point.\nresult = icepool.Die((a, b)).sub(risk_attrition, max_depth=None, denominator_method='reduce')\n# The result is how many dice are remaining at the end.\n# The loser has 0 dice, and the winner has 1 or more dice.\nprint(result)",
      "metadata": {
        "trusted": true
      },
      "execution_count": 1,
      "outputs": [
        {
          "name": "stdout",
          "text": "Denominator: 350190883979307611136000\n| Outcome[0] | Outcome[1] |                   Weight | Probability |\n|-----------:|-----------:|-------------------------:|------------:|\n|          0 |          1 |  11215262070269292175045 |   3.202614% |\n|          0 |          2 |  26208104640905472978960 |   7.483948% |\n|          0 |          3 |  44739780296050462334400 |  12.775827% |\n|          1 |          0 |  11215262070269292175045 |   3.202614% |\n|          2 |          0 |  28634396560615778884510 |   8.176797% |\n|          3 |          0 |  60745546693229402315592 |  17.346410% |\n|          4 |          0 | 167432531647967910272448 |  47.811790% |\n\n",
          "output_type": "stream"
        }
      ]
    },
    {
      "cell_type": "code",
      "source": "# If we just want to know the winner:\nprint(result.sub(lambda a, b: 'a' if a > 0 else 'b').reduce())",
      "metadata": {
        "trusted": true
      },
      "execution_count": 2,
      "outputs": [
        {
          "name": "stdout",
          "text": "Denominator: 2244741412001587200\n| Outcome |              Weight | Probability |\n|--------:|--------------------:|------------:|\n|       a | 1718071452659096719 |  76.537611% |\n|       b |  526669959342490481 |  23.462389% |\n\n",
          "output_type": "stream"
        }
      ]
    },
    {
      "cell_type": "markdown",
      "source": "### Versus Monte Carlo\n\nWe can compare this to a Monte Carlo simulation, which is slower and noisier, but provides an independent alternative.",
      "metadata": {}
    },
    {
      "cell_type": "code",
      "source": "from collections import Counter\n\ndef monte_carlo(a, b):\n    if a == 0 or b == 0:\n        return a, b\n    else:\n        rolls_a = sorted((icepool.d6.sample() for i in range(a)), reverse=True)\n        rolls_b = sorted((icepool.d6.sample() for i in range(b)), reverse=True)\n        for roll_a, roll_b in zip(rolls_a, rolls_b):\n            if roll_a > roll_b: b -= 1\n            if roll_b > roll_a: a -= 1\n        return monte_carlo(a, b)\n\ncounts = Counter()\n\nfor i in range(10000):\n    counts[monte_carlo(a, b)] += 1\n\nfor key in sorted(counts.keys()):\n    print(key, counts[key])\n",
      "metadata": {
        "trusted": true
      },
      "execution_count": 3,
      "outputs": [
        {
          "name": "stdout",
          "text": "(0, 1) 345\n(0, 2) 781\n(0, 3) 1240\n(1, 0) 344\n(2, 0) 861\n(3, 0) 1729\n(4, 0) 4700\n",
          "output_type": "stream"
        }
      ]
    },
    {
      "cell_type": "code",
      "source": "",
      "metadata": {},
      "execution_count": null,
      "outputs": []
    }
  ]
}