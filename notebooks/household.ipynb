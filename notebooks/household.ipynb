{
  "metadata": {
    "kernelspec": {
      "name": "python",
      "display_name": "Python (Pyodide)",
      "language": "python"
    },
    "language_info": {
      "codemirror_mode": {
        "name": "python",
        "version": 3
      },
      "file_extension": ".py",
      "mimetype": "text/x-python",
      "name": "python",
      "nbconvert_exporter": "python",
      "pygments_lexer": "ipython3",
      "version": "3.8"
    }
  },
  "nbformat_minor": 4,
  "nbformat": 4,
  "cells": [
    {
      "cell_type": "markdown",
      "source": "## *Household*\n\n[Official website.](https://twolittlemice.net/household/)\n\n[StackExchange question.](https://rpg.stackexchange.com/questions/198720/anydice-statistics-for-the-fortune-system-by-broken-compass)\n\n### Basic summary\n\nSix-sided dice have one face labeled with each of the following:\n\n* Each of the four card suits.\n* A joker.\n* A blank.\n\nHow to roll:\n\n* Roll a pool of these dice.\n* Find the largest matching set. The size of this set determines the degree of success.\n* Blanks count for nothing.\n* A joker can act as any other symbol.",
      "metadata": {}
    },
    {
      "cell_type": "code",
      "source": "%pip install icepool\n\nimport icepool\n\nfrom icepool import Die, vectorize\n\n# Use a \"one-hot\" representation.\n# Each element of the tuple counts how many dice rolled that symbol.\n# It's possible to squeeze more computational efficiency out of this problem,\n# but this is more than good enough for this mechanic.\nfortune = Die([\n    vectorize(0, 0, 0, 0, 0),  # blank\n    vectorize(1, 0, 0, 0, 0),  # spade\n    vectorize(0, 1, 0, 0, 0),  # heart\n    vectorize(0, 0, 1, 0, 0),  # diamond\n    vectorize(0, 0, 0, 1, 0),  # club\n    vectorize(0, 0, 0, 0, 1),  # joker\n])\n\ndef largest_match(outcome):\n    \"\"\"The largest matching set that can be formed.\"\"\"\n    suits = outcome[:4]\n    joker = outcome[4]\n    return max(suits) + joker\n\nprint('DICE|BASIC (pair)|CRITICAL (triple)|EXTREME (quad)|IMPOSS. (quint+)')\nprint('-----|-----|-----|-----|-----')\n\nfor num_dice in range(2, 10):\n    result = (num_dice @ fortune).map(largest_match)\n    row = f'{num_dice}'\n    for set_size in [2, 3, 4, 5]:\n        p = float((result >= set_size).mean())\n        row += f'|{p:0.2%}'\n    print(row)\n",
      "metadata": {
        "trusted": true
      },
      "outputs": [
        {
          "name": "stdout",
          "output_type": "stream",
          "text": "DICE|BASIC (pair)|CRITICAL (triple)|EXTREME (quad)|IMPOSS. (quint+)\n-----|-----|-----|-----|-----\n"
        },
        {
          "ename": "<class 'TypeError'>",
          "evalue": "unsupported format string passed to Fraction.__format__",
          "traceback": [
            "\u001b[31m---------------------------------------------------------------------------\u001b[39m",
            "\u001b[31mTypeError\u001b[39m                                 Traceback (most recent call last)",
            "\u001b[36mCell\u001b[39m\u001b[36m \u001b[39m\u001b[32mIn[1]\u001b[39m\u001b[32m, line 34\u001b[39m\n\u001b[32m     32\u001b[39m \u001b[38;5;28;01mfor\u001b[39;00m set_size \u001b[38;5;129;01min\u001b[39;00m [\u001b[32m2\u001b[39m, \u001b[32m3\u001b[39m, \u001b[32m4\u001b[39m, \u001b[32m5\u001b[39m]:\n\u001b[32m     33\u001b[39m     p = (result >= set_size).mean()\n\u001b[32m---> \u001b[39m\u001b[32m34\u001b[39m     row += \u001b[33mf\u001b[39m\u001b[33m'\u001b[39m\u001b[33m|\u001b[39m\u001b[38;5;132;01m{\u001b[39;00mp\u001b[38;5;132;01m:\u001b[39;00m\u001b[33m0.2%\u001b[39m\u001b[38;5;132;01m}\u001b[39;00m\u001b[33m'\u001b[39m\n\u001b[32m     35\u001b[39m \u001b[38;5;28mprint\u001b[39m(row)\n",
            "\u001b[31mTypeError\u001b[39m: unsupported format string passed to Fraction.__format__"
          ],
          "output_type": "error"
        }
      ],
      "execution_count": 1
    },
    {
      "cell_type": "code",
      "source": "",
      "metadata": {
        "trusted": true
      },
      "outputs": [],
      "execution_count": null
    }
  ]
}