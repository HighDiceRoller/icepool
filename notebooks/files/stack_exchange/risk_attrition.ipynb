{
  "metadata": {
    "language_info": {
      "codemirror_mode": {
        "name": "python",
        "version": 3
      },
      "file_extension": ".py",
      "mimetype": "text/x-python",
      "name": "python",
      "nbconvert_exporter": "python",
      "pygments_lexer": "ipython3",
      "version": "3.8"
    },
    "kernelspec": {
      "name": "python",
      "display_name": "Pyolite",
      "language": "python"
    }
  },
  "nbformat_minor": 4,
  "nbformat": 4,
  "cells": [
    {
      "cell_type": "markdown",
      "source": "## *RISK* attrition\n\n[StackExchange question.](https://math.stackexchange.com/questions/4318008/comparing-the-probability-of-parallel-multiple-dice-rolls)\n\n* Two sides each have a pool of d6s.\n* Each side rolls their dice, and then pairs of one die from each side are made from highest to lowest.\n    (Some dice may be unpaired.)\n* For each pair, if one side rolled a higher number, they eliminate the opposing die.\n    On a tie nothing happens to that pair.\n* Repeat until one side runs out of dice.",
      "metadata": {}
    },
    {
      "cell_type": "code",
      "source": "import piplite\nawait piplite.install(\"icepool\")\n\nimport icepool\nfrom icepool import d6\n\nclass EvalRiskAttrition(icepool.EvalPool):\n    def next_state(self, state, outcome, a, b):\n        if state is None:\n            score_a, score_b, advantage = 0, 0, 0\n        else:\n            score_a, score_b, advantage = state\n        # Advantage is the number of unpaired dice that rolled a previous (higher) number.\n        # If positive, it favors side A, otherwise it favors side B.\n        # We pair them off with newly-rolled dice of the disadvantaged side.\n        if advantage > 0:\n            score_a += min(b, advantage)\n        elif advantage < 0:\n            score_b += min(a, -advantage)\n        advantage += a - b\n        return score_a, score_b, advantage\n    \n    def final_outcome(self, final_state, pool_a, pool_b):\n        score_a, score_b, advantage = final_state\n        if score_a == 0 and score_b == 0:\n            # No change. Eliminate this outcome to prevent infinite looping.\n            # This is equivalent to rerolling the contest until at least one die is removed.\n            return icepool.Reroll\n        # Each side loses dice equal to the other's hits.\n        # The result is the number of remaining dice on each side.\n        return pool_a.num_dice() - score_b, pool_b.num_dice() - score_a\n    \n    def direction(self, *_):\n        # See outcomes in descending order.\n        return -1\n\neval_risk = EvalRiskAttrition()\n\ndef risk_attrition(state):\n    a, b = state\n    if a == 0 or b == 0:\n        # If one side has run out of dice, no more rolling is necessary.\n        return a, b\n    else:\n        # Otherwise, run the contest.\n        return eval_risk(d6.pool(a), d6.pool(b))\n\n# 4 dice vs. 3 dice.\na = 4\nb = 3\n# Construct a die that always rolls the tuple (4, 3).\n# Then, apply the risk_attrition function recursively until reaching a fixed point.\nresult = icepool.Die((a, b)).sub(risk_attrition, max_depth=None, denominator_method='reduce')\n# The result is how many dice are remaining at the end.\n# The loser has 0 dice, and the winner has 1 or more dice.\nprint(result)",
      "metadata": {
        "trusted": true
      },
      "execution_count": 1,
      "outputs": [
        {
          "ename": "<class 'AttributeError'>",
          "evalue": "'collections.defaultdict' object has no attribute 'reduce'",
          "traceback": [
            "\u001b[0;31m---------------------------------------------------------------------------\u001b[0m",
            "\u001b[0;31mAttributeError\u001b[0m                            Traceback (most recent call last)",
            "Input \u001b[0;32mIn [1]\u001b[0m, in \u001b[0;36m<cell line: 53>\u001b[0;34m()\u001b[0m\n\u001b[1;32m     50\u001b[0m b \u001b[38;5;241m=\u001b[39m \u001b[38;5;241m3\u001b[39m\n\u001b[1;32m     51\u001b[0m \u001b[38;5;66;03m# Construct a die that always rolls the tuple (4, 3).\u001b[39;00m\n\u001b[1;32m     52\u001b[0m \u001b[38;5;66;03m# Then, apply the risk_attrition function recursively until reaching a fixed point.\u001b[39;00m\n\u001b[0;32m---> 53\u001b[0m result \u001b[38;5;241m=\u001b[39m \u001b[43micepool\u001b[49m\u001b[38;5;241;43m.\u001b[39;49m\u001b[43mDie\u001b[49m\u001b[43m(\u001b[49m\u001b[43m(\u001b[49m\u001b[43ma\u001b[49m\u001b[43m,\u001b[49m\u001b[43m \u001b[49m\u001b[43mb\u001b[49m\u001b[43m)\u001b[49m\u001b[43m)\u001b[49m\u001b[38;5;241;43m.\u001b[39;49m\u001b[43msub\u001b[49m\u001b[43m(\u001b[49m\u001b[43mrisk_attrition\u001b[49m\u001b[43m,\u001b[49m\u001b[43m \u001b[49m\u001b[43mmax_depth\u001b[49m\u001b[38;5;241;43m=\u001b[39;49m\u001b[38;5;28;43;01mNone\u001b[39;49;00m\u001b[43m,\u001b[49m\u001b[43m \u001b[49m\u001b[43mdenominator_method\u001b[49m\u001b[38;5;241;43m=\u001b[39;49m\u001b[38;5;124;43m'\u001b[39;49m\u001b[38;5;124;43mreduce\u001b[39;49m\u001b[38;5;124;43m'\u001b[39;49m\u001b[43m)\u001b[49m\n\u001b[1;32m     54\u001b[0m \u001b[38;5;66;03m# The result is how many dice are remaining at the end.\u001b[39;00m\n\u001b[1;32m     55\u001b[0m \u001b[38;5;66;03m# The loser has 0 dice, and the winner has 1 or more dice.\u001b[39;00m\n\u001b[1;32m     56\u001b[0m \u001b[38;5;28mprint\u001b[39m(result)\n",
            "File \u001b[0;32m/lib/python3.10/site-packages/icepool/die/die.py:701\u001b[0m, in \u001b[0;36mDie.sub\u001b[0;34m(self, repl, max_depth, denominator_method)\u001b[0m\n\u001b[1;32m    699\u001b[0m     \u001b[38;5;28;01mreturn\u001b[39;00m \u001b[38;5;28mself\u001b[39m\n\u001b[1;32m    700\u001b[0m \u001b[38;5;28;01melse\u001b[39;00m:\n\u001b[0;32m--> 701\u001b[0m     \u001b[38;5;28;01mreturn\u001b[39;00m \u001b[38;5;28;43mnext\u001b[39;49m\u001b[38;5;241;43m.\u001b[39;49m\u001b[43msub\u001b[49m\u001b[43m(\u001b[49m\u001b[43mrepl\u001b[49m\u001b[43m,\u001b[49m\n\u001b[1;32m    702\u001b[0m \u001b[43m                    \u001b[49m\u001b[43mmax_depth\u001b[49m\u001b[38;5;241;43m=\u001b[39;49m\u001b[38;5;28;43;01mNone\u001b[39;49;00m\u001b[43m,\u001b[49m\n\u001b[1;32m    703\u001b[0m \u001b[43m                    \u001b[49m\u001b[43mdenominator_method\u001b[49m\u001b[38;5;241;43m=\u001b[39;49m\u001b[43mdenominator_method\u001b[49m\u001b[43m)\u001b[49m\n",
            "File \u001b[0;32m/lib/python3.10/site-packages/icepool/die/die.py:695\u001b[0m, in \u001b[0;36mDie.sub\u001b[0;34m(self, repl, max_depth, denominator_method)\u001b[0m\n\u001b[1;32m    690\u001b[0m     \u001b[38;5;28;01mreturn\u001b[39;00m \u001b[38;5;28mnext\u001b[39m\u001b[38;5;241m.\u001b[39msub(repl,\n\u001b[1;32m    691\u001b[0m                     max_depth\u001b[38;5;241m=\u001b[39mmax_depth \u001b[38;5;241m-\u001b[39m \u001b[38;5;241m1\u001b[39m,\n\u001b[1;32m    692\u001b[0m                     denominator_method\u001b[38;5;241m=\u001b[39mdenominator_method)\n\u001b[1;32m    693\u001b[0m \u001b[38;5;28;01melse\u001b[39;00m:\n\u001b[1;32m    694\u001b[0m     \u001b[38;5;66;03m# Seek fixed point.\u001b[39;00m\n\u001b[0;32m--> 695\u001b[0m     \u001b[38;5;28mnext\u001b[39m \u001b[38;5;241m=\u001b[39m \u001b[38;5;28;43mself\u001b[39;49m\u001b[38;5;241;43m.\u001b[39;49m\u001b[43msub\u001b[49m\u001b[43m(\u001b[49m\u001b[43mrepl\u001b[49m\u001b[43m,\u001b[49m\n\u001b[1;32m    696\u001b[0m \u001b[43m                    \u001b[49m\u001b[43mmax_depth\u001b[49m\u001b[38;5;241;43m=\u001b[39;49m\u001b[38;5;241;43m1\u001b[39;49m\u001b[43m,\u001b[49m\n\u001b[1;32m    697\u001b[0m \u001b[43m                    \u001b[49m\u001b[43mdenominator_method\u001b[49m\u001b[38;5;241;43m=\u001b[39;49m\u001b[43mdenominator_method\u001b[49m\u001b[43m)\u001b[49m\n\u001b[1;32m    698\u001b[0m     \u001b[38;5;28;01mif\u001b[39;00m \u001b[38;5;28mself\u001b[39m\u001b[38;5;241m.\u001b[39mreduce()\u001b[38;5;241m.\u001b[39mequals(\u001b[38;5;28mnext\u001b[39m\u001b[38;5;241m.\u001b[39mreduce()):\n\u001b[1;32m    699\u001b[0m         \u001b[38;5;28;01mreturn\u001b[39;00m \u001b[38;5;28mself\u001b[39m\n",
            "File \u001b[0;32m/lib/python3.10/site-packages/icepool/die/die.py:683\u001b[0m, in \u001b[0;36mDie.sub\u001b[0;34m(self, repl, max_depth, denominator_method)\u001b[0m\n\u001b[1;32m    680\u001b[0m     \u001b[38;5;28;01melif\u001b[39;00m callable(repl):\n\u001b[1;32m    681\u001b[0m         repl \u001b[38;5;241m=\u001b[39m [repl(outcome) \u001b[38;5;28;01mfor\u001b[39;00m outcome \u001b[38;5;129;01min\u001b[39;00m \u001b[38;5;28mself\u001b[39m\u001b[38;5;241m.\u001b[39moutcomes()]\n\u001b[0;32m--> 683\u001b[0m     \u001b[38;5;28;01mreturn\u001b[39;00m \u001b[43micepool\u001b[49m\u001b[38;5;241;43m.\u001b[39;49m\u001b[43mDie\u001b[49m\u001b[43m(\u001b[49m\u001b[38;5;241;43m*\u001b[39;49m\u001b[43mrepl\u001b[49m\u001b[43m,\u001b[49m\n\u001b[1;32m    684\u001b[0m \u001b[43m                       \u001b[49m\u001b[43mweights\u001b[49m\u001b[38;5;241;43m=\u001b[39;49m\u001b[38;5;28;43mself\u001b[39;49m\u001b[38;5;241;43m.\u001b[39;49m\u001b[43mweights\u001b[49m\u001b[43m(\u001b[49m\u001b[43m)\u001b[49m\u001b[43m,\u001b[49m\n\u001b[1;32m    685\u001b[0m \u001b[43m                       \u001b[49m\u001b[43mdenominator_method\u001b[49m\u001b[38;5;241;43m=\u001b[39;49m\u001b[43mdenominator_method\u001b[49m\u001b[43m)\u001b[49m\n\u001b[1;32m    686\u001b[0m \u001b[38;5;28;01melif\u001b[39;00m max_depth \u001b[38;5;129;01mis\u001b[39;00m \u001b[38;5;129;01mnot\u001b[39;00m \u001b[38;5;28;01mNone\u001b[39;00m:\n\u001b[1;32m    687\u001b[0m     \u001b[38;5;28mnext\u001b[39m \u001b[38;5;241m=\u001b[39m \u001b[38;5;28mself\u001b[39m\u001b[38;5;241m.\u001b[39msub(repl,\n\u001b[1;32m    688\u001b[0m                     max_depth\u001b[38;5;241m=\u001b[39m\u001b[38;5;241m1\u001b[39m,\n\u001b[1;32m    689\u001b[0m                     denominator_method\u001b[38;5;241m=\u001b[39mdenominator_method)\n",
            "File \u001b[0;32m/lib/python3.10/site-packages/icepool/die/die.py:114\u001b[0m, in \u001b[0;36mDie.__init__\u001b[0;34m(self, weights, min_outcome, denominator_method, *args)\u001b[0m\n\u001b[1;32m     43\u001b[0m \u001b[38;5;28;01mdef\u001b[39;00m \u001b[38;5;21m__init__\u001b[39m(\u001b[38;5;28mself\u001b[39m,\n\u001b[1;32m     44\u001b[0m              \u001b[38;5;241m*\u001b[39margs,\n\u001b[1;32m     45\u001b[0m              weights\u001b[38;5;241m=\u001b[39m\u001b[38;5;28;01mNone\u001b[39;00m,\n\u001b[1;32m     46\u001b[0m              min_outcome\u001b[38;5;241m=\u001b[39m\u001b[38;5;28;01mNone\u001b[39;00m,\n\u001b[1;32m     47\u001b[0m              denominator_method\u001b[38;5;241m=\u001b[39m\u001b[38;5;124m'\u001b[39m\u001b[38;5;124mlcm\u001b[39m\u001b[38;5;124m'\u001b[39m):\n\u001b[1;32m     48\u001b[0m     \u001b[38;5;124;03m\"\"\"Constructor for a die..\u001b[39;00m\n\u001b[1;32m     49\u001b[0m \n\u001b[1;32m     50\u001b[0m \u001b[38;5;124;03m    Don't confuse this with `icepool.d()`:\u001b[39;00m\n\u001b[0;32m   (...)\u001b[0m\n\u001b[1;32m    112\u001b[0m \u001b[38;5;124;03m        `ValueError`: `None` is not a valid outcome for a die.\u001b[39;00m\n\u001b[1;32m    113\u001b[0m \u001b[38;5;124;03m    \"\"\"\u001b[39;00m\n\u001b[0;32m--> 114\u001b[0m     \u001b[38;5;28mself\u001b[39m\u001b[38;5;241m.\u001b[39m_data \u001b[38;5;241m=\u001b[39m \u001b[43mexpand_die_args\u001b[49m\u001b[43m(\u001b[49m\u001b[38;5;241;43m*\u001b[39;49m\u001b[43margs\u001b[49m\u001b[43m,\u001b[49m\n\u001b[1;32m    115\u001b[0m \u001b[43m                                 \u001b[49m\u001b[43mweights\u001b[49m\u001b[38;5;241;43m=\u001b[39;49m\u001b[43mweights\u001b[49m\u001b[43m,\u001b[49m\n\u001b[1;32m    116\u001b[0m \u001b[43m                                 \u001b[49m\u001b[43mmin_outcome\u001b[49m\u001b[38;5;241;43m=\u001b[39;49m\u001b[43mmin_outcome\u001b[49m\u001b[43m,\u001b[49m\n\u001b[1;32m    117\u001b[0m \u001b[43m                                 \u001b[49m\u001b[43mdenominator_method\u001b[49m\u001b[38;5;241;43m=\u001b[39;49m\u001b[43mdenominator_method\u001b[49m\u001b[43m)\u001b[49m\n",
            "File \u001b[0;32m/lib/python3.10/site-packages/icepool/die/create.py:40\u001b[0m, in \u001b[0;36mexpand_die_args\u001b[0;34m(weights, min_outcome, denominator_method, *args)\u001b[0m\n\u001b[1;32m     38\u001b[0m \u001b[38;5;66;03m# Expand data.\u001b[39;00m\n\u001b[1;32m     39\u001b[0m subdatas \u001b[38;5;241m=\u001b[39m [_expand(arg, denominator_method) \u001b[38;5;28;01mfor\u001b[39;00m arg \u001b[38;5;129;01min\u001b[39;00m args]\n\u001b[0;32m---> 40\u001b[0m data \u001b[38;5;241m=\u001b[39m \u001b[43m_merge_subdatas\u001b[49m\u001b[43m(\u001b[49m\u001b[43msubdatas\u001b[49m\u001b[43m,\u001b[49m\u001b[43m \u001b[49m\u001b[43mweights\u001b[49m\u001b[43m,\u001b[49m\u001b[43m \u001b[49m\u001b[43mdenominator_method\u001b[49m\u001b[43m)\u001b[49m\n\u001b[1;32m     42\u001b[0m \u001b[38;5;28;01mreturn\u001b[39;00m Counts(data)\n",
            "File \u001b[0;32m/lib/python3.10/site-packages/icepool/die/create.py:126\u001b[0m, in \u001b[0;36m_merge_subdatas\u001b[0;34m(subdatas, weights, denominator_method)\u001b[0m\n\u001b[1;32m    123\u001b[0m         data[outcome] \u001b[38;5;241m+\u001b[39m\u001b[38;5;241m=\u001b[39m weight \u001b[38;5;241m*\u001b[39m factor\n\u001b[1;32m    125\u001b[0m \u001b[38;5;28;01mif\u001b[39;00m denominator_method \u001b[38;5;241m==\u001b[39m \u001b[38;5;124m'\u001b[39m\u001b[38;5;124mreduce\u001b[39m\u001b[38;5;124m'\u001b[39m:\n\u001b[0;32m--> 126\u001b[0m     data \u001b[38;5;241m=\u001b[39m \u001b[43mdata\u001b[49m\u001b[38;5;241;43m.\u001b[39;49m\u001b[43mreduce\u001b[49m()\n\u001b[1;32m    128\u001b[0m \u001b[38;5;28;01mreturn\u001b[39;00m data\n",
            "\u001b[0;31mAttributeError\u001b[0m: 'collections.defaultdict' object has no attribute 'reduce'"
          ],
          "output_type": "error"
        }
      ]
    },
    {
      "cell_type": "code",
      "source": "# If we just want to know the winner:\nprint(result.sub(lambda a, b: 'a' if a > 0 else 'b').reduce())",
      "metadata": {
        "trusted": true
      },
      "execution_count": 2,
      "outputs": [
        {
          "ename": "<class 'NameError'>",
          "evalue": "name 'result' is not defined",
          "traceback": [
            "\u001b[0;31m---------------------------------------------------------------------------\u001b[0m",
            "\u001b[0;31mNameError\u001b[0m                                 Traceback (most recent call last)",
            "Input \u001b[0;32mIn [2]\u001b[0m, in \u001b[0;36m<cell line: 2>\u001b[0;34m()\u001b[0m\n\u001b[1;32m      1\u001b[0m \u001b[38;5;66;03m# If we just want to know the winner:\u001b[39;00m\n\u001b[0;32m----> 2\u001b[0m \u001b[38;5;28mprint\u001b[39m(\u001b[43mresult\u001b[49m\u001b[38;5;241m.\u001b[39msub(\u001b[38;5;28;01mlambda\u001b[39;00m a, b: \u001b[38;5;124m'\u001b[39m\u001b[38;5;124ma\u001b[39m\u001b[38;5;124m'\u001b[39m \u001b[38;5;28;01mif\u001b[39;00m a \u001b[38;5;241m>\u001b[39m \u001b[38;5;241m0\u001b[39m \u001b[38;5;28;01melse\u001b[39;00m \u001b[38;5;124m'\u001b[39m\u001b[38;5;124mb\u001b[39m\u001b[38;5;124m'\u001b[39m)\u001b[38;5;241m.\u001b[39mreduce())\n",
            "\u001b[0;31mNameError\u001b[0m: name 'result' is not defined"
          ],
          "output_type": "error"
        }
      ]
    },
    {
      "cell_type": "markdown",
      "source": "### Versus Monte Carlo\n\nWe can compare this to a Monte Carlo simulation, which is slower and noisier, but provides an independent alternative.",
      "metadata": {}
    },
    {
      "cell_type": "code",
      "source": "from collections import Counter\n\ndef monte_carlo(a, b):\n    if a == 0 or b == 0:\n        return a, b\n    else:\n        rolls_a = sorted((icepool.d6.sample() for i in range(a)), reverse=True)\n        rolls_b = sorted((icepool.d6.sample() for i in range(b)), reverse=True)\n        for roll_a, roll_b in zip(rolls_a, rolls_b):\n            if roll_a > roll_b: b -= 1\n            if roll_b > roll_a: a -= 1\n        return monte_carlo(a, b)\n\ncounts = Counter()\n\nfor i in range(10000):\n    counts[monte_carlo(a, b)] += 1\n\nfor key in sorted(counts.keys()):\n    print(key, counts[key])\n",
      "metadata": {
        "trusted": true
      },
      "execution_count": 3,
      "outputs": [
        {
          "name": "stdout",
          "text": "(0, 1) 287\n(0, 2) 763\n(0, 3) 1261\n(1, 0) 278\n(2, 0) 774\n(3, 0) 1725\n(4, 0) 4912\n",
          "output_type": "stream"
        }
      ]
    },
    {
      "cell_type": "code",
      "source": "",
      "metadata": {},
      "execution_count": null,
      "outputs": []
    }
  ]
}