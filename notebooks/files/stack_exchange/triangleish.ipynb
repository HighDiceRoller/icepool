{
  "metadata": {
    "language_info": {
      "codemirror_mode": {
        "name": "python",
        "version": 3
      },
      "file_extension": ".py",
      "mimetype": "text/x-python",
      "name": "python",
      "nbconvert_exporter": "python",
      "pygments_lexer": "ipython3",
      "version": "3.8"
    },
    "kernelspec": {
      "name": "python",
      "display_name": "Pyolite",
      "language": "python"
    }
  },
  "nbformat_minor": 4,
  "nbformat": 4,
  "cells": [
    {
      "cell_type": "markdown",
      "source": "## Probability that the histogram for the sum of two dice has an expected shape\n\nNOTE: This gives the wrong answer and needs to be fixed for recent updates to icepool regarding whether outcomes are guaranteed to be seen in consecutive order.\n\n[StackExchange question.](https://math.stackexchange.com/questions/4411436/probability-that-the-histogram-for-the-sum-of-two-dice-has-an-expected-shape)",
      "metadata": {}
    },
    {
      "cell_type": "code",
      "source": "import piplite\nawait piplite.install(\"icepool\")\n\nimport icepool\n\nclass IsTriangleIsh(icepool.EvalPool):\n    def __init__(self, rise_end, fall_start):\n        self.rise_end = rise_end\n        self.fall_start = fall_start\n    \n    def next_state(self, state, outcome, count):\n        # State consists of the previous count,\n        # or -1 if the rise-fall pattern was violated.\n        if state is None:\n            return count\n        if state == -1:\n            return -1\n        if outcome <= self.rise_end and count < state:\n            return -1\n        if outcome > self.fall_start and count > state:\n            return -1\n        return count\n    \n    def final_outcome(self, final_state, _):\n        return final_state >= 0\n\nevaluator = IsTriangleIsh(7, 7)\n# 2d6\ndie = 2 @ icepool.d6\n\n# Some sanity checks:\nprint(evaluator.eval(die.pool(1)))\nprint(evaluator.eval(die.pool(2)))",
      "metadata": {
        "trusted": true
      },
      "execution_count": 1,
      "outputs": [
        {
          "name": "stdout",
          "text": "Denominator: 36\n\n| Outcome | Weight | Probability |\n|--------:|-------:|------------:|\n|   False |     15 |  41.666667% |\n|    True |     21 |  58.333333% |\n\nDenominator: 1296\n\n| Outcome | Weight | Probability |\n|--------:|-------:|------------:|\n|   False |   1005 |  77.546296% |\n|    True |    291 |  22.453704% |\n\n",
          "output_type": "stream"
        }
      ]
    },
    {
      "cell_type": "code",
      "source": "max_n = 500\nx = [n for n in range(1, max_n+1)]\ny = []\n\nimport time\n\nstart_ns = time.perf_counter_ns()\nfor n in x:\n    y.append(evaluator.eval(die.pool(n)).mean() * 100.0)\nend_ns = time.perf_counter_ns()\nelapsed_s = round((end_ns - start_ns) * 1e-9)\nprint(f'Computation time: {elapsed_s} s')\n    \nimport matplotlib.pyplot as plt\n\nfig, ax = plt.subplots(figsize=(16, 9))\nax.plot(x, y)\nax.grid()\nax.set_xlabel('Number of throws')\nax.set_ylabel('Chance of fitting shape (%)')\nax.set_xlim(left=0, right=max_n)\nax.set_ylim(bottom=0)\nplt.show()",
      "metadata": {
        "trusted": true
      },
      "execution_count": null,
      "outputs": []
    },
    {
      "cell_type": "code",
      "source": "",
      "metadata": {},
      "execution_count": null,
      "outputs": []
    }
  ]
}