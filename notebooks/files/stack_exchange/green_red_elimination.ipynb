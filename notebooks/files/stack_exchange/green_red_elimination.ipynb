{
  "metadata": {
    "language_info": {
      "codemirror_mode": {
        "name": "python",
        "version": 3
      },
      "file_extension": ".py",
      "mimetype": "text/x-python",
      "name": "python",
      "nbconvert_exporter": "python",
      "pygments_lexer": "ipython3",
      "version": "3.8"
    },
    "kernelspec": {
      "name": "python",
      "display_name": "Pyolite",
      "language": "python"
    }
  },
  "nbformat_minor": 4,
  "nbformat": 4,
  "cells": [
    {
      "cell_type": "markdown",
      "source": "## Anydice: two-colored polyhedral dice pool\n\n[StackExchange question.](https://rpg.stackexchange.com/questions/198579/anydice-two-colored-polyhedral-dice-pool)\n\n1. Roll two pools of dice, not necessarily all of the same size: a \"green\" pool and a \"red\" pool.\n2. Green dice and red dice that rolled the same number eliminate each other 1:1.\n3. If the two highest remaining dice are green, or there are only green dice remaining, it's a full success.\n4. If the two highest remaining dice are red, or there are only green dice remaining, it's a failure.\n5. Otherwise (the two highest dice are of different colors, or no dice remain), it's a partial success.",
      "metadata": {}
    },
    {
      "cell_type": "code",
      "source": "import piplite\nawait piplite.install(\"icepool\")\n\nimport icepool\nfrom icepool import d4, d6, d8, d10, d12, OutcomeCountEval\n\nclass GreenRed(OutcomeCountEval):\n    def next_state(self, state, outcome, green, red):\n        # State is the number of top-two dice for green and red.\n        top_green, top_red = state or (0, 0)\n        # If there are remaining places in the top two...\n        remaining_top_two = 2 - (top_green + top_red)\n        if remaining_top_two > 0:\n            # Compute the number of non-eliminated dice that rolled this outcome.\n            net = green - red\n            # Then add them to the winning team's top two.\n            if net > 0:\n                top_green += min(net, remaining_top_two)\n            elif net < 0:\n                top_red += min(-net, remaining_top_two)\n        return top_green, top_red\n    \n    def final_outcome(self, final_state, *pools):\n        top_green, top_red = final_state\n        if (top_green > 0) and not (top_red > 0):\n            return 2\n        elif (top_red > 0) and not (top_green > 0):\n            return 0\n        else:\n            return 1\n    \n    def direction(self, *_):\n        # See outcomes in descending order.\n        return -1\n    \ngreen_red = GreenRed()\n# The argument lists are implicitly cast to pools.\nprint(green_red.eval([d10, d8], [d6, d8]))",
      "metadata": {
        "trusted": true
      },
      "execution_count": 1,
      "outputs": [
        {
          "name": "stdout",
          "text": "Denominator: 3840\n\n| Outcome | Weight | Probability |\n|--------:|-------:|------------:|\n|       0 |    265 |   6.901042% |\n|       1 |   2784 |  72.500000% |\n|       2 |    791 |  20.598958% |\n\n",
          "output_type": "stream"
        }
      ]
    },
    {
      "cell_type": "code",
      "source": "# A larger calculation.\nprint(green_red.eval([d12, d10, d8, d6, d4, d12, d10, d8, d6, d4], [d12, d10, d8, d6, d4, d12, d10, d8, d6, d4]))",
      "metadata": {
        "trusted": true
      },
      "execution_count": 2,
      "outputs": [
        {
          "name": "stdout",
          "text": "Denominator: 281792804290560000\n\n| Outcome |             Weight | Probability |\n|--------:|-------------------:|------------:|\n|       0 |  67701912081930556 |  24.025423% |\n|       1 | 146388980126698888 |  51.949155% |\n|       2 |  67701912081930556 |  24.025423% |\n\n",
          "output_type": "stream"
        }
      ]
    },
    {
      "cell_type": "code",
      "source": "",
      "metadata": {},
      "execution_count": null,
      "outputs": []
    }
  ]
}