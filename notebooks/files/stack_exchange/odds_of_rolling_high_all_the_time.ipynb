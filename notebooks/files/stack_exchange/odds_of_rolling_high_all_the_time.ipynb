{
  "metadata": {
    "language_info": {
      "codemirror_mode": {
        "name": "python",
        "version": 3
      },
      "file_extension": ".py",
      "mimetype": "text/x-python",
      "name": "python",
      "nbconvert_exporter": "python",
      "pygments_lexer": "ipython3",
      "version": "3.8"
    },
    "kernelspec": {
      "name": "python",
      "display_name": "Pyolite",
      "language": "python"
    }
  },
  "nbformat_minor": 4,
  "nbformat": 4,
  "cells": [
    {
      "cell_type": "markdown",
      "source": "Code for evaluating [this StackExchange question](https://rpg.stackexchange.com/questions/196327/what-are-the-odds-of-rolling-high-all-the-time).",
      "metadata": {}
    },
    {
      "cell_type": "code",
      "source": "import piplite\nawait piplite.install(\"icepool\")\n\nimport icepool\n\n# Dimension 0 is the number of dice that scored 15+.\n# Dimension 1 is the number that scored 9-.\ndie = icepool.d20.sub(lambda x: (x >= 15, x < 10))\n\n# Roll 17 of them and sum.\nseventeen_rolls = 17 @ die\nprint('Chance of rolling 15+ on at least 10 out of 17 dice:')\nprint(seventeen_rolls.marginals[0] >= 10)\n\n# Filter out everything that didn't fit the above condition.\nseventeen_rolls_cond = seventeen_rolls.reroll(lambda x: x[0] < 10, max_depth=None)\nprint('Chance of rolling 9- on at most 4 dice, conditional on the above:')\nprint(seventeen_rolls_cond.marginals[1] <= 4)",
      "metadata": {
        "trusted": true
      },
      "execution_count": 1,
      "outputs": [
        {
          "name": "stdout",
          "text": "Chance of rolling 15+ on at least 10 out of 17 dice:\nDenominator: 13107200000000000000000\n\n| Outcome | Weight                  | Chance (%) |\n|:--------|------------------------:|-----------:|\n| False   | 12940833918520166973440 |  98.730728 |\n| True    |   166366081479833026560 |   1.269272 |\n\nChance of rolling 9- on at most 4 dice, conditional on the above:\nDenominator: 166366081479833026560\n\n| Outcome | Weight               | Chance (%) |\n|:--------|---------------------:|-----------:|\n| False   | 75088211144104304640 |  45.134327 |\n| True    | 91277870335728721920 |  54.865673 |\n\n",
          "output_type": "stream"
        }
      ]
    },
    {
      "cell_type": "code",
      "source": "print('For comparison: if the remaining 7 dice were uniform and independent d20s:')\nprint(7 @ (icepool.d20 < 10) <= 4)\nprint('For comparison: if the remaining 7 dice were uniform and independent d14s:')\nprint(7 @ (icepool.d14 < 10) <= 4)",
      "metadata": {
        "trusted": true
      },
      "execution_count": 2,
      "outputs": [
        {
          "name": "stdout",
          "text": "For comparison: if the remaining 7 dice were uniform and independent d20s:\nDenominator: 1280000000\n\n| Outcome | Weight     | Chance (%) |\n|:--------|-----------:|-----------:|\n| False   |  195747435 |  15.292768 |\n| True    | 1084252565 |  84.707232 |\n\nFor comparison: if the remaining 7 dice were uniform and independent d14s:\nDenominator: 105413504\n\n| Outcome | Weight   | Chance (%) |\n|:--------|---------:|-----------:|\n| False   | 54384129 |  51.591235 |\n| True    | 51029375 |  48.408765 |\n\n",
          "output_type": "stream"
        }
      ]
    },
    {
      "cell_type": "markdown",
      "source": "\n\n",
      "metadata": {}
    }
  ]
}