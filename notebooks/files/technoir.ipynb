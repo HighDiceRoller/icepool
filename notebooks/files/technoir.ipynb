{
  "metadata": {
    "language_info": {
      "codemirror_mode": {
        "name": "python",
        "version": 3
      },
      "file_extension": ".py",
      "mimetype": "text/x-python",
      "name": "python",
      "nbconvert_exporter": "python",
      "pygments_lexer": "ipython3",
      "version": "3.8"
    },
    "kernelspec": {
      "name": "python",
      "display_name": "Pyolite",
      "language": "python"
    }
  },
  "nbformat_minor": 4,
  "nbformat": 4,
  "cells": [
    {
      "cell_type": "markdown",
      "source": "## Technoir\n\n[Official site.](http://www.technoirrpg.com/)\n\n[StackExchange question.](https://rpg.stackexchange.com/questions/66991/how-to-calculate-probabilities-for-a-three-pool-elimination-mechanic)\n\nThis system consists of three pools of d6s: Action, Push, and Hurt.\n\n1. Roll all three pools.\n2. Remove any Action and Push dice that show the same number as any Hurt die.\n3. The primary result is the highest number on any surviving Action or Push die.\n4. The secondary result is whether more than one die rolled that highest number.\n5. Also, output the number of surviving Push dice (of any number).",
      "metadata": {}
    },
    {
      "cell_type": "code",
      "source": "import piplite\nawait piplite.install(\"icepool\")\n\nimport icepool\nfrom icepool import d6\n\n# An OutcomeCountEvaluator incrementally computes the result\n# given how many dice in each pool rolled each outcome.\nclass EvalTechnoir(icepool.OutcomeCountEvaluator):\n    def next_state(self, state, outcome, action, push, hurt):\n        if state is None:\n            # Initial state.\n            highest, multiple_highest, surviving_push = 0, False, 0\n        else:\n            highest, multiple_highest, surviving_push = state\n        # If this number is not cancelled...\n        if hurt == 0:\n            total = action + push\n            if total > 0:\n                # Outcomes are seen in ascending order by default,\n                # so a new outcome is always the highest.\n                highest = outcome\n                multiple_highest = total > 1\n                surviving_push += push\n        return highest, multiple_highest, surviving_push\n\neval_technoir = EvalTechnoir()\n\n# 3d6 Action, 2d6 Push, 4d6 Hurt.\n# The outcomes are the highest surviving die,\n# whether more than one die rolled the highest number,\n# and the number of surviving Push dice (of any outcome).\nprint(eval_technoir(d6.pool(3), d6.pool(2), d6.pool(4)))",
      "metadata": {
        "trusted": true
      },
      "execution_count": 1,
      "outputs": [
        {
          "name": "stdout",
          "text": "Denominator: 10077696\n\n| Outcome[0] | Outcome[1] | Outcome[2] | Weights | Probability |\n|-----------:|-----------:|-----------:|--------:|------------:|\n|          0 |      False |          0 |  550326 |   5.460832% |\n|          1 |      False |          0 |  186375 |   1.849381% |\n|          1 |      False |          1 |  124250 |   1.232921% |\n|          1 |       True |          0 |   61300 |   0.608274% |\n|          1 |       True |          1 |  149190 |   1.480398% |\n|          1 |       True |          2 |   41860 |   0.415373% |\n|          2 |      False |          0 |  229035 |   2.272692% |\n|          2 |      False |          1 |  239410 |   2.375642% |\n|          2 |      False |          2 |   40060 |   0.397511% |\n|          2 |       True |          0 |   67360 |   0.668407% |\n|          2 |       True |          1 |  199550 |   1.980115% |\n|          2 |       True |          2 |   87440 |   0.867659% |\n|          3 |      False |          0 |  274665 |   2.725474% |\n|          3 |      False |          1 |  381750 |   3.788068% |\n|          3 |      False |          2 |  108740 |   1.079016% |\n|          3 |       True |          0 |   73420 |   0.728540% |\n|          3 |       True |          1 |  254590 |   2.526272% |\n|          3 |       True |          2 |  146520 |   1.453904% |\n|          4 |      False |          0 |  323265 |   3.207727% |\n|          4 |      False |          1 |  552710 |   5.484488% |\n|          4 |      False |          2 |  211080 |   2.094526% |\n|          4 |       True |          0 |   79480 |   0.788672% |\n|          4 |       True |          1 |  314310 |   3.118868% |\n|          4 |       True |          2 |  220060 |   2.183634% |\n|          5 |      False |          0 |  374835 |   3.719451% |\n|          5 |      False |          1 |  753730 |   7.479190% |\n|          5 |      False |          2 |  352240 |   3.495243% |\n|          5 |       True |          0 |   85540 |   0.848805% |\n|          5 |       True |          1 |  378710 |   3.757903% |\n|          5 |       True |          2 |  309020 |   3.066375% |\n|          6 |      False |          0 |  429375 |   4.260646% |\n|          6 |      False |          1 |  986250 |   9.786463% |\n|          6 |      False |          2 |  537500 |   5.333560% |\n|          6 |       True |          0 |   91600 |   0.908938% |\n|          6 |       True |          1 |  447790 |   4.443377% |\n|          6 |       True |          2 |  414360 |   4.111654% |\n\n",
          "output_type": "stream"
        }
      ]
    },
    {
      "cell_type": "code",
      "source": "",
      "metadata": {},
      "execution_count": null,
      "outputs": []
    }
  ]
}