{
  "metadata": {
    "language_info": {
      "codemirror_mode": {
        "name": "python",
        "version": 3
      },
      "file_extension": ".py",
      "mimetype": "text/x-python",
      "name": "python",
      "nbconvert_exporter": "python",
      "pygments_lexer": "ipython3",
      "version": "3.8"
    },
    "kernelspec": {
      "name": "python",
      "display_name": "Pyolite",
      "language": "python"
    }
  },
  "nbformat_minor": 4,
  "nbformat": 4,
  "cells": [
    {
      "cell_type": "markdown",
      "source": "## All matching sets\n\n[Blog post.](https://asteroid.divnull.com/2008/01/chance-of-reign/)\n\n[Question on Reddit.](https://www.reddit.com/r/askmath/comments/rqtqkq/probability_value_has_chance_in_a_way_i_dont/)\n\n[Another question on Reddit.](https://www.reddit.com/r/RPGdesign/comments/u8yuhg/odds_of_multiples_doubles_triples_quads_quints/)\n\n[Question on StackExchange.](https://math.stackexchange.com/questions/4436121/probability-of-rolling-repeated-numbers)\n\nRoll a bunch of dice, and find **all** matching sets (pairs, triples, etc.)\n\nWe *could* manually enumerate every case as per the blog post. However, this is prone to error.\nFortunately, Icepool can do this simply and reasonably efficiently with no explicit combinatorics on the user's part.",
      "metadata": {}
    },
    {
      "cell_type": "code",
      "source": "import piplite\nawait piplite.install(\"icepool\")\n\nimport icepool\n\nclass AllMatchingSets(icepool.EvalPool):\n    def next_state(self, state, outcome, count):\n        if state is None:\n            state = ()\n        # If at least a pair, append the size of the matching set.\n        if count >= 2:\n            state += (count,)\n        # Prioritize larger sets.\n        return tuple(sorted(state, reverse=True))\n\nall_matching_sets = AllMatchingSets()\n\n# Evaluate on 10d10.\nprint(all_matching_sets.eval(icepool.d10.pool(10)))",
      "metadata": {
        "trusted": true
      },
      "execution_count": 1,
      "outputs": [
        {
          "name": "stdout",
          "text": "Denominator: 10000000000\n\n|         Outcome |     Weight | Probability |\n|----------------:|-----------:|------------:|\n|              () |    3628800 |   0.036288% |\n|            (2,) |  163296000 |   1.632960% |\n|          (2, 2) | 1143072000 |  11.430720% |\n|       (2, 2, 2) | 1905120000 |  19.051200% |\n|    (2, 2, 2, 2) |  714420000 |   7.144200% |\n| (2, 2, 2, 2, 2) |   28576800 |   0.285768% |\n|            (3,) |  217728000 |   2.177280% |\n|          (3, 2) | 1524096000 |  15.240960% |\n|       (3, 2, 2) | 1905120000 |  19.051200% |\n|    (3, 2, 2, 2) |  381024000 |   3.810240% |\n|          (3, 3) |  317520000 |   3.175200% |\n|       (3, 3, 2) |  381024000 |   3.810240% |\n|    (3, 3, 2, 2) |   31752000 |   0.317520% |\n|       (3, 3, 3) |   14112000 |   0.141120% |\n|            (4,) |  127008000 |   1.270080% |\n|          (4, 2) |  476280000 |   4.762800% |\n|       (4, 2, 2) |  285768000 |   2.857680% |\n|    (4, 2, 2, 2) |   15876000 |   0.158760% |\n|          (4, 3) |  127008000 |   1.270080% |\n|       (4, 3, 2) |   63504000 |   0.635040% |\n|       (4, 3, 3) |    1512000 |   0.015120% |\n|          (4, 4) |    7938000 |   0.079380% |\n|       (4, 4, 2) |    1134000 |   0.011340% |\n|            (5,) |   38102400 |   0.381024% |\n|          (5, 2) |   76204800 |   0.762048% |\n|       (5, 2, 2) |   19051200 |   0.190512% |\n|          (5, 3) |   12700800 |   0.127008% |\n|       (5, 3, 2) |    1814400 |   0.018144% |\n|          (5, 4) |     907200 |   0.009072% |\n|          (5, 5) |      11340 |   0.000113% |\n|            (6,) |    6350400 |   0.063504% |\n|          (6, 2) |    6350400 |   0.063504% |\n|       (6, 2, 2) |     453600 |   0.004536% |\n|          (6, 3) |     604800 |   0.006048% |\n|          (6, 4) |      18900 |   0.000189% |\n|            (7,) |     604800 |   0.006048% |\n|          (7, 2) |     259200 |   0.002592% |\n|          (7, 3) |      10800 |   0.000108% |\n|            (8,) |      32400 |   0.000324% |\n|          (8, 2) |       4050 |   0.000041% |\n|            (9,) |        900 |   0.000009% |\n|           (10,) |         10 |   0.000000% |\n\n",
          "output_type": "stream"
        }
      ]
    },
    {
      "cell_type": "markdown",
      "source": "### Mixed pools\n\nIn fact, Icepool can compute this for mixed pools of standard dice as well. [Similar StackExchange question.](https://rpg.stackexchange.com/questions/179043/how-to-count-duplicates-in-a-mixed-pool-using-anydice)",
      "metadata": {}
    },
    {
      "cell_type": "code",
      "source": "# Evaluate on a pool of 3d12, 2d10, 1d8.\nprint(all_matching_sets.eval(icepool.standard_pool(12, 12, 12, 10, 10, 8)))",
      "metadata": {
        "trusted": true
      },
      "execution_count": 2,
      "outputs": [
        {
          "name": "stdout",
          "text": "Denominator: 1382400\n\n|   Outcome | Weight | Probability |\n|----------:|-------:|------------:|\n|        () | 290304 |  21.000000% |\n|      (2,) | 653184 |  47.250000% |\n|    (2, 2) | 256608 |  18.562500% |\n| (2, 2, 2) |   9936 |   0.718750% |\n|      (3,) | 118080 |   8.541667% |\n|    (3, 2) |  41088 |   2.972222% |\n|    (3, 3) |    736 |   0.053241% |\n|      (4,) |  10848 |   0.784722% |\n|    (4, 2) |   1128 |   0.081597% |\n|      (5,) |    480 |   0.034722% |\n|      (6,) |      8 |   0.000579% |\n\n",
          "output_type": "stream"
        }
      ]
    },
    {
      "cell_type": "markdown",
      "source": "### Improving efficiency for more specific queries\n\nIf you have a more specific query than enumerating all possible sets of matching sets, you can reduce the state space and improve efficiency by only retaining enough information to compute the answer. For example, if you just want to know the number of pairs (counting e.g. a quadruple as two pairs---if you want unique pairs just replace `//` with `>=`):",
      "metadata": {}
    },
    {
      "cell_type": "code",
      "source": "class NumPairs(icepool.EvalPool):\n    def next_state(self, state, outcome, count):\n        return (state or 0) + (count // 2)\n\nnum_pairs = NumPairs()\n\n# Evaluate on 10d10.\nprint(num_pairs.eval(icepool.Pool(icepool.d10, 10)))",
      "metadata": {
        "trusted": true
      },
      "execution_count": 3,
      "outputs": [
        {
          "name": "stdout",
          "text": "Denominator: 10000000000\n\n| Outcome |     Weight | Probability |\n|--------:|-----------:|------------:|\n|       0 |    3628800 |   0.036288% |\n|       1 |  381024000 |   3.810240% |\n|       2 | 3149798400 |  31.497984% |\n|       3 | 4904524800 |  49.045248% |\n|       4 | 1514960640 |  15.149606% |\n|       5 |   46063360 |   0.460634% |\n\n",
          "output_type": "stream"
        }
      ]
    },
    {
      "cell_type": "markdown",
      "source": "### Loop over pool sizes\n\nI placed this at the end because the tables are long.",
      "metadata": {}
    },
    {
      "cell_type": "code",
      "source": "for pool_size in range(1, 11):\n    print(f'### Pool size {pool_size}')\n    print(all_matching_sets.eval(icepool.Pool(icepool.d10, pool_size)))",
      "metadata": {
        "trusted": true
      },
      "execution_count": 4,
      "outputs": [
        {
          "name": "stdout",
          "text": "### Pool size 1\nDenominator: 10\n\n| Weight | Probability |\n|-------:|------------:|\n|     10 | 100.000000% |\n\n### Pool size 2\nDenominator: 100\n\n| Outcome | Weight | Probability |\n|--------:|-------:|------------:|\n|      () |     90 |  90.000000% |\n|    (2,) |     10 |  10.000000% |\n\n### Pool size 3\nDenominator: 1000\n\n| Outcome | Weight | Probability |\n|--------:|-------:|------------:|\n|      () |    720 |  72.000000% |\n|    (2,) |    270 |  27.000000% |\n|    (3,) |     10 |   1.000000% |\n\n### Pool size 4\nDenominator: 10000\n\n| Outcome | Weight | Probability |\n|--------:|-------:|------------:|\n|      () |   5040 |  50.400000% |\n|    (2,) |   4320 |  43.200000% |\n|  (2, 2) |    270 |   2.700000% |\n|    (3,) |    360 |   3.600000% |\n|    (4,) |     10 |   0.100000% |\n\n### Pool size 5\nDenominator: 100000\n\n| Outcome | Weight | Probability |\n|--------:|-------:|------------:|\n|      () |  30240 |  30.240000% |\n|    (2,) |  50400 |  50.400000% |\n|  (2, 2) |  10800 |  10.800000% |\n|    (3,) |   7200 |   7.200000% |\n|  (3, 2) |    900 |   0.900000% |\n|    (4,) |    450 |   0.450000% |\n|    (5,) |     10 |   0.010000% |\n\n### Pool size 6\nDenominator: 1000000\n\n|   Outcome | Weight | Probability |\n|----------:|-------:|------------:|\n|        () | 151200 |  15.120000% |\n|      (2,) | 453600 |  45.360000% |\n|    (2, 2) | 226800 |  22.680000% |\n| (2, 2, 2) |  10800 |   1.080000% |\n|      (3,) | 100800 |  10.080000% |\n|    (3, 2) |  43200 |   4.320000% |\n|    (3, 3) |    900 |   0.090000% |\n|      (4,) |  10800 |   1.080000% |\n|    (4, 2) |   1350 |   0.135000% |\n|      (5,) |    540 |   0.054000% |\n|      (6,) |     10 |   0.001000% |\n\n### Pool size 7\nDenominator: 10000000\n\n|   Outcome |  Weight | Probability |\n|----------:|--------:|------------:|\n|        () |  604800 |   6.048000% |\n|      (2,) | 3175200 |  31.752000% |\n|    (2, 2) | 3175200 |  31.752000% |\n| (2, 2, 2) |  529200 |   5.292000% |\n|      (3,) | 1058400 |  10.584000% |\n|    (3, 2) | 1058400 |  10.584000% |\n| (3, 2, 2) |   75600 |   0.756000% |\n|    (3, 3) |   50400 |   0.504000% |\n|      (4,) |  176400 |   1.764000% |\n|    (4, 2) |   75600 |   0.756000% |\n|    (4, 3) |    3150 |   0.031500% |\n|      (5,) |   15120 |   0.151200% |\n|    (5, 2) |    1890 |   0.018900% |\n|      (6,) |     630 |   0.006300% |\n|      (7,) |      10 |   0.000100% |\n\n### Pool size 8\nDenominator: 100000000\n\n|      Outcome |   Weight | Probability |\n|-------------:|---------:|------------:|\n|           () |  1814400 |   1.814400% |\n|         (2,) | 16934400 |  16.934400% |\n|       (2, 2) | 31752000 |  31.752000% |\n|    (2, 2, 2) | 12700800 |  12.700800% |\n| (2, 2, 2, 2) |   529200 |   0.529200% |\n|         (3,) |  8467200 |   8.467200% |\n|       (3, 2) | 16934400 |  16.934400% |\n|    (3, 2, 2) |  4233600 |   4.233600% |\n|       (3, 3) |  1411200 |   1.411200% |\n|    (3, 3, 2) |   201600 |   0.201600% |\n|         (4,) |  2116800 |   2.116800% |\n|       (4, 2) |  2116800 |   2.116800% |\n|    (4, 2, 2) |   151200 |   0.151200% |\n|       (4, 3) |   201600 |   0.201600% |\n|       (4, 4) |     3150 |   0.003150% |\n|         (5,) |   282240 |   0.282240% |\n|       (5, 2) |   120960 |   0.120960% |\n|       (5, 3) |     5040 |   0.005040% |\n|         (6,) |    20160 |   0.020160% |\n|       (6, 2) |     2520 |   0.002520% |\n|         (7,) |      720 |   0.000720% |\n|         (8,) |       10 |   0.000010% |\n\n### Pool size 9\nDenominator: 1000000000\n\n|      Outcome |    Weight | Probability |\n|-------------:|----------:|------------:|\n|           () |   3628800 |   0.362880% |\n|         (2,) |  65318400 |   6.531840% |\n|       (2, 2) | 228614400 |  22.861440% |\n|    (2, 2, 2) | 190512000 |  19.051200% |\n| (2, 2, 2, 2) |  28576800 |   2.857680% |\n|         (3,) |  50803200 |   5.080320% |\n|       (3, 2) | 190512000 |  19.051200% |\n|    (3, 2, 2) | 114307200 |  11.430720% |\n| (3, 2, 2, 2) |   6350400 |   0.635040% |\n|       (3, 3) |  25401600 |   2.540160% |\n|    (3, 3, 2) |  12700800 |   1.270080% |\n|    (3, 3, 3) |    201600 |   0.020160% |\n|         (4,) |  19051200 |   1.905120% |\n|       (4, 2) |  38102400 |   3.810240% |\n|    (4, 2, 2) |   9525600 |   0.952560% |\n|       (4, 3) |   6350400 |   0.635040% |\n|    (4, 3, 2) |    907200 |   0.090720% |\n|       (4, 4) |    226800 |   0.022680% |\n|         (5,) |   3810240 |   0.381024% |\n|       (5, 2) |   3810240 |   0.381024% |\n|    (5, 2, 2) |    272160 |   0.027216% |\n|       (5, 3) |    362880 |   0.036288% |\n|       (5, 4) |     11340 |   0.001134% |\n|         (6,) |    423360 |   0.042336% |\n|       (6, 2) |    181440 |   0.018144% |\n|       (6, 3) |      7560 |   0.000756% |\n|         (7,) |     25920 |   0.002592% |\n|       (7, 2) |      3240 |   0.000324% |\n|         (8,) |       810 |   0.000081% |\n|         (9,) |        10 |   0.000001% |\n\n### Pool size 10\nDenominator: 10000000000\n\n|         Outcome |     Weight | Probability |\n|----------------:|-----------:|------------:|\n|              () |    3628800 |   0.036288% |\n|            (2,) |  163296000 |   1.632960% |\n|          (2, 2) | 1143072000 |  11.430720% |\n|       (2, 2, 2) | 1905120000 |  19.051200% |\n|    (2, 2, 2, 2) |  714420000 |   7.144200% |\n| (2, 2, 2, 2, 2) |   28576800 |   0.285768% |\n|            (3,) |  217728000 |   2.177280% |\n|          (3, 2) | 1524096000 |  15.240960% |\n|       (3, 2, 2) | 1905120000 |  19.051200% |\n|    (3, 2, 2, 2) |  381024000 |   3.810240% |\n|          (3, 3) |  317520000 |   3.175200% |\n|       (3, 3, 2) |  381024000 |   3.810240% |\n|    (3, 3, 2, 2) |   31752000 |   0.317520% |\n|       (3, 3, 3) |   14112000 |   0.141120% |\n|            (4,) |  127008000 |   1.270080% |\n|          (4, 2) |  476280000 |   4.762800% |\n|       (4, 2, 2) |  285768000 |   2.857680% |\n|    (4, 2, 2, 2) |   15876000 |   0.158760% |\n|          (4, 3) |  127008000 |   1.270080% |\n|       (4, 3, 2) |   63504000 |   0.635040% |\n|       (4, 3, 3) |    1512000 |   0.015120% |\n|          (4, 4) |    7938000 |   0.079380% |\n|       (4, 4, 2) |    1134000 |   0.011340% |\n|            (5,) |   38102400 |   0.381024% |\n|          (5, 2) |   76204800 |   0.762048% |\n|       (5, 2, 2) |   19051200 |   0.190512% |\n|          (5, 3) |   12700800 |   0.127008% |\n|       (5, 3, 2) |    1814400 |   0.018144% |\n|          (5, 4) |     907200 |   0.009072% |\n|          (5, 5) |      11340 |   0.000113% |\n|            (6,) |    6350400 |   0.063504% |\n|          (6, 2) |    6350400 |   0.063504% |\n|       (6, 2, 2) |     453600 |   0.004536% |\n|          (6, 3) |     604800 |   0.006048% |\n|          (6, 4) |      18900 |   0.000189% |\n|            (7,) |     604800 |   0.006048% |\n|          (7, 2) |     259200 |   0.002592% |\n|          (7, 3) |      10800 |   0.000108% |\n|            (8,) |      32400 |   0.000324% |\n|          (8, 2) |       4050 |   0.000041% |\n|            (9,) |        900 |   0.000009% |\n|           (10,) |         10 |   0.000000% |\n\n",
          "output_type": "stream"
        }
      ]
    },
    {
      "cell_type": "code",
      "source": "",
      "metadata": {},
      "execution_count": null,
      "outputs": []
    }
  ]
}