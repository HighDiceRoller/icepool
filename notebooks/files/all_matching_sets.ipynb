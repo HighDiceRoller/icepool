{
  "metadata": {
    "language_info": {
      "codemirror_mode": {
        "name": "python",
        "version": 3
      },
      "file_extension": ".py",
      "mimetype": "text/x-python",
      "name": "python",
      "nbconvert_exporter": "python",
      "pygments_lexer": "ipython3",
      "version": "3.8"
    },
    "kernelspec": {
      "name": "python",
      "display_name": "Pyolite",
      "language": "python"
    }
  },
  "nbformat_minor": 4,
  "nbformat": 4,
  "cells": [
    {
      "cell_type": "markdown",
      "source": "## All matching sets\n\n[Blog post.](https://asteroid.divnull.com/2008/01/chance-of-reign/)\n\n[Question on Reddit.](https://www.reddit.com/r/askmath/comments/rqtqkq/probability_value_has_chance_in_a_way_i_dont/)\n\nRoll a bunch of dice, and find **all** matching sets (pairs, triples, etc.)\n\nWe *could* manually enumerate every case as per the blog post. However, this is prone to error.\nFortunately, icepool can do this simply and efficiently with no explicit combinatorics on the user's part.",
      "metadata": {}
    },
    {
      "cell_type": "code",
      "source": "import piplite\nawait piplite.install(\"icepool\")\n\nimport icepool\n\nclass AllMatchingSets(icepool.EvalPool):\n    def next_state(self, state, outcome, count):\n        if state is None:\n            state = ()\n        # If at least a pair, append the matching set.\n        if count >= 2:\n            state += (count,)\n        # Prioritize larger sets.\n        return tuple(sorted(state, reverse=True))\n\nall_matching_sets = AllMatchingSets()\n\n# Evaluate on 10 d10s.\nprint(all_matching_sets.eval(icepool.Pool(icepool.d10, 10)))",
      "metadata": {
        "trusted": true
      },
      "execution_count": 1,
      "outputs": [
        {
          "name": "stdout",
          "text": "Denominator: 10000000000\n|         Outcome |     Weight | Probability |\n|----------------:|-----------:|------------:|\n|              () |    3628800 |   0.036288% |\n|            (2,) |  163296000 |   1.632960% |\n|          (2, 2) | 1143072000 |  11.430720% |\n|       (2, 2, 2) | 1905120000 |  19.051200% |\n|    (2, 2, 2, 2) |  714420000 |   7.144200% |\n| (2, 2, 2, 2, 2) |   28576800 |   0.285768% |\n|            (3,) |  217728000 |   2.177280% |\n|          (3, 2) | 1524096000 |  15.240960% |\n|       (3, 2, 2) | 1905120000 |  19.051200% |\n|    (3, 2, 2, 2) |  381024000 |   3.810240% |\n|          (3, 3) |  317520000 |   3.175200% |\n|       (3, 3, 2) |  381024000 |   3.810240% |\n|    (3, 3, 2, 2) |   31752000 |   0.317520% |\n|       (3, 3, 3) |   14112000 |   0.141120% |\n|            (4,) |  127008000 |   1.270080% |\n|          (4, 2) |  476280000 |   4.762800% |\n|       (4, 2, 2) |  285768000 |   2.857680% |\n|    (4, 2, 2, 2) |   15876000 |   0.158760% |\n|          (4, 3) |  127008000 |   1.270080% |\n|       (4, 3, 2) |   63504000 |   0.635040% |\n|       (4, 3, 3) |    1512000 |   0.015120% |\n|          (4, 4) |    7938000 |   0.079380% |\n|       (4, 4, 2) |    1134000 |   0.011340% |\n|            (5,) |   38102400 |   0.381024% |\n|          (5, 2) |   76204800 |   0.762048% |\n|       (5, 2, 2) |   19051200 |   0.190512% |\n|          (5, 3) |   12700800 |   0.127008% |\n|       (5, 3, 2) |    1814400 |   0.018144% |\n|          (5, 4) |     907200 |   0.009072% |\n|          (5, 5) |      11340 |   0.000113% |\n|            (6,) |    6350400 |   0.063504% |\n|          (6, 2) |    6350400 |   0.063504% |\n|       (6, 2, 2) |     453600 |   0.004536% |\n|          (6, 3) |     604800 |   0.006048% |\n|          (6, 4) |      18900 |   0.000189% |\n|            (7,) |     604800 |   0.006048% |\n|          (7, 2) |     259200 |   0.002592% |\n|          (7, 3) |      10800 |   0.000108% |\n|            (8,) |      32400 |   0.000324% |\n|          (8, 2) |       4050 |   0.000041% |\n|            (9,) |        900 |   0.000009% |\n|           (10,) |         10 |   0.000000% |\n\n",
          "output_type": "stream"
        }
      ]
    },
    {
      "cell_type": "markdown",
      "source": "### Mixed pools\n\nIn fact, icepool can compute this for mixed pools of standard dice as well. [Similar StackExchange question.](https://rpg.stackexchange.com/questions/179043/how-to-count-duplicates-in-a-mixed-pool-using-anydice)",
      "metadata": {}
    },
    {
      "cell_type": "code",
      "source": "# Evaluate on a pool of 3d12, 2d10, 1d8.\nprint(all_matching_sets.eval(icepool.standard_pool(12, 12, 12, 10, 10, 8)))",
      "metadata": {
        "trusted": true
      },
      "execution_count": 2,
      "outputs": [
        {
          "name": "stdout",
          "text": "Denominator: 1382400\n|   Outcome | Weight | Probability |\n|----------:|-------:|------------:|\n|        () | 290304 |  21.000000% |\n|      (2,) | 653184 |  47.250000% |\n|    (2, 2) | 256608 |  18.562500% |\n| (2, 2, 2) |   9936 |   0.718750% |\n|      (3,) | 118080 |   8.541667% |\n|    (3, 2) |  41088 |   2.972222% |\n|    (3, 3) |    736 |   0.053241% |\n|      (4,) |  10848 |   0.784722% |\n|    (4, 2) |   1128 |   0.081597% |\n|      (5,) |    480 |   0.034722% |\n|      (6,) |      8 |   0.000579% |\n\n",
          "output_type": "stream"
        }
      ]
    },
    {
      "cell_type": "code",
      "source": "",
      "metadata": {},
      "execution_count": null,
      "outputs": []
    }
  ]
}