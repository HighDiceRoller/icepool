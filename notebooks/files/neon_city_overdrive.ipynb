{
  "metadata": {
    "kernelspec": {
      "name": "python",
      "display_name": "Pyolite",
      "language": "python"
    },
    "language_info": {
      "codemirror_mode": {
        "name": "python",
        "version": 3
      },
      "file_extension": ".py",
      "mimetype": "text/x-python",
      "name": "python",
      "nbconvert_exporter": "python",
      "pygments_lexer": "ipython3",
      "version": "3.8"
    }
  },
  "nbformat_minor": 4,
  "nbformat": 4,
  "cells": [
    {
      "cell_type": "markdown",
      "source": "## *Neon City Overdrive*\n\n[Official site.](https://www.perilplanet.com/neon-city-overdrive/)\n\n[StackExchange question.](https://rpg.stackexchange.com/questions/171498/how-to-calculate-the-probabilities-for-eliminative-dice-pools-dice-cancelling-m)\n\nThe system works as follows:\n\n1. The player rolls an \"Action\" pool of d6s and the opposition rolls a \"Danger\" pool of d6s.\n2. Each Danger die cancels one Action die that rolled the same number. (Excess Danger dice of a particular number have no effect.)\n3. The result is the highest uncancelled Action die. If there are uncancelled 6s, each one beyond the first counts as a Boon (here represented as results above 6).",
      "metadata": {}
    },
    {
      "cell_type": "code",
      "source": "import piplite\nawait piplite.install(\"icepool\")\n\nimport icepool\n\nclass EvalNco(icepool.OutcomeCountEvaluator):\n    # next_state sees each of the outcomes (1-6) one at a time,\n    # along with how many Action and Danger dice rolled that outcome.\n    def next_state(self, state, outcome, action, danger):\n        if state is None:\n            state = 0\n        if action > danger:\n            if outcome == 6:\n                return action - danger + 5\n            else:\n                return max(outcome, state)\n        else:\n            return state\n\n# 11 dice vs. 11 dice.\nresult = EvalNco().evaluate(icepool.d6.pool(11), icepool.d6.pool(11))\nprint(result)",
      "metadata": {
        "trusted": true
      },
      "execution_count": 1,
      "outputs": [
        {
          "name": "stdout",
          "text": "Die with denominator 131621703842267136\n\n| Outcome |          Quantity | Probability |\n|--------:|------------------:|------------:|\n|       0 |   120430899525096 |   0.091498% |\n|       1 |  2522395308976020 |   1.916398% |\n|       2 |  6894369347858052 |   5.238019% |\n|       3 | 13547506290025944 |  10.292760% |\n|       4 | 22823611358939616 |  17.340310% |\n|       5 | 35070648792732228 |  26.645035% |\n|       6 | 25566858159294430 |  19.424500% |\n|       7 | 15442366097229500 |  11.732386% |\n|       8 |  6790569584411250 |   5.159156% |\n|       9 |  2203227290550000 |   1.673909% |\n|      10 |   531089314490625 |   0.403497% |\n|      11 |    94956991593750 |   0.072144% |\n|      12 |    12437652734375 |   0.009450% |\n|      13 |     1160757812500 |   0.000882% |\n|      14 |       73154296875 |   0.000056% |\n|      15 |        2792968750 |   0.000002% |\n|      16 |          48828125 |   0.000000% |\n\n\n",
          "output_type": "stream"
        }
      ]
    },
    {
      "cell_type": "code",
      "source": "",
      "metadata": {},
      "execution_count": null,
      "outputs": []
    }
  ]
}