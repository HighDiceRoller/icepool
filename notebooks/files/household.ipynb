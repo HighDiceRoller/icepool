{
  "metadata": {
    "language_info": {
      "codemirror_mode": {
        "name": "python",
        "version": 3
      },
      "file_extension": ".py",
      "mimetype": "text/x-python",
      "name": "python",
      "nbconvert_exporter": "python",
      "pygments_lexer": "ipython3",
      "version": "3.8"
    },
    "kernelspec": {
      "name": "python",
      "display_name": "Pyolite",
      "language": "python"
    }
  },
  "nbformat_minor": 4,
  "nbformat": 4,
  "cells": [
    {
      "cell_type": "markdown",
      "source": "## *Household*\n\n[Official website.](https://twolittlemice.net/household/)\n\n[StackExchange question.](https://rpg.stackexchange.com/questions/198720/anydice-statistics-for-the-fortune-system-by-broken-compass)\n\n### Basic summary\n\nSix-sided dice have one face labeled with each of the following:\n\n* Each of the four card suits.\n* A joker.\n* A blank.\n\nHow to roll:\n\n* Roll a pool of these dice.\n* Find the largest matching set. The size of this set determines the degree of success.\n* Blanks count for nothing.\n* A joker can act as any other symbol.",
      "metadata": {}
    },
    {
      "cell_type": "code",
      "source": "import piplite\nawait piplite.install(\"icepool\")\n\nimport icepool\n\n# Use a \"one-hot\" representation.\n# Each element of the tuple counts how many dice rolled that symbol.\n# It's possible to squeeze more computational efficiency out of this problem,\n# but this is more than good enough for this mechanic.\nfortune = icepool.Die([\n    (0, 0, 0, 0, 0),  # blank\n    (1, 0, 0, 0, 0),  # spade\n    (0, 1, 0, 0, 0),  # heart\n    (0, 0, 1, 0, 0),  # diamond\n    (0, 0, 0, 1, 0),  # club\n    (0, 0, 0, 0, 1)   # joker\n])\n\ndef largest_match(outcome):\n    \"\"\"The largest matching set that can be formed.\"\"\"\n    suits = outcome[:4]\n    joker = outcome[4]\n    return max(suits) + joker\n\nprint('DICE|BASIC (pair)|CRITICAL (triple)|EXTREME (quad)|IMPOSS. (quint+)')\nprint('-----|-----|-----|-----|-----')\n\nfor num_dice in range(2, 10):\n    result = (num_dice @ fortune).map(largest_match)\n    row = f'{num_dice}'\n    for set_size in [2, 3, 4, 5]:\n        p = (result >= set_size).mean()\n        row += f'|{p:0.2%}'\n    print(row)\n",
      "metadata": {
        "trusted": true
      },
      "execution_count": 1,
      "outputs": [
        {
          "name": "stdout",
          "text": "DICE|BASIC (pair)|CRITICAL (triple)|EXTREME (quad)|IMPOSS. (quint+)\n-----|-----|-----|-----|-----\n2|36.11%|0.00%|0.00%|0.00%\n3|64.81%|13.43%|0.00%|0.00%\n4|83.56%|34.03%|4.71%|0.00%\n5|93.49%|55.56%|15.56%|1.61%\n6|97.75%|73.02%|31.14%|6.55%\n7|99.30%|84.95%|48.13%|15.56%\n8|99.80%|92.23%|63.63%|27.84%\n9|99.95%|96.31%|76.18%|41.76%\n",
          "output_type": "stream"
        }
      ]
    },
    {
      "cell_type": "code",
      "source": "",
      "metadata": {},
      "execution_count": null,
      "outputs": []
    }
  ]
}