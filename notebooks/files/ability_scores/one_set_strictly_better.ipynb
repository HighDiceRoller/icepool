{
  "metadata": {
    "kernelspec": {
      "name": "python",
      "display_name": "Python (Pyodide)",
      "language": "python"
    },
    "language_info": {
      "codemirror_mode": {
        "name": "python",
        "version": 3
      },
      "file_extension": ".py",
      "mimetype": "text/x-python",
      "name": "python",
      "nbconvert_exporter": "python",
      "pygments_lexer": "ipython3",
      "version": "3.8"
    }
  },
  "nbformat_minor": 4,
  "nbformat": 4,
  "cells": [
    {
      "cell_type": "markdown",
      "source": "## Probability that one set of dice rolls is greater than or equal to a given set\n\n[StackExchange question.](https://math.stackexchange.com/questions/4379856/probability-that-one-set-of-dice-rolls-is-greater-than-or-equal-to-a-given-set)\n\n### Single ability\n\nFirst, we generate the distribution of a single ability score of 4d6, keep 3 highest. This is small enough for brute force enumeration of all possibilities, though more efficient algorithms do exist. More on this later.",
      "metadata": {}
    },
    {
      "cell_type": "code",
      "source": "%pip install icepool\n\nimport icepool\n\nsingle_ability = icepool.d6.highest(4, 3)\n\nprint(single_ability)",
      "metadata": {
        "trusted": true
      },
      "outputs": [
        {
          "name": "stdout",
          "output_type": "stream",
          "text": "Die with denominator 1296\n\n| Outcome | Quantity | Probability |\n|--------:|---------:|------------:|\n|       3 |        1 |   0.077160% |\n|       4 |        4 |   0.308642% |\n|       5 |       10 |   0.771605% |\n|       6 |       21 |   1.620370% |\n|       7 |       38 |   2.932099% |\n|       8 |       62 |   4.783951% |\n|       9 |       91 |   7.021605% |\n|      10 |      122 |   9.413580% |\n|      11 |      148 |  11.419753% |\n|      12 |      167 |  12.885802% |\n|      13 |      172 |  13.271605% |\n|      14 |      160 |  12.345679% |\n|      15 |      131 |  10.108025% |\n|      16 |       94 |   7.253086% |\n|      17 |       54 |   4.166667% |\n|      18 |       21 |   1.620370% |\n\n\n"
        }
      ],
      "execution_count": 1
    },
    {
      "cell_type": "markdown",
      "source": "### Problem 1\n\nWhat's the chance that the sum of player A's six ability scores is greater than or equal to the sum of player B's six ability scores?\nAddition of probability distributions can be done via convolution, so this is pretty simple.",
      "metadata": {}
    },
    {
      "cell_type": "code",
      "source": "print(6 @ single_ability >= 6 @ single_ability)",
      "metadata": {
        "trusted": true
      },
      "outputs": [
        {
          "name": "stdout",
          "output_type": "stream",
          "text": "Die with denominator 22452257707354557240087211123792674816\n\n| Outcome | Probability |\n|:--------|------------:|\n| False   |  47.984490% |\n| True    |  52.015510% |\n\n\n"
        }
      ],
      "execution_count": 2
    },
    {
      "cell_type": "markdown",
      "source": "### Problem 2\n\nNow for the harder problem: what is the chance that there is some pairing of player A's ability scores and player B's ability scores\nsuch that player A's score is greater than or equal to player B's score for each pair? The trick is to express the problem not over the six pairs, but the values the scores can take.\nTo wit: what is the chance, that for all values from 18 to 3, player A will have at least as many scores of at least that value as player B? (The equivalency is left as an exercise for the reader.)\n\nFrom here, it turns out we can efficiently solve dice pool problems as long as we phrase the evaluation as\na series of iterative state transitions over tuples of (outcome, how many dice in each pool rolled that outcome)\nand keep the number of states to a minimum. In this case the \"dice\" in the pool are entire ability scores rather than individual d6s.",
      "metadata": {}
    },
    {
      "cell_type": "code",
      "source": "class SortedAllGe(icepool.MultisetEvaluator):\n    def next_state(self, state, order, outcome, a, b):\n        # state is how many dice A has of outcome or higher minus how many dice B has of outcome or higher,\n        # but \"sticks\" at -1 if it ever goes negative, indicating that B had a higher paired die at some point.\n        if state is None:\n            state = 0\n        elif state < 0:\n            return -1\n        state += a - b\n        if state < 0:\n            return -1\n        else:\n            return state\n        \n    def final_outcome(self, final_state, order, outcomes, *sizes):\n        return final_state >= 0\n    \n    def order(self):\n        # See outcomes in descending order.\n        return -1\n    \nevaluator = SortedAllGe()\nprint(evaluator.evaluate(single_ability.pool(6), single_ability.pool(6)))",
      "metadata": {
        "trusted": true
      },
      "outputs": [
        {
          "name": "stdout",
          "output_type": "stream",
          "text": "Die with denominator 22452257707354557240087211123792674816\n\n| Outcome | Probability |\n|:--------|------------:|\n| False   |  79.059181% |\n| True    |  20.940819% |\n\n\n"
        }
      ],
      "execution_count": 3
    },
    {
      "cell_type": "markdown",
      "source": "Checking this against a Monte Carlo simulation:",
      "metadata": {}
    },
    {
      "cell_type": "code",
      "source": "def sorted_all_ge_mc(n):\n    result = 0\n    for i in range(n):\n        a_scores = sorted(single_ability.sample() for i in range(6))\n        b_scores = sorted(single_ability.sample() for i in range(6))\n        if all(a >= b for a, b in zip(a_scores, b_scores)):\n            result += 1\n    return result / n\n\nprint(sorted_all_ge_mc(10000))",
      "metadata": {
        "trusted": true
      },
      "outputs": [
        {
          "name": "stdout",
          "output_type": "stream",
          "text": "0.2048\n"
        }
      ],
      "execution_count": 4
    },
    {
      "cell_type": "markdown",
      "source": "In fact, we can also formulate the problem of \"roll N dice, keep the M highest\" in this way.\nThis is what underlies the `highest()` method at the top.\nWhile more efficient algorithms do exist for that specific problem, this is still fairly fast and reduces the amount of bespoke code. The evaluation simply sums all observed dice:",
      "metadata": {}
    },
    {
      "cell_type": "code",
      "source": "class SumPool(icepool.MultisetEvaluator):\n    \"\"\" A simple `MultisetEvaluator` that just sums the dice in a pool. \"\"\"\n    def next_state(self, state, order, outcome, count):\n        \"\"\" Add the dice to the running total. \"\"\"\n        if state is None:\n            return outcome * count\n        else:\n            return state + outcome * count",
      "metadata": {
        "trusted": true
      },
      "outputs": [],
      "execution_count": 5
    },
    {
      "cell_type": "markdown",
      "source": "and the \"keep highest\" aspect is a property of the pool, which is already taken into account by the time `next_state()` sees the `count` parameter.\n\n## Variant: at least one score strictly greater than\n\nThis is the chance that A's array is strictly better than B's array (and vice versa).\n\nWe can either subtract off the chance that A and B will have exactly the same sorted array, or we can explicitly encode it into the evaluation function:",
      "metadata": {}
    },
    {
      "cell_type": "code",
      "source": "class StrictlyBetter(icepool.MultisetEvaluator):\n    def next_state_descending(self, state, outcome, a, b):\n        # This time we explicitly store whether each side had some score up on the other.\n        # This increases the state space and is therefore less efficient, but is still quite fast.\n        advantage, a_had_one_up, b_had_one_up = state or (0, False, False)\n        advantage += a - b\n        if advantage > 0:\n            a_had_one_up = True\n        if advantage < 0:\n            b_had_one_up = True\n        return advantage, a_had_one_up, b_had_one_up\n        \n    def final_outcome(self, final_state, order, outcomes, *sizes):\n        _, a_had_one_up, b_had_one_up = final_state\n        if a_had_one_up and not b_had_one_up:\n            return 'a strictly better'\n        elif b_had_one_up and not a_had_one_up:\n            return 'b strictly better'\n        elif not (a_had_one_up or b_had_one_up):\n            return 'exactly the same'\n        else:\n            return 'mixed result'\n    \nevaluator = StrictlyBetter()\nprint(evaluator.evaluate(single_ability.pool(6), single_ability.pool(6)))",
      "metadata": {
        "trusted": true
      },
      "outputs": [
        {
          "name": "stdout",
          "output_type": "stream",
          "text": "Die with denominator 22452257707354557240087211123792674816\n\n| Outcome           | Probability |\n|:------------------|------------:|\n| a strictly better |  20.918241% |\n| b strictly better |  20.918241% |\n| exactly the same  |   0.022577% |\n| mixed result      |  58.140940% |\n\n\n"
        }
      ],
      "execution_count": 6
    },
    {
      "cell_type": "code",
      "source": "",
      "metadata": {
        "trusted": true
      },
      "outputs": [],
      "execution_count": null
    }
  ]
}