{
  "metadata": {
    "language_info": {
      "codemirror_mode": {
        "name": "python",
        "version": 3
      },
      "file_extension": ".py",
      "mimetype": "text/x-python",
      "name": "python",
      "nbconvert_exporter": "python",
      "pygments_lexer": "ipython3",
      "version": "3.8"
    },
    "kernelspec": {
      "name": "python",
      "display_name": "Python (Pyodide)",
      "language": "python"
    }
  },
  "nbformat_minor": 4,
  "nbformat": 4,
  "cells": [
    {
      "cell_type": "markdown",
      "source": "## Reddit topic: Statistical Analysis of Rolling for Stats in Groups\n\n[Original topic.](https://www.reddit.com/r/dndnext/comments/wdvx9q/statistical_analysis_of_rolling_for_stats_in/)\n\nThis compares the distribution of the best, worst, and difference between best and worst ability score sets in a party.\n\nWe consider three metrics:\n\n1. Highest score.\n2. Sum of two highest modifiers.\n3. Point-buy equivalent (using values from https://chicken-dinner.com/5e/5e-point-buy.html).",
      "metadata": {}
    },
    {
      "cell_type": "code",
      "source": "%pip install icepool\n\nfrom icepool import d\n\n# First, a single example.\n\n# 4d6, keep highest 3.\nability_score = d(6).highest(4, 3)\n\n# Roll 6 scores, take the highest.\nhighest_ability = ability_score.highest(6)\n\n# 4 party members.\nparty = highest_ability.pool(4)\n\n# Take the lowest and subtract it from the highest.\ndiff_metric = party[-1, ..., 1].sum()\nprint(diff_metric)\n",
      "metadata": {
        "trusted": true
      },
      "execution_count": 1,
      "outputs": [
        {
          "name": "stdout",
          "text": "Die with denominator 504103876157462118901767181449118688686067677834070116931382690099920633856\n\n| Outcome | Probability |\n|--------:|------------:|\n|       0 |   0.995432% |\n|       1 |  11.625106% |\n|       2 |  27.658478% |\n|       3 |  30.394747% |\n|       4 |  19.330618% |\n|       5 |   7.635451% |\n|       6 |   1.972588% |\n|       7 |   0.343937% |\n|       8 |   0.040483% |\n|       9 |   0.003020% |\n|      10 |   0.000138% |\n|      11 |   0.000004% |\n|      12 |   0.000000% |\n|      13 |   0.000000% |\n|      14 |   0.000000% |\n|      15 |   0.000000% |\n\n\n",
          "output_type": "stream"
        }
      ]
    },
    {
      "cell_type": "code",
      "source": "# Now, the full tables.\n\nlargest_two_mods = ((ability_score - 10) // 2).highest(6, 2)\nchicken_dinner = {\n    3 : -9,\n    4 : -6,\n    5 : -4,\n    6 : -2,\n    7 : -1,\n    8 : 0,\n    9 : 1,\n    10 : 2,\n    11 : 3,\n    12 : 4,\n    13 : 5,\n    14 : 7,\n    15 : 9,\n    16 : 12,\n    17 : 15,\n    18 : 19,\n}\ntotal_points = 6 @ ability_score.map(chicken_dinner)\n\nheaders = ['Party size',\n           'Mean strongest',\n           'SD strongest', \n           'Mean weakest',\n           'SD weakest', \n           'Mean difference',\n           'SD difference',\n          ]\n\nheader_string = '|'.join(headers) + '\\n' + '|'.join(len(headers) * ['----:'])\n\ndef print_table(metric):\n    print(header_string)\n    for party_size in range(1, 9):\n        party = metric.pool(party_size)\n        highest_metric = party[-1]\n        lowest_metric = party[0]\n        diff_metric = party[-1, ..., 1].sum()\n        print(f'{party_size} | {highest_metric.mean():0.2f} | {highest_metric.sd():0.2f} | {lowest_metric.mean():0.2f} | {lowest_metric.sd():0.2f} | {diff_metric.mean():0.2f} | {diff_metric.sd():0.2f}')\n    print()\n\nprint_table(highest_ability)\nprint_table(largest_two_mods)\nprint_table(total_points)",
      "metadata": {
        "trusted": true
      },
      "execution_count": 2,
      "outputs": [
        {
          "name": "stdout",
          "text": "Party size|Mean strongest|SD strongest|Mean weakest|SD weakest|Mean difference|SD difference\n----:|----:|----:|----:|----:|----:|----:\n1 | 15.66 | 1.43 | 15.66 | 1.43 | 0.00 | 0.00\n2 | 16.45 | 1.09 | 14.87 | 1.28 | 1.58 | 1.25\n3 | 16.82 | 0.92 | 14.45 | 1.19 | 2.38 | 1.28\n4 | 17.05 | 0.82 | 14.17 | 1.13 | 2.88 | 1.25\n5 | 17.20 | 0.75 | 13.96 | 1.08 | 3.24 | 1.21\n6 | 17.32 | 0.69 | 13.80 | 1.05 | 3.52 | 1.18\n7 | 17.41 | 0.65 | 13.67 | 1.02 | 3.75 | 1.15\n8 | 17.49 | 0.61 | 13.55 | 1.00 | 3.93 | 1.12\n\nParty size|Mean strongest|SD strongest|Mean weakest|SD weakest|Mean difference|SD difference\n----:|----:|----:|----:|----:|----:|----:\n1 | 4.42 | 1.34 | 4.42 | 1.34 | 0.00 | 0.00\n2 | 5.16 | 1.06 | 3.68 | 1.18 | 1.48 | 1.19\n3 | 5.51 | 0.93 | 3.30 | 1.10 | 2.22 | 1.23\n4 | 5.74 | 0.86 | 3.04 | 1.05 | 2.69 | 1.22\n5 | 5.89 | 0.81 | 2.85 | 1.01 | 3.04 | 1.20\n6 | 6.01 | 0.77 | 2.70 | 0.98 | 3.31 | 1.17\n7 | 6.11 | 0.74 | 2.58 | 0.96 | 3.53 | 1.15\n8 | 6.19 | 0.72 | 2.47 | 0.94 | 3.72 | 1.13\n\nParty size|Mean strongest|SD strongest|Mean weakest|SD weakest|Mean difference|SD difference\n----:|----:|----:|----:|----:|----:|----:\n1 | 31.44 | 10.87 | 31.44 | 10.87 | 0.00 | 0.00\n2 | 37.55 | 9.56 | 25.32 | 8.38 | 12.23 | 9.32\n3 | 40.77 | 8.92 | 22.42 | 7.33 | 18.35 | 9.73\n4 | 42.92 | 8.50 | 20.60 | 6.72 | 22.31 | 9.65\n5 | 44.51 | 8.21 | 19.30 | 6.31 | 25.21 | 9.49\n6 | 45.77 | 7.98 | 18.30 | 6.02 | 27.47 | 9.32\n7 | 46.80 | 7.80 | 17.50 | 5.79 | 29.31 | 9.17\n8 | 47.68 | 7.65 | 16.83 | 5.61 | 30.85 | 9.03\n\n",
          "output_type": "stream"
        }
      ]
    },
    {
      "cell_type": "code",
      "source": "",
      "metadata": {},
      "execution_count": null,
      "outputs": []
    }
  ]
}