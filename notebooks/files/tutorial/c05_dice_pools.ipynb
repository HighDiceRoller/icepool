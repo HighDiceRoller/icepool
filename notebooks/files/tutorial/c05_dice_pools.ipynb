{
  "metadata": {
    "language_info": {
      "codemirror_mode": {
        "name": "python",
        "version": 3
      },
      "file_extension": ".py",
      "mimetype": "text/x-python",
      "name": "python",
      "nbconvert_exporter": "python",
      "pygments_lexer": "ipython3",
      "version": "3.8"
    },
    "kernelspec": {
      "name": "python",
      "display_name": "Python (Pyodide)",
      "language": "python"
    }
  },
  "nbformat_minor": 4,
  "nbformat": 4,
  "cells": [
    {
      "cell_type": "markdown",
      "source": "## Chapter 5: Dice pools\n\nWhere a die is a probability distribution over outcomes, a dice `Pool` is a probability distribution over the outcomes of several dice---\nin other words, a probability distribution over [multisets](https://en.wikipedia.org/wiki/Multiset).\n\n### Pool creation\n\nTo create a pool where all of the dice are the same, you can use the `pool` method on a die.",
      "metadata": {}
    },
    {
      "cell_type": "code",
      "source": "import piplite\nawait piplite.install(\"icepool\")\n\nfrom icepool import d6\n\n# 4d6\nprint(d6.pool(4))",
      "metadata": {
        "trusted": true
      },
      "execution_count": 1,
      "outputs": [
        {
          "name": "stdout",
          "text": "Pool of 4 dice with keep_tuple=(1, 1, 1, 1)\n  Die({1: 1, 2: 1, 3: 1, 4: 1, 5: 1, 6: 1})\n  Die({1: 1, 2: 1, 3: 1, 4: 1, 5: 1, 6: 1})\n  Die({1: 1, 2: 1, 3: 1, 4: 1, 5: 1, 6: 1})\n  Die({1: 1, 2: 1, 3: 1, 4: 1, 5: 1, 6: 1})\n\n",
          "output_type": "stream"
        }
      ]
    },
    {
      "cell_type": "markdown",
      "source": "You can also construct a pool of different types of dice using the `Pool` constructor. For example, here is 2d4 and 2d6 in a pool.",
      "metadata": {}
    },
    {
      "cell_type": "code",
      "source": "from icepool import d4, Pool\n\nprint(Pool([d4, d4, d6, d6]))",
      "metadata": {
        "trusted": true
      },
      "execution_count": 2,
      "outputs": [
        {
          "name": "stdout",
          "text": "Pool of 4 dice with keep_tuple=(1, 1, 1, 1)\n  Die({1: 1, 2: 1, 3: 1, 4: 1})\n  Die({1: 1, 2: 1, 3: 1, 4: 1})\n  Die({1: 1, 2: 1, 3: 1, 4: 1, 5: 1, 6: 1})\n  Die({1: 1, 2: 1, 3: 1, 4: 1, 5: 1, 6: 1})\n\n",
          "output_type": "stream"
        }
      ]
    },
    {
      "cell_type": "markdown",
      "source": "Note that a pool is only a description of how to roll dice. To actually perform an evaluation, you need to either use one of the built-in pool methods, or a custom `OutcomeCountEvaluator`.\n\nThe most common evaluation is summing, which you can do using the `Pool.sum()` method.",
      "metadata": {}
    },
    {
      "cell_type": "code",
      "source": "print(Pool([d4, d4, d6, d6]).sum())",
      "metadata": {
        "trusted": true
      },
      "execution_count": 3,
      "outputs": [
        {
          "name": "stdout",
          "text": "Die with denominator 576\n\n| Outcome | Quantity | Probability |\n|--------:|---------:|------------:|\n|       4 |        1 |   0.173611% |\n|       5 |        4 |   0.694444% |\n|       6 |       10 |   1.736111% |\n|       7 |       20 |   3.472222% |\n|       8 |       33 |   5.729167% |\n|       9 |       48 |   8.333333% |\n|      10 |       62 |  10.763889% |\n|      11 |       72 |  12.500000% |\n|      12 |       76 |  13.194444% |\n|      13 |       72 |  12.500000% |\n|      14 |       62 |  10.763889% |\n|      15 |       48 |   8.333333% |\n|      16 |       33 |   5.729167% |\n|      17 |       20 |   3.472222% |\n|      18 |       10 |   1.736111% |\n|      19 |        4 |   0.694444% |\n|      20 |        1 |   0.173611% |\n\n\n",
          "output_type": "stream"
        }
      ]
    },
    {
      "cell_type": "markdown",
      "source": "### Keeping dice\n\nOutcomes of individual dice come out of a pool in sorted order. You can pick a die from a particular sorted index, drop dice from sorted positions, count dice multiple times, or even count dice negative times using the subscript operator. Here are some examples:",
      "metadata": {}
    },
    {
      "cell_type": "code",
      "source": "# 4d6 drop lowest.\nprint(d6.pool(4)[-3:].sum())\n\n# Other equivalents.\n\n# Give one integer per sorted position.\nd6.pool(4)[0, 1, 1, 1].sum()\n\n# Ellipses will fill with zero counts.\nd6.pool(4)[..., 1, 1, 1].sum()\n\n# A single index produces a Die directly.\n\n# What was the value of the dropped die?\nprint(d6.pool(4)[0])",
      "metadata": {
        "trusted": true
      },
      "execution_count": 4,
      "outputs": [
        {
          "name": "stdout",
          "text": "Die with denominator 1296\n\n| Outcome | Quantity | Probability |\n|--------:|---------:|------------:|\n|       3 |        1 |   0.077160% |\n|       4 |        4 |   0.308642% |\n|       5 |       10 |   0.771605% |\n|       6 |       21 |   1.620370% |\n|       7 |       38 |   2.932099% |\n|       8 |       62 |   4.783951% |\n|       9 |       91 |   7.021605% |\n|      10 |      122 |   9.413580% |\n|      11 |      148 |  11.419753% |\n|      12 |      167 |  12.885802% |\n|      13 |      172 |  13.271605% |\n|      14 |      160 |  12.345679% |\n|      15 |      131 |  10.108025% |\n|      16 |       94 |   7.253086% |\n|      17 |       54 |   4.166667% |\n|      18 |       21 |   1.620370% |\n\n\nDie with denominator 1296\n\n| Outcome | Quantity | Probability |\n|--------:|---------:|------------:|\n|       1 |      671 |  51.774691% |\n|       2 |      369 |  28.472222% |\n|       3 |      175 |  13.503086% |\n|       4 |       65 |   5.015432% |\n|       5 |       15 |   1.157407% |\n|       6 |        1 |   0.077160% |\n\n\n",
          "output_type": "stream"
        }
      ]
    },
    {
      "cell_type": "markdown",
      "source": "### Expansion\n\nIf you want to know all of the possible sorted rolls from a pool, you can use the `expand` method, which produces a `Die` whose outcomes are tuples containing the sorted rolls. For example, here is the highest two out of three d6s:",
      "metadata": {}
    },
    {
      "cell_type": "code",
      "source": "print(d6.pool(3)[0, 1, 1].expand())",
      "metadata": {
        "trusted": true
      },
      "execution_count": 5,
      "outputs": [
        {
          "name": "stdout",
          "text": "Die with denominator 216\n\n| Outcome[0] | Outcome[1] | Quantity | Probability |\n|-----------:|-----------:|---------:|------------:|\n|          1 |          1 |        1 |   0.462963% |\n|          1 |          2 |        3 |   1.388889% |\n|          1 |          3 |        3 |   1.388889% |\n|          1 |          4 |        3 |   1.388889% |\n|          1 |          5 |        3 |   1.388889% |\n|          1 |          6 |        3 |   1.388889% |\n|          2 |          2 |        4 |   1.851852% |\n|          2 |          3 |        9 |   4.166667% |\n|          2 |          4 |        9 |   4.166667% |\n|          2 |          5 |        9 |   4.166667% |\n|          2 |          6 |        9 |   4.166667% |\n|          3 |          3 |        7 |   3.240741% |\n|          3 |          4 |       15 |   6.944444% |\n|          3 |          5 |       15 |   6.944444% |\n|          3 |          6 |       15 |   6.944444% |\n|          4 |          4 |       10 |   4.629630% |\n|          4 |          5 |       21 |   9.722222% |\n|          4 |          6 |       21 |   9.722222% |\n|          5 |          5 |       13 |   6.018519% |\n|          5 |          6 |       27 |  12.500000% |\n|          6 |          6 |       16 |   7.407407% |\n\n\n",
          "output_type": "stream"
        }
      ]
    },
    {
      "cell_type": "markdown",
      "source": "`expand` is not particularly efficient if you are keeping a lot of dice. Unless you are really ultimately interested in the entire sequence, use a built-in pool method or `OutcomeCountEvaluator` instead.",
      "metadata": {}
    },
    {
      "cell_type": "markdown",
      "source": "### More multiset operations\n\nThere's also a variety of methods for modifying the count of each outcome generated by a pool before doing an evaluation. Here are some examples:\n\nThe `unique()` method keeps each outcome at most once.",
      "metadata": {}
    },
    {
      "cell_type": "code",
      "source": "print(d6.pool(3).unique().count())",
      "metadata": {
        "trusted": true
      },
      "execution_count": 6,
      "outputs": [
        {
          "name": "stdout",
          "text": "Die with denominator 216\n\n| Outcome | Quantity | Probability |\n|--------:|---------:|------------:|\n|       1 |        6 |   2.777778% |\n|       2 |       90 |  41.666667% |\n|       3 |      120 |  55.555556% |\n\n\n",
          "output_type": "stream"
        }
      ]
    },
    {
      "cell_type": "markdown",
      "source": "The `>=` operator checks whether the roll of the left pool is a superset of the right. For example, this checks whether the roll of a pool has at least one 1 and one 2.",
      "metadata": {}
    },
    {
      "cell_type": "code",
      "source": "print(d6.pool(3) >= [1, 2])",
      "metadata": {
        "trusted": true
      },
      "execution_count": 7,
      "outputs": [
        {
          "name": "stdout",
          "text": "Die with denominator 216\n\n| Outcome | Quantity | Probability |\n|:--------|---------:|------------:|\n| False   |      186 |  86.111111% |\n| True    |       30 |  13.888889% |\n\n\n",
          "output_type": "stream"
        }
      ]
    },
    {
      "cell_type": "markdown",
      "source": "Note that sequences and mappings are automatically converted into pools that always roll that multiset of elements.\n\nThe `&` operator takes the intersection of two pools---that is, all matching pairs of one outcome from the left side and one from the right side. For example, here's the number of matching pairs that can be formed from two pools of 3d6.",
      "metadata": {}
    },
    {
      "cell_type": "code",
      "source": "print((d6.pool(3) & d6.pool(3)).count())",
      "metadata": {
        "trusted": true
      },
      "execution_count": 8,
      "outputs": [
        {
          "name": "stdout",
          "text": "Die with denominator 46656\n\n| Outcome | Quantity | Probability |\n|--------:|---------:|------------:|\n|       0 |     9750 |  20.897634% |\n|       1 |    23580 |  50.540123% |\n|       2 |    12330 |  26.427469% |\n|       3 |      996 |   2.134774% |\n\n\n",
          "output_type": "stream"
        }
      ]
    },
    {
      "cell_type": "markdown",
      "source": "You can find more [Pool methods](https://highdiceroller.github.io/icepool/apidoc/icepool.html#Pool) in the API documentation, including those inherited from superclasses. These include extracting unique outcomes, finding matching sets and straights, and more.",
      "metadata": {}
    },
    {
      "cell_type": "code",
      "source": "",
      "metadata": {},
      "execution_count": null,
      "outputs": []
    }
  ]
}