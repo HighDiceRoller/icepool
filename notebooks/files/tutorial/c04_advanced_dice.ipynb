{
  "metadata": {
    "language_info": {
      "codemirror_mode": {
        "name": "python",
        "version": 3
      },
      "file_extension": ".py",
      "mimetype": "text/x-python",
      "name": "python",
      "nbconvert_exporter": "python",
      "pygments_lexer": "ipython3",
      "version": "3.8"
    },
    "kernelspec": {
      "name": "python",
      "display_name": "Python (Pyodide)",
      "language": "python"
    }
  },
  "nbformat_minor": 4,
  "nbformat": 4,
  "cells": [
    {
      "cell_type": "markdown",
      "source": "## Chapter 4: Advanced dice\n\nHere are some extra features you can use when using dice.\n\n### Cartesian products, tuples, and Vectors\n\nYou can create dice whose elements are sequences. For example, `tupleize` will produce the independent joint distribution of some dice as tuples, while `vectorize` will produce them as `Vector`s.",
      "metadata": {}
    },
    {
      "cell_type": "code",
      "source": "import piplite\nawait piplite.install(\"icepool\")\n\nfrom icepool import tupleize, vectorize, d2\n\nprint(tupleize(d2, d2))\nprint(vectorize(d2, d2))",
      "metadata": {
        "trusted": true
      },
      "execution_count": 1,
      "outputs": [
        {
          "name": "stdout",
          "text": "Die with denominator 4\n\n| Outcome[0] | Outcome[1] | Quantity | Probability |\n|-----------:|-----------:|---------:|------------:|\n|          1 |          1 |        1 |  25.000000% |\n|          1 |          2 |        1 |  25.000000% |\n|          2 |          1 |        1 |  25.000000% |\n|          2 |          2 |        1 |  25.000000% |\n\n\nDie with denominator 4\n\n| Outcome[0] | Outcome[1] | Quantity | Probability |\n|-----------:|-----------:|---------:|------------:|\n|          1 |          1 |        1 |  25.000000% |\n|          1 |          2 |        1 |  25.000000% |\n|          2 |          1 |        1 |  25.000000% |\n|          2 |          2 |        1 |  25.000000% |\n\n\n",
          "output_type": "stream"
        }
      ]
    },
    {
      "cell_type": "markdown",
      "source": "Another function that produces dice tuple outcomes is `one_hot`. It produces a die that sets one `Vector` element to `True` uniformly at random, and the rest `False`.",
      "metadata": {}
    },
    {
      "cell_type": "code",
      "source": "from icepool import one_hot\n\ndie = one_hot(4)\nprint(die)",
      "metadata": {
        "trusted": true
      },
      "execution_count": 2,
      "outputs": [
        {
          "name": "stdout",
          "text": "Die with denominator 4\n\n| Outcome[0] | Outcome[1] | Outcome[2] | Outcome[3] | Quantity | Probability |\n|:-----------|:-----------|:-----------|:-----------|---------:|------------:|\n| False      | False      | False      | True       |        1 |  25.000000% |\n| False      | False      | True       | False      |        1 |  25.000000% |\n| False      | True       | False      | False      |        1 |  25.000000% |\n| True       | False      | False      | False      |        1 |  25.000000% |\n\n\n",
          "output_type": "stream"
        }
      ]
    },
    {
      "cell_type": "markdown",
      "source": "While tuples are just tuples, `Vector` applies operators element-wise. Thus, the outcomes of the sum of two `Vector`-outcome dice are not concatenations, but the element-wise sums.\nAdding a bunch of `one_hot`s together will count how many of each face were rolled.",
      "metadata": {}
    },
    {
      "cell_type": "code",
      "source": "print(die + die)",
      "metadata": {
        "trusted": true
      },
      "execution_count": 3,
      "outputs": [
        {
          "name": "stdout",
          "text": "Die with denominator 16\n\n| Outcome[0] | Outcome[1] | Outcome[2] | Outcome[3] | Quantity | Probability |\n|-----------:|-----------:|-----------:|-----------:|---------:|------------:|\n|          0 |          0 |          0 |          2 |        1 |   6.250000% |\n|          0 |          0 |          1 |          1 |        2 |  12.500000% |\n|          0 |          0 |          2 |          0 |        1 |   6.250000% |\n|          0 |          1 |          0 |          1 |        2 |  12.500000% |\n|          0 |          1 |          1 |          0 |        2 |  12.500000% |\n|          0 |          2 |          0 |          0 |        1 |   6.250000% |\n|          1 |          0 |          0 |          1 |        2 |  12.500000% |\n|          1 |          0 |          1 |          0 |        2 |  12.500000% |\n|          1 |          1 |          0 |          0 |        2 |  12.500000% |\n|          2 |          0 |          0 |          0 |        1 |   6.250000% |\n\n\n",
          "output_type": "stream"
        }
      ]
    },
    {
      "cell_type": "markdown",
      "source": "To extract elements from sequence-outcome dice, you can index the `marginals` attribute.",
      "metadata": {}
    },
    {
      "cell_type": "code",
      "source": "print((die + die).marginals[0])",
      "metadata": {
        "trusted": true
      },
      "execution_count": 4,
      "outputs": [
        {
          "name": "stdout",
          "text": "Die with denominator 16\n\n| Outcome | Quantity | Probability |\n|--------:|---------:|------------:|\n|       0 |        9 |  56.250000% |\n|       1 |        6 |  37.500000% |\n|       2 |        1 |   6.250000% |\n\n\n",
          "output_type": "stream"
        }
      ]
    },
    {
      "cell_type": "markdown",
      "source": "### `Reroll`\n\nThe special value `Reroll` can be used to indicate that outcomes should be rerolled in `Die.map()` and similar functions. For example, these both reroll 1s and 2s on a d6:",
      "metadata": {}
    },
    {
      "cell_type": "code",
      "source": "from icepool import Reroll, d6\nd6.reroll([1, 2])\nprint(d6.map({1: Reroll, 2: Reroll}))",
      "metadata": {
        "trusted": true
      },
      "execution_count": 5,
      "outputs": [
        {
          "name": "stdout",
          "text": "Die with denominator 4\n\n| Outcome | Quantity | Probability |\n|--------:|---------:|------------:|\n|       3 |        1 |  25.000000% |\n|       4 |        1 |  25.000000% |\n|       5 |        1 |  25.000000% |\n|       6 |        1 |  25.000000% |\n\n\n",
          "output_type": "stream"
        }
      ]
    },
    {
      "cell_type": "markdown",
      "source": "### `Again`\n\nThe special construct `Again()` can be used in a `Die` constructor to indicate that the die should be rolled again. You can then apply modifiers on top of `Again()`. For example, here is a success-counting die where a 4+ is a success, and a 6 also rolls the die again. The `again_depth` argument controls the maximum number of levels the die will be rolled again, and the `again_end` argument gives the value of the rerolls when `again_depth` is exceeded.",
      "metadata": {}
    },
    {
      "cell_type": "code",
      "source": "from icepool import Die, Again\n\nprint(Die([0, 0, 0, 1, 1, Again + 1], again_depth=3))",
      "metadata": {
        "trusted": true
      },
      "execution_count": 6,
      "outputs": [
        {
          "name": "stdout",
          "text": "Die with denominator 1296\n\n| Outcome | Quantity | Probability |\n|--------:|---------:|------------:|\n|       0 |      648 |  50.000000% |\n|       1 |      540 |  41.666667% |\n|       2 |       90 |   6.944444% |\n|       3 |       15 |   1.157407% |\n|       4 |        3 |   0.231481% |\n\n\n",
          "output_type": "stream"
        }
      ]
    },
    {
      "cell_type": "code",
      "source": "",
      "metadata": {},
      "execution_count": null,
      "outputs": []
    }
  ]
}