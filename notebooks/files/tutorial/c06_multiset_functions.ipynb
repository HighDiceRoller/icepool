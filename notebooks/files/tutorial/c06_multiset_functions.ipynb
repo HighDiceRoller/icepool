{
  "metadata": {
    "language_info": {
      "codemirror_mode": {
        "name": "python",
        "version": 3
      },
      "file_extension": ".py",
      "mimetype": "text/x-python",
      "name": "python",
      "nbconvert_exporter": "python",
      "pygments_lexer": "ipython3",
      "version": "3.8"
    },
    "kernelspec": {
      "name": "python",
      "display_name": "Python (Pyodide)",
      "language": "python"
    }
  },
  "nbformat_minor": 4,
  "nbformat": 4,
  "cells": [
    {
      "cell_type": "markdown",
      "source": "## Chapter 6: Multiset functions\n\nChaining pool methods only goes so far. For one, it only gives you one evaluation of a time. What if you want to perform multiple evaluations jointly? For example, what if you wanted to know both the largest matching set and the largest straight resulting from a pool?\n\nTo do this, you can use `multiset_function()`. The input is a function with a fixed set of parameters, and the output is an evaluator object that can be applied to a pool to compute the result for that pool.",
      "metadata": {}
    },
    {
      "cell_type": "code",
      "source": "import piplite\nawait piplite.install(\"icepool\")\n\nfrom icepool import multiset_function, d6\n\nevaluator = multiset_function(lambda a: (a.largest_count(), a.largest_straight()))\n\nprint(evaluator(d6.pool(6)))",
      "metadata": {
        "trusted": true
      },
      "execution_count": 1,
      "outputs": [
        {
          "name": "stdout",
          "text": "Die with denominator 46656\n\n| Outcome[0] | Outcome[1] | Quantity | Probability |\n|-----------:|-----------:|---------:|------------:|\n|          1 |          6 |      720 |   1.543210% |\n|          2 |          1 |      360 |   0.771605% |\n|          2 |          2 |     7560 |  16.203704% |\n|          2 |          3 |    10440 |  22.376543% |\n|          2 |          4 |     6840 |  14.660494% |\n|          2 |          5 |     3600 |   7.716049% |\n|          3 |          1 |     1640 |   3.515089% |\n|          3 |          2 |     7300 |  15.646433% |\n|          3 |          3 |     4320 |   9.259259% |\n|          3 |          4 |     1440 |   3.086420% |\n|          4 |          1 |      660 |   1.414609% |\n|          4 |          2 |     1230 |   2.636317% |\n|          4 |          3 |      360 |   0.771605% |\n|          5 |          1 |      120 |   0.257202% |\n|          5 |          2 |       60 |   0.128601% |\n|          6 |          1 |        6 |   0.012860% |\n\n\n",
          "output_type": "stream"
        }
      ]
    },
    {
      "cell_type": "markdown",
      "source": "Note how this captures the dependence between the largest count and largest straight---if you have a straight of 6 on 6 dice, then they surely all rolled different numbers, so the largest count must be 1.\n\n### Multiple parameters\n\nThe function can take in multiple parameters, as long as the number of parameters is fixed. For example, this computes how many unique outcomes each of two pools has that the other doesn't:",
      "metadata": {}
    },
    {
      "cell_type": "code",
      "source": "evaluator = multiset_function(lambda a, b: ((a.unique() - b.unique()).count(), (b.unique() - a.unique()).count()))\nprint(evaluator(d6.pool(4), d6.pool(4)))",
      "metadata": {
        "trusted": true
      },
      "execution_count": 2,
      "outputs": [
        {
          "name": "stdout",
          "text": "Die with denominator 1679616\n\n| Outcome[0] | Outcome[1] | Quantity | Probability |\n|-----------:|-----------:|---------:|------------:|\n|          0 |          0 |    37506 |   2.233010% |\n|          0 |          1 |    82500 |   4.911837% |\n|          0 |          2 |    32400 |   1.929012% |\n|          0 |          3 |     1440 |   0.085734% |\n|          1 |          0 |    82500 |   4.911837% |\n|          1 |          1 |   325950 |  19.406221% |\n|          1 |          2 |   247080 |  14.710505% |\n|          1 |          3 |    42480 |   2.529150% |\n|          1 |          4 |      720 |   0.042867% |\n|          2 |          0 |    32400 |   1.929012% |\n|          2 |          1 |   247080 |  14.710505% |\n|          2 |          2 |   302760 |  18.025549% |\n|          2 |          3 |    82080 |   4.886831% |\n|          2 |          4 |     5040 |   0.300069% |\n|          3 |          0 |     1440 |   0.085734% |\n|          3 |          1 |    42480 |   2.529150% |\n|          3 |          2 |    82080 |   4.886831% |\n|          3 |          3 |    25920 |   1.543210% |\n|          4 |          1 |      720 |   0.042867% |\n|          4 |          2 |     5040 |   0.300069% |\n\n\n",
          "output_type": "stream"
        }
      ]
    },
    {
      "cell_type": "markdown",
      "source": "Note how the evaluator takes in the same number of inputs as the function used to define it.",
      "metadata": {}
    },
    {
      "cell_type": "markdown",
      "source": "### Bound generators\n\nOther than the arguments to the function, any other pools mentioned in the evaluator are considered to be independent, and are bound when `multiset_function()` is called. For example:",
      "metadata": {}
    },
    {
      "cell_type": "code",
      "source": "target = [1, 2, 3]\nevaluator = multiset_function(lambda a: (a & target).count())\nprint(evaluator.evaluate(d6.pool(3)))\n\ntarget = [1]\nprint(evaluator.evaluate(d6.pool(3)))",
      "metadata": {
        "trusted": true
      },
      "execution_count": 3,
      "outputs": [
        {
          "name": "stdout",
          "text": "Die with denominator 216\n\n| Outcome | Quantity | Probability |\n|--------:|---------:|------------:|\n|       0 |       27 |  12.500000% |\n|       1 |      111 |  51.388889% |\n|       2 |       72 |  33.333333% |\n|       3 |        6 |   2.777778% |\n\n\nDie with denominator 216\n\n| Outcome | Quantity | Probability |\n|--------:|---------:|------------:|\n|       0 |       27 |  12.500000% |\n|       1 |      111 |  51.388889% |\n|       2 |       72 |  33.333333% |\n|       3 |        6 |   2.777778% |\n\n\n",
          "output_type": "stream"
        }
      ]
    },
    {
      "cell_type": "markdown",
      "source": "The mention of `target` inside the function given to `multiset_function()` is already bound, so changing it afterwards doesn't change the result. Another example:",
      "metadata": {}
    },
    {
      "cell_type": "code",
      "source": "from icepool import d12\n\ntarget = d12.pool(1)\n\n# Remember, since we are dealing with multisets here, the `>=` operator means `issuperset`.\nevaluator = multiset_function(lambda a, b: ((a >= target), (b >= target)))\n\nprint(evaluator(d6.pool(6), (d6 + 6).pool(6)))",
      "metadata": {
        "trusted": true
      },
      "execution_count": 4,
      "outputs": [
        {
          "name": "stdout",
          "text": "Die with denominator 313456656384\n\n| Outcome[0] | Outcome[1] |     Quantity | Probability |\n|:-----------|:-----------|-------------:|------------:|\n| False      | False      | 139641226596 |  44.548815% |\n| False      | True       |  69575101596 |  22.196084% |\n| True       | False      |  69575101596 |  22.196084% |\n| True       | True       |  34665226596 |  11.059018% |\n\n\n",
          "output_type": "stream"
        }
      ]
    },
    {
      "cell_type": "markdown",
      "source": "Here the roll of the `target` d12 is not an argument to the evaluator, so is rolled independently for each of its two comparisons in the function. Therefore is no correlation between the two elements of the result. So this might as well have been two independent calculations. If we wanted to use the same roll for both comparisons, we could make it an argument:",
      "metadata": {}
    },
    {
      "cell_type": "code",
      "source": "evaluator = multiset_function(lambda a, b, t: ((a >= t), (b >= t)))\n\nprint(evaluator(d6.pool(6), (d6 + 6).pool(6), d12.pool(1)))",
      "metadata": {
        "trusted": true
      },
      "execution_count": 5,
      "outputs": [
        {
          "name": "stdout",
          "text": "Die with denominator 26121388032\n\n| Outcome[0] | Outcome[1] |   Quantity | Probability |\n|:-----------|:-----------|-----------:|------------:|\n| False      | False      | 8748000000 |  33.489798% |\n| False      | True       | 8686694016 |  33.255101% |\n| True       | False      | 8686694016 |  33.255101% |\n\n\n",
          "output_type": "stream"
        }
      ]
    },
    {
      "cell_type": "markdown",
      "source": "Now the same roll of the d12 is used for both comparisons; as we can see, at most one pool can contain the target number, since the first pool only rolls from 1 to 6 and the second from 7 to 12.",
      "metadata": {}
    }
  ]
}