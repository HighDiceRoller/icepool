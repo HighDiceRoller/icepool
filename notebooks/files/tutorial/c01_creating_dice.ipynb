{
  "metadata": {
    "language_info": {
      "codemirror_mode": {
        "name": "python",
        "version": 3
      },
      "file_extension": ".py",
      "mimetype": "text/x-python",
      "name": "python",
      "nbconvert_exporter": "python",
      "pygments_lexer": "ipython3",
      "version": "3.8"
    },
    "kernelspec": {
      "name": "python",
      "display_name": "Python (Pyodide)",
      "language": "python"
    }
  },
  "nbformat_minor": 4,
  "nbformat": 4,
  "cells": [
    {
      "cell_type": "markdown",
      "source": "## Chapter 1: Creating dice\n\nThe very first thing you need to do is install Icepool. In this JupyterLite notebook, you can use `piplite`:",
      "metadata": {}
    },
    {
      "cell_type": "code",
      "source": "%pip install icepool",
      "metadata": {
        "trusted": true
      },
      "execution_count": 1,
      "outputs": []
    },
    {
      "cell_type": "markdown",
      "source": "Now you can start using Icepool.\n\n### Basic creation\n\nMost likely you will want to start by creating a `Die`. If you want a standard die that's numbered from 1 to $n$, you can use the `d` function. ",
      "metadata": {}
    },
    {
      "cell_type": "code",
      "source": "from icepool import d\n\ndie = d(6)\nprint(die)",
      "metadata": {
        "trusted": true
      },
      "execution_count": 2,
      "outputs": [
        {
          "name": "stdout",
          "text": "Die with denominator 6\n\n| Outcome | Quantity | Probability |\n|--------:|---------:|------------:|\n|       1 |        1 |  16.666667% |\n|       2 |        1 |  16.666667% |\n|       3 |        1 |  16.666667% |\n|       4 |        1 |  16.666667% |\n|       5 |        1 |  16.666667% |\n|       6 |        1 |  16.666667% |\n\n\n",
          "output_type": "stream"
        }
      ]
    },
    {
      "cell_type": "markdown",
      "source": "Alternatively, you can import specific standard dice directly from the `icepool` module without the parentheses.",
      "metadata": {}
    },
    {
      "cell_type": "code",
      "source": "from icepool import d6\nprint(d6)",
      "metadata": {
        "trusted": true
      },
      "execution_count": 3,
      "outputs": [
        {
          "name": "stdout",
          "text": "Die with denominator 6\n\n| Outcome | Quantity | Probability |\n|--------:|---------:|------------:|\n|       1 |        1 |  16.666667% |\n|       2 |        1 |  16.666667% |\n|       3 |        1 |  16.666667% |\n|       4 |        1 |  16.666667% |\n|       5 |        1 |  16.666667% |\n|       6 |        1 |  16.666667% |\n\n\n",
          "output_type": "stream"
        }
      ]
    },
    {
      "cell_type": "markdown",
      "source": "You can create custom dice using the `Die` constructor. You can use a `list`, in which case each outcome will appear once in the die.",
      "metadata": {}
    },
    {
      "cell_type": "code",
      "source": "from icepool import Die\nanother_d6 = Die([1, 2, 3, 4, 5, 6])\nprint(another_d6)",
      "metadata": {
        "trusted": true
      },
      "execution_count": 4,
      "outputs": [
        {
          "name": "stdout",
          "text": "Die with denominator 6\n\n| Outcome | Quantity | Probability |\n|--------:|---------:|------------:|\n|       1 |        1 |  16.666667% |\n|       2 |        1 |  16.666667% |\n|       3 |        1 |  16.666667% |\n|       4 |        1 |  16.666667% |\n|       5 |        1 |  16.666667% |\n|       6 |        1 |  16.666667% |\n\n\n",
          "output_type": "stream"
        }
      ]
    },
    {
      "cell_type": "markdown",
      "source": "You can repeat outcomes, in which case they will be weighted once per appearance.",
      "metadata": {}
    },
    {
      "cell_type": "code",
      "source": "unfair_d6 = Die([1, 2, 3, 4, 5, 6, 6, 6])\nprint(unfair_d6)",
      "metadata": {
        "trusted": true
      },
      "execution_count": 5,
      "outputs": [
        {
          "name": "stdout",
          "text": "Die with denominator 8\n\n| Outcome | Quantity | Probability |\n|--------:|---------:|------------:|\n|       1 |        1 |  12.500000% |\n|       2 |        1 |  12.500000% |\n|       3 |        1 |  12.500000% |\n|       4 |        1 |  12.500000% |\n|       5 |        1 |  12.500000% |\n|       6 |        3 |  37.500000% |\n\n\n",
          "output_type": "stream"
        }
      ]
    },
    {
      "cell_type": "markdown",
      "source": "Alternatively, you can use a `dict`, in which case the keys are outcomes and the values are weights.",
      "metadata": {}
    },
    {
      "cell_type": "code",
      "source": "another_unfair_d6 = Die({1:1, 2:1, 3:1, 4:1, 5:1, 6:3})\nprint(another_unfair_d6)",
      "metadata": {
        "trusted": true
      },
      "execution_count": 6,
      "outputs": [
        {
          "name": "stdout",
          "text": "Die with denominator 8\n\n| Outcome | Quantity | Probability |\n|--------:|---------:|------------:|\n|       1 |        1 |  12.500000% |\n|       2 |        1 |  12.500000% |\n|       3 |        1 |  12.500000% |\n|       4 |        1 |  12.500000% |\n|       5 |        1 |  12.500000% |\n|       6 |        3 |  37.500000% |\n\n\n",
          "output_type": "stream"
        }
      ]
    },
    {
      "cell_type": "markdown",
      "source": "### Outcome types\n\nMost of the time you'll probably be using integer outcomes. However, you can use outcomes of any type as long as they are hashable and totally ordered. For example, you can make a die whose outcomes are `str`ings:",
      "metadata": {}
    },
    {
      "cell_type": "code",
      "source": "str_die = Die(['a', 'b', 'c'])\nprint(str_die)",
      "metadata": {
        "trusted": true
      },
      "execution_count": 7,
      "outputs": [
        {
          "name": "stdout",
          "text": "Die with denominator 3\n\n| Outcome[0] | Quantity | Probability |\n|:-----------|---------:|------------:|\n| a          |        1 |  33.333333% |\n| b          |        1 |  33.333333% |\n| c          |        1 |  33.333333% |\n\n\n",
          "output_type": "stream"
        }
      ]
    },
    {
      "cell_type": "markdown",
      "source": "Using `float`s may be tempting, but I don't recommend it since they are not exact. I recommend using `fraction` instead.\n\nNote that `tuple`s have some special handling when used to construct a `Die`---they are not treated equivalent to `list`s. More on this in a later chapter.",
      "metadata": {}
    }
  ]
}