{
  "metadata": {
    "language_info": {
      "codemirror_mode": {
        "name": "python",
        "version": 3
      },
      "file_extension": ".py",
      "mimetype": "text/x-python",
      "name": "python",
      "nbconvert_exporter": "python",
      "pygments_lexer": "ipython3",
      "version": "3.8"
    },
    "kernelspec": {
      "name": "python",
      "display_name": "Python (Pyodide)",
      "language": "python"
    }
  },
  "nbformat_minor": 4,
  "nbformat": 4,
  "cells": [
    {
      "cell_type": "markdown",
      "source": "## Chapter 8: `MultisetEvaluator`s\n\nBy implementing your own `MultisetEvaluator`, you can create your own efficient pool evaluation.\n\n### Transition function (`next_state`)\n\nThe core of an `MultisetEvaluator` is the transition function `next_state`. Imagine this procedure for evaluating the roll of a pool of d6s:\n\n* First, I tell you how many ones you rolled.\n* Then, I tell you how many twos you rolled.\n* Then, I tell you how many threes you rolled.\n* Then, I tell you how many fours you rolled.\n* Then, I tell you how many fives you rolled.\n* Then, I tell you how many sixes you rolled.\n\nYou're allowed to remember things between each step, typically a \"running total\" of some sort, ideally without too many distinct possibilities.\n\nOr in terms of Python code:\n\n```python\nstate = None\nstate = evaluator.next_state(state, 1, num_ones)\nstate = evaluator.next_state(state, 2, num_twos)\nstate = evaluator.next_state(state, 3, num_threes)\nstate = evaluator.next_state(state, 4, num_fours)\nstate = evaluator.next_state(state, 5, num_fives)\nstate = evaluator.next_state(state, 6, num_sixes)\n```\n\nThe `state` can be anything you want, as long as it's hashable.\n\nThe built-in pool evaluation methods are implemented this way. For example, the basic case of `pool.sum()` is implemented as",
      "metadata": {}
    },
    {
      "cell_type": "code",
      "source": "import piplite\nawait piplite.install(\"icepool\")\n\nfrom icepool import MultisetEvaluator, d6\n\nclass SumEvaluator(MultisetEvaluator):\n    def next_state(self, state, outcome, count):\n        \"\"\"Add the outcomes to the running total. \"\"\"\n        if state is None:\n            return outcome * count\n        else:\n            return state + outcome * count\n\n# Example of running an evaluator.\nevaluator = SumEvaluator()\nprint(evaluator(d6.pool(3)))",
      "metadata": {
        "trusted": true
      },
      "execution_count": 1,
      "outputs": [
        {
          "name": "stdout",
          "text": "Die with denominator 216\n\n| Outcome | Quantity | Probability |\n|--------:|---------:|------------:|\n|       3 |        1 |   0.462963% |\n|       4 |        3 |   1.388889% |\n|       5 |        6 |   2.777778% |\n|       6 |       10 |   4.629630% |\n|       7 |       15 |   6.944444% |\n|       8 |       21 |   9.722222% |\n|       9 |       25 |  11.574074% |\n|      10 |       27 |  12.500000% |\n|      11 |       27 |  12.500000% |\n|      12 |       25 |  11.574074% |\n|      13 |       21 |   9.722222% |\n|      14 |       15 |   6.944444% |\n|      15 |       10 |   4.629630% |\n|      16 |        6 |   2.777778% |\n|      17 |        3 |   1.388889% |\n|      18 |        1 |   0.462963% |\n\n\n",
          "output_type": "stream"
        }
      ]
    },
    {
      "cell_type": "markdown",
      "source": "Here's another example: finding the size of the largest matching set.",
      "metadata": {}
    },
    {
      "cell_type": "code",
      "source": "class LargestMatchingSetEvaluator(MultisetEvaluator):\n    def next_state(self, state, outcome, count):\n        if state is None:\n            return count\n        else:\n            return max(state, count)\n\nlargest_matching_set_evaluator = LargestMatchingSetEvaluator()\nprint(largest_matching_set_evaluator(d6.pool(5)))",
      "metadata": {
        "trusted": true
      },
      "execution_count": 2,
      "outputs": [
        {
          "name": "stdout",
          "text": "Die with denominator 7776\n\n| Outcome | Quantity | Probability |\n|--------:|---------:|------------:|\n|       1 |      720 |   9.259259% |\n|       2 |     5400 |  69.444444% |\n|       3 |     1500 |  19.290123% |\n|       4 |      150 |   1.929012% |\n|       5 |        6 |   0.077160% |\n\n\n",
          "output_type": "stream"
        }
      ]
    },
    {
      "cell_type": "markdown",
      "source": "### `final_outcome`\n\n`next_state` is the only strictly-required abstract method to implement. However, there are some optional methods that you may find useful to implement. \n\n`final_outcome` allows you to fix up the final state before producing the result. This is useful if there is some final calculation you want to do, or if you simply want to drop some information that you no longer care about. For example, here's an evaluator that finds the length of the longest straight:",
      "metadata": {}
    },
    {
      "cell_type": "code",
      "source": "class LongestStraightEvaluator(MultisetEvaluator):\n\n    def next_state(self, state, outcome, count):\n        \"\"\"Increments the current run if at least one `Die` rolled this outcome,\n        then saves the run to the state.\n        \"\"\"\n        best_run, run, prev_outcome = state or (0, 0, outcome - 1)\n        if outcome == prev_outcome + 1 and count >= 1:\n            run += 1\n        else:\n            run = 0\n        return max(best_run, run), run, outcome\n\n    def final_outcome(self, final_state):\n        # Return just the length of the best run.\n        return final_state[0]\n\nlongest_straight_evaluator = LongestStraightEvaluator()\nprint(longest_straight_evaluator(d6.pool(5)))",
      "metadata": {
        "trusted": true
      },
      "execution_count": 3,
      "outputs": [
        {
          "name": "stdout",
          "text": "Die with denominator 7776\n\n| Outcome | Quantity | Probability |\n|--------:|---------:|------------:|\n|       1 |      906 |  11.651235% |\n|       2 |     3390 |  43.595679% |\n|       3 |     2280 |  29.320988% |\n|       4 |      960 |  12.345679% |\n|       5 |      240 |   3.086420% |\n\n\n",
          "output_type": "stream"
        }
      ]
    },
    {
      "cell_type": "markdown",
      "source": "### `alignment`\n\n`alignment` allows you to guarantee that certain outcomes are not skipped even if they have zero count. For example, in the case of straights, this allows us to skip checking the previous outcome.",
      "metadata": {}
    },
    {
      "cell_type": "code",
      "source": "class LongestStraightEvaluator(MultisetEvaluator):\n\n    def next_state(self, state, outcome, count):\n        best_run, run = state or (0, 0)\n        if count >= 1:\n            run += 1\n        else:\n            run = 0\n        return max(best_run, run), run\n\n    def final_outcome(self, final_state):\n        # Return just the length of the best run.\n        return final_state[0]\n    \n    # This guarantees that we see all consecutive integers.\n    alignment = MultisetEvaluator.range_alignment\n    \nlongest_straight_evaluator = LongestStraightEvaluator()\nprint(longest_straight_evaluator(d6.pool(5)))",
      "metadata": {
        "trusted": true
      },
      "execution_count": 4,
      "outputs": [
        {
          "name": "stdout",
          "text": "Die with denominator 7776\n\n| Outcome | Quantity | Probability |\n|--------:|---------:|------------:|\n|       1 |      906 |  11.651235% |\n|       2 |     3390 |  43.595679% |\n|       3 |     2280 |  29.320988% |\n|       4 |      960 |  12.345679% |\n|       5 |      240 |   3.086420% |\n\n\n",
          "output_type": "stream"
        }
      ]
    },
    {
      "cell_type": "markdown",
      "source": "This is useful when performing an evaluation on a pool consisting of fixed values, ensuring that any gaps are not skipped:",
      "metadata": {}
    },
    {
      "cell_type": "code",
      "source": "class BadStraightEvaluator(MultisetEvaluator):\n\n    def next_state(self, state, outcome, count):\n        best_run, run = state or (0, 0)\n        if count >= 1:\n            run += 1\n        else:\n            run = 0\n        return max(best_run, run), run\n\n    def final_outcome(self, final_state):\n        # Return just the length of the best run.\n        return final_state[0]\n    \n    # Missing alignment.\n\nbad_evaluator = BadStraightEvaluator()\nprint(bad_evaluator([1, 2, 2, 5, 6]))\nprint(longest_straight_evaluator([1, 2, 2, 5, 6]))",
      "metadata": {
        "trusted": true
      },
      "execution_count": 5,
      "outputs": [
        {
          "name": "stdout",
          "text": "Die with denominator 1\n\n| Outcome | Quantity | Probability |\n|--------:|---------:|------------:|\n|       4 |        1 | 100.000000% |\n\n\nDie with denominator 1\n\n| Outcome | Quantity | Probability |\n|--------:|---------:|------------:|\n|       2 |        1 | 100.000000% |\n\n\n",
          "output_type": "stream"
        }
      ]
    },
    {
      "cell_type": "markdown",
      "source": "### `order`\n\n`order` allows you to specify whether the outcomes are seen in ascending order (default), descending order, or to declare that the evaluator does not care. For example, if we also wanted to produce the greatest outcome in the best straight:",
      "metadata": {}
    },
    {
      "cell_type": "code",
      "source": "from icepool import Order\n\nclass BestStraightEvaluator(MultisetEvaluator):\n\n    def next_state(self, state, outcome, count):\n        best_run, run = state or ((0, outcome), 0)\n        if count >= 1:\n            run += 1\n        else:\n            run = 0\n        return max(best_run, (run, outcome)), run\n\n    def final_outcome(self, final_state):\n        return final_state[0]\n    \n    def order(self, *_):\n        return Order.Ascending\n    \n    # This guarantees that we see all consecutive integers.\n    alignment = MultisetEvaluator.range_alignment\n\nbest_straight_evaluator = BestStraightEvaluator()\nprint(best_straight_evaluator(d6.pool(5)))",
      "metadata": {
        "tags": [],
        "trusted": true
      },
      "execution_count": 6,
      "outputs": [
        {
          "name": "stdout",
          "text": "Die with denominator 7776\n\n| Outcome[0] | Outcome[1] | Quantity | Probability |\n|-----------:|-----------:|---------:|------------:|\n|          1 |          1 |        1 |   0.012860% |\n|          1 |          2 |        1 |   0.012860% |\n|          1 |          3 |       31 |   0.398663% |\n|          1 |          4 |       61 |   0.784465% |\n|          1 |          5 |      241 |   3.099280% |\n|          1 |          6 |      571 |   7.343107% |\n|          2 |          2 |      720 |   9.259259% |\n|          2 |          3 |      330 |   4.243827% |\n|          2 |          4 |      570 |   7.330247% |\n|          2 |          5 |      570 |   7.330247% |\n|          2 |          6 |     1200 |  15.432099% |\n|          3 |          3 |      750 |   9.645062% |\n|          3 |          4 |      390 |   5.015432% |\n|          3 |          5 |      390 |   5.015432% |\n|          3 |          6 |      750 |   9.645062% |\n|          4 |          4 |      360 |   4.629630% |\n|          4 |          5 |      240 |   3.086420% |\n|          4 |          6 |      360 |   4.629630% |\n|          5 |          5 |      120 |   1.543210% |\n|          5 |          6 |      120 |   1.543210% |\n\n\n",
          "output_type": "stream"
        }
      ]
    },
    {
      "cell_type": "markdown",
      "source": "### Multiple pools\n\nYou can create an evaluator that looks at multiple pools at a time. In this case, `next_state` simply gets one count per pool. For example, this evaluates a *RISK*-like mechanic:\n\n* Both sides roll a pool of d6s.\n* Sort the dice of each side in descending order.\n* Pair up the dice, one from each side. Any unpaired dice are discarded.\n* Each pair is won by the side that rolled higher.",
      "metadata": {}
    },
    {
      "cell_type": "code",
      "source": "class RiskEvaluator(MultisetEvaluator):\n    def next_state(self, state, outcome, a, b):\n        if state is None:\n            score_a, score_b, advantage = 0, 0, 0\n        else:\n            score_a, score_b, advantage = state\n        # Advantage is the number of unpaired dice that rolled a previous (higher) number.\n        # If positive, it favors side A, otherwise it favors side B.\n        # We pair them off with newly-rolled dice of the disadvantaged side.\n        if advantage > 0:\n            score_a += min(b, advantage)\n        elif advantage < 0:\n            score_b += min(a, -advantage)\n        advantage += a - b\n        return score_a, score_b, advantage\n    \n    def final_outcome(self, final_state):\n        # Take only the scores.\n        return final_state[:2]\n    \n    def order(self, *_):\n        # See outcomes in descending order.\n        return Order.Descending\n\nrisk_evaluator = RiskEvaluator()\n\n# 3 vs. 2 dice.\nprint(risk_evaluator(d6.pool(3), d6.pool(2)))",
      "metadata": {
        "trusted": true
      },
      "execution_count": 7,
      "outputs": [
        {
          "name": "stdout",
          "text": "Die with denominator 7776\n\n| Outcome[0] | Outcome[1] | Quantity | Probability |\n|-----------:|-----------:|---------:|------------:|\n|          0 |          0 |      381 |   4.899691% |\n|          0 |          1 |      915 |  11.766975% |\n|          0 |          2 |      979 |  12.590021% |\n|          1 |          0 |     1545 |  19.868827% |\n|          1 |          1 |     1066 |  13.708848% |\n|          2 |          0 |     2890 |  37.165638% |\n\n\n",
          "output_type": "stream"
        }
      ]
    },
    {
      "cell_type": "markdown",
      "source": "### Further reading\n\nWhile you could get the same results using `Pool.expand().map()` to expand all sorted rolls and then evaluate them, `MultisetEvaluator` is typically much more efficient due to a dynamic programming algorithm. If you would like to know more, you can read [my paper on the subject](https://github.com/HighDiceRoller/icepool/blob/main/papers/icepool_preprint.pdf).\n\n```bibtex\n    title={Icepool: Efficient Computation of Dice Pool Probabilities},\n    author={Albert Julius Liu},\n    booktitle={Eighteenth AAAI Conference on Artificial Intelligence and Interactive Digital Entertainment},\n    volume={18},\n    number={1},\n    pages={258-265},\n    year={2022},\n    month={Oct.},\n    eventdate={2022-10-24/2022-10-28},\n    venue={Pomona, California},\n    url={https://ojs.aaai.org/index.php/AIIDE/article/view/21971},\n    doi={10.1609/aiide.v18i1.21971}\n```",
      "metadata": {}
    }
  ]
}