{
  "metadata": {
    "language_info": {
      "codemirror_mode": {
        "name": "python",
        "version": 3
      },
      "file_extension": ".py",
      "mimetype": "text/x-python",
      "name": "python",
      "nbconvert_exporter": "python",
      "pygments_lexer": "ipython3",
      "version": "3.8"
    },
    "kernelspec": {
      "name": "python",
      "display_name": "Python (Pyodide)",
      "language": "python"
    }
  },
  "nbformat_minor": 4,
  "nbformat": 4,
  "cells": [
    {
      "cell_type": "markdown",
      "source": "## Chapter 5: Advanced dice\n\nHere are some extra features you can use when using dice.\n\n### Special tuple behavior\n\nYou can create dice whose elements are tuples. For example, `cartesian_product` will produce the independent joint distribution of some dice:",
      "metadata": {}
    },
    {
      "cell_type": "code",
      "source": "import piplite\nawait piplite.install(\"icepool\")\n\nfrom icepool import cartesian_product, d2\n\ndie = cartesian_product(d2, d2)\nprint(die)",
      "metadata": {
        "trusted": true
      },
      "execution_count": 1,
      "outputs": [
        {
          "name": "stdout",
          "text": "Die with denominator 4\n\n| Outcome[0] | Outcome[1] | Quantity | Probability |\n|-----------:|-----------:|---------:|------------:|\n|          1 |          1 |        1 |  25.000000% |\n|          1 |          2 |        1 |  25.000000% |\n|          2 |          1 |        1 |  25.000000% |\n|          2 |          2 |        1 |  25.000000% |\n\n\n",
          "output_type": "stream"
        }
      ]
    },
    {
      "cell_type": "markdown",
      "source": "Furthermore, operations on dice with tuple outcomes are performed element-wise. Thus, the outcomes of the sum of two tuple-outcome dice are not concatenations, but the element-wise sums:",
      "metadata": {}
    },
    {
      "cell_type": "code",
      "source": "print(die + die)",
      "metadata": {
        "trusted": true
      },
      "execution_count": 2,
      "outputs": [
        {
          "name": "stdout",
          "text": "Die with denominator 16\n\n| Outcome[0] | Outcome[1] | Quantity | Probability |\n|-----------:|-----------:|---------:|------------:|\n|          2 |          2 |        1 |   6.250000% |\n|          2 |          3 |        2 |  12.500000% |\n|          2 |          4 |        1 |   6.250000% |\n|          3 |          2 |        2 |  12.500000% |\n|          3 |          3 |        4 |  25.000000% |\n|          3 |          4 |        2 |  12.500000% |\n|          4 |          2 |        1 |   6.250000% |\n|          4 |          3 |        2 |  12.500000% |\n|          4 |          4 |        1 |   6.250000% |\n\n\n",
          "output_type": "stream"
        }
      ]
    },
    {
      "cell_type": "markdown",
      "source": "To extract elements from tuple-outcome dice, you can index the `marginals` member.",
      "metadata": {}
    },
    {
      "cell_type": "code",
      "source": "print((die + die).marginals[0])",
      "metadata": {
        "trusted": true
      },
      "execution_count": 3,
      "outputs": [
        {
          "name": "stdout",
          "text": "Die with denominator 16\n\n| Outcome | Quantity | Probability |\n|--------:|---------:|------------:|\n|       2 |        4 |  25.000000% |\n|       3 |        8 |  50.000000% |\n|       4 |        4 |  25.000000% |\n\n\n",
          "output_type": "stream"
        }
      ]
    },
    {
      "cell_type": "markdown",
      "source": "### `Reroll`\n\nThe special value `Reroll` can be used to indicate that outcomes should be rerolled in `Die.map()` and similar functions. For example, these both reroll 1s and 2s on a d6:",
      "metadata": {}
    },
    {
      "cell_type": "code",
      "source": "from icepool import Reroll, d6\nd6.reroll([1, 2])\nprint(d6.map({1: Reroll, 2: Reroll}))",
      "metadata": {
        "trusted": true
      },
      "execution_count": 4,
      "outputs": [
        {
          "name": "stdout",
          "text": "Die with denominator 4\n\n| Outcome | Quantity | Probability |\n|--------:|---------:|------------:|\n|       3 |        1 |  25.000000% |\n|       4 |        1 |  25.000000% |\n|       5 |        1 |  25.000000% |\n|       6 |        1 |  25.000000% |\n\n\n",
          "output_type": "stream"
        }
      ]
    },
    {
      "cell_type": "markdown",
      "source": "### `Again`\n\nThe special construct `Again()` can be used in a `Die` constructor to indicate that the die should be rolled again. You can then apply modifiers on top of `Again()`. For example, here is a success-counting die where a 4+ is a success, and a 6 also rolls the die again. The `again_depth` argument controls the maximum number of levels the die will be rolled again, and the `again_end` argument gives the value of the rerolls when `again_depth` is exceeded.",
      "metadata": {}
    },
    {
      "cell_type": "code",
      "source": "from icepool import Die, Again\n\nprint(Die([0, 0, 0, 1, 1, Again() + 1], again_depth=3))",
      "metadata": {
        "trusted": true
      },
      "execution_count": 5,
      "outputs": [
        {
          "name": "stdout",
          "text": "Die with denominator 1296\n\n| Outcome | Quantity | Probability |\n|--------:|---------:|------------:|\n|       0 |      648 |  50.000000% |\n|       1 |      540 |  41.666667% |\n|       2 |       90 |   6.944444% |\n|       3 |       15 |   1.157407% |\n|       4 |        3 |   0.231481% |\n\n\n",
          "output_type": "stream"
        }
      ]
    },
    {
      "cell_type": "code",
      "source": "",
      "metadata": {},
      "execution_count": null,
      "outputs": []
    }
  ]
}