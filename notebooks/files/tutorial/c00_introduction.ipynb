{
  "metadata": {
    "language_info": {
      "codemirror_mode": {
        "name": "python",
        "version": 3
      },
      "file_extension": ".py",
      "mimetype": "text/x-python",
      "name": "python",
      "nbconvert_exporter": "python",
      "pygments_lexer": "ipython3",
      "version": "3.8"
    },
    "kernelspec": {
      "name": "python",
      "display_name": "Python (Pyodide)",
      "language": "python"
    }
  },
  "nbformat_minor": 4,
  "nbformat": 4,
  "cells": [
    {
      "cell_type": "markdown",
      "source": "## Chapter 0: Introduction\n\n### What is Icepool?\n\nIcepool is a Python library for computing dice probabilities. Source code is [available on GitHub](https://github.com/HighDiceRoller/icepool).\n\nIcepool is implemented in pure Python with no dependencies outside of the Python Standard Library. Thus, it can be easily be run on any Python installation:\n\n* You can `pip install icepool` and use it locally in your own scripts, and so forth.\n* You can embed it into a webpage using [Pyodide](https://pyodide.org/en/stable/) or [PyScript](https://pyscript.net/).\n* You can create and share [Jupyter notebooks](https://jupyter.org/).\n\n### Why Icepool?\n\n* Since Icepool is a Python library, you can use it in conjunction with the rest of the Python ecosystem. Plot with `matplotlib`, use your favorite IDE for auto-completion, and so forth.\n* Icepool has a high-efficiency dice pool algorithm that can efficiently solve mechanics such as keep-highest, *RISK*, finding matching sets, and more. This allows it to handle much larger pools than other dice calculators.\n* In addition to dice, Icepool has support for decks (sampling without replacement).\n\n### This tutorial\n\nThis tutorial is a series of [JupyterLite](https://jupyterlite.readthedocs.io/en/latest/) notebooks. JupyterLite is an implementation of Jupyter notebooks that runs right in your own browser.\n\n* You can navigate using the file browser on the left and the file tabs on the top.\n* You can run the code in the notebook using the buttons just below the file tabs. Your edits are stored locally in your browser.\n* To get back to the original version of a file, you can \"delete\" it in the file browser.\n* If you have a wide screen, you might want to try **View > Render Side-by-Side**.\n\n### Other resources\n\n* [API documentation.](https://highdiceroller.github.io/icepool/apidoc/icepool.html)\n* If you go up to the [root of the file system](https://highdiceroller.github.io/icepool/notebooks/lab/index.html), you can find a collection of example notebooks covering mechanics drawn from published games, questions posed by users across the web, and academic papers.\n* [Icecup](https://highdiceroller.github.io/icepool/apps/icecup.html), a simple in-browser code editor and grapher for Icepool.\n* Example calculator web applications:\n  * [Ability scores](https://highdiceroller.github.io/icepool/apps/ability_scores.html)\n  * [*Cortex Prime*](https://highdiceroller.github.io/icepool/apps/cortex_prime.html)\n  * [*Legends of the Wulin*](https://highdiceroller.github.io/icepool/apps/legends_of_the_wulin.html)",
      "metadata": {}
    },
    {
      "cell_type": "code",
      "source": "",
      "metadata": {},
      "execution_count": null,
      "outputs": []
    }
  ]
}