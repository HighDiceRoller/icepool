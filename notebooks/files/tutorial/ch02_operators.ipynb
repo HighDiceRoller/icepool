{
  "metadata": {
    "language_info": {
      "codemirror_mode": {
        "name": "python",
        "version": 3
      },
      "file_extension": ".py",
      "mimetype": "text/x-python",
      "name": "python",
      "nbconvert_exporter": "python",
      "pygments_lexer": "ipython3",
      "version": "3.8"
    },
    "kernelspec": {
      "name": "python",
      "display_name": "Python (Pyodide)",
      "language": "python"
    }
  },
  "nbformat_minor": 4,
  "nbformat": 4,
  "cells": [
    {
      "cell_type": "markdown",
      "source": "## Chapter 2: Operators\n\nIcepool's `Die` supports almost all standard Python operators. These include:\n\n* Unary operators: `-, +, abs, ~, round, trunc, floor, ceil`\n* Binary operators: `+, -, *, /, //, %, **, <<, >>, &, |, ^`\n* Comparators: `<, <=, >=, >, ==, !=, cmp`\n\nThe operator will be mapped over all outcomes of a single die, or all pairs of outcomes of two dice, and the results gathered into a new `Die`.\n\nFor example, if you want to add two d6s together:",
      "metadata": {}
    },
    {
      "cell_type": "code",
      "source": "import piplite\nawait piplite.install(\"icepool\")\n\nfrom icepool import d6\n\nprint(d6 + d6)",
      "metadata": {
        "trusted": true
      },
      "execution_count": 1,
      "outputs": [
        {
          "name": "stdout",
          "text": "Die with denominator 36\n\n| Outcome | Quantity | Probability |\n|--------:|---------:|------------:|\n|       2 |        1 |   2.777778% |\n|       3 |        2 |   5.555556% |\n|       4 |        3 |   8.333333% |\n|       5 |        4 |  11.111111% |\n|       6 |        5 |  13.888889% |\n|       7 |        6 |  16.666667% |\n|       8 |        5 |  13.888889% |\n|       9 |        4 |  11.111111% |\n|      10 |        3 |   8.333333% |\n|      11 |        2 |   5.555556% |\n|      12 |        1 |   2.777778% |\n\n\n",
          "output_type": "stream"
        }
      ]
    },
    {
      "cell_type": "markdown",
      "source": "Note that each d6 is treated independently.\n\nAlso, the operator depends on the outcomes. For example, since the `+` operator on strings concatenates them, using it on dice with string outcomes concatenates those outcomes as well:",
      "metadata": {}
    },
    {
      "cell_type": "code",
      "source": "from icepool import Die\n\ndie = Die(['a', 'b', 'c'])\nprint(die + die)",
      "metadata": {
        "trusted": true
      },
      "execution_count": 2,
      "outputs": [
        {
          "name": "stdout",
          "text": "Die with denominator 9\n\n| Outcome[0] | Outcome[1] | Quantity | Probability |\n|:-----------|:-----------|---------:|------------:|\n| a          | a          |        1 |  11.111111% |\n| a          | b          |        1 |  11.111111% |\n| a          | c          |        1 |  11.111111% |\n| b          | a          |        1 |  11.111111% |\n| b          | b          |        1 |  11.111111% |\n| b          | c          |        1 |  11.111111% |\n| c          | a          |        1 |  11.111111% |\n| c          | b          |        1 |  11.111111% |\n| c          | c          |        1 |  11.111111% |\n\n\n",
          "output_type": "stream"
        }
      ]
    },
    {
      "cell_type": "markdown",
      "source": "### Using dice with single outcomes\n\nWhen you are using a binary operator, you can combine a `Die` with a single outcome that's not a `Die`. The single outcome will be automatically converted to a `Die` before the operator is applied. For example, here's a d6 + 10:",
      "metadata": {}
    },
    {
      "cell_type": "code",
      "source": "print(d6 + 10)",
      "metadata": {
        "trusted": true
      },
      "execution_count": 3,
      "outputs": [
        {
          "name": "stdout",
          "text": "Die with denominator 6\n\n| Outcome | Quantity | Probability |\n|--------:|---------:|------------:|\n|      11 |        1 |  16.666667% |\n|      12 |        1 |  16.666667% |\n|      13 |        1 |  16.666667% |\n|      14 |        1 |  16.666667% |\n|      15 |        1 |  16.666667% |\n|      16 |        1 |  16.666667% |\n\n\n",
          "output_type": "stream"
        }
      ]
    },
    {
      "cell_type": "markdown",
      "source": "### The `@` operator\n\nThe `@` operator is special. Unlike the other operators, it does not use the `@` behavior of the individual outcomes. Rather, it means, roll the left side, then roll the right side that many times and sum. This is analogous to the common \"d\" syntax. For example, to produce a `Die` representing 3d6, you could use:",
      "metadata": {}
    },
    {
      "cell_type": "code",
      "source": "print(3 @ d6)",
      "metadata": {
        "trusted": true
      },
      "execution_count": 4,
      "outputs": [
        {
          "name": "stdout",
          "text": "Die with denominator 216\n\n| Outcome | Quantity | Probability |\n|--------:|---------:|------------:|\n|       3 |        1 |   0.462963% |\n|       4 |        3 |   1.388889% |\n|       5 |        6 |   2.777778% |\n|       6 |       10 |   4.629630% |\n|       7 |       15 |   6.944444% |\n|       8 |       21 |   9.722222% |\n|       9 |       25 |  11.574074% |\n|      10 |       27 |  12.500000% |\n|      11 |       27 |  12.500000% |\n|      12 |       25 |  11.574074% |\n|      13 |       21 |   9.722222% |\n|      14 |       15 |   6.944444% |\n|      15 |       10 |   4.629630% |\n|      16 |        6 |   2.777778% |\n|      17 |        3 |   1.388889% |\n|      18 |        1 |   0.462963% |\n\n\n",
          "output_type": "stream"
        }
      ]
    },
    {
      "cell_type": "markdown",
      "source": "### Equality\n\nEquality operators serve a dual purpose. First, the result is a `Die` representing the chance the two dice will roll equal to each other.",
      "metadata": {}
    },
    {
      "cell_type": "code",
      "source": "print(d6 == d6)",
      "metadata": {
        "trusted": true
      },
      "execution_count": 5,
      "outputs": [
        {
          "name": "stdout",
          "text": "DieWithTruth with denominator 36\n\n| Outcome | Quantity | Probability |\n|:--------|---------:|------------:|\n| False   |       30 |  83.333333% |\n| True    |        6 |  16.666667% |\n\n\n",
          "output_type": "stream"
        }
      ]
    },
    {
      "cell_type": "markdown",
      "source": "Second, the die also has a truth value. In the case of equality, this represents whether the dice themselves have the same outcomes and quantities.",
      "metadata": {}
    },
    {
      "cell_type": "code",
      "source": "print(bool(d6 == d6))",
      "metadata": {
        "trusted": true
      },
      "execution_count": 6,
      "outputs": [
        {
          "name": "stdout",
          "text": "True\n",
          "output_type": "stream"
        }
      ]
    },
    {
      "cell_type": "markdown",
      "source": "This is necessary for dice to be used as dictionary keys. Most of the time, you will either use the result of an equality operator as a probability distribution or as a truth value, but not both.",
      "metadata": {}
    }
  ]
}