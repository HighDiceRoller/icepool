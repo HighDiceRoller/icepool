{
  "metadata": {
    "language_info": {
      "codemirror_mode": {
        "name": "python",
        "version": 3
      },
      "file_extension": ".py",
      "mimetype": "text/x-python",
      "name": "python",
      "nbconvert_exporter": "python",
      "pygments_lexer": "ipython3",
      "version": "3.8"
    },
    "kernelspec": {
      "name": "python",
      "display_name": "Python (Pyodide)",
      "language": "python"
    }
  },
  "nbformat_minor": 4,
  "nbformat": 4,
  "cells": [
    {
      "cell_type": "markdown",
      "source": "## Chapter 3: Dice functions\n\nIcepool has a variety of built-in functions and methods. You can consult the [API documentation](https://highdiceroller.github.io/icepool/apidoc/icepool.html) for details. We won't cover every single one in this chapter, but we will cover some of the more important ones.\n\n### Free functions\n\nThe `highest` function takes the highest of several dice rolls.",
      "metadata": {}
    },
    {
      "cell_type": "code",
      "source": "import piplite\nawait piplite.install(\"icepool\")\n\nfrom icepool import d6, highest, lowest\n\nprint(highest(d6, d6))",
      "metadata": {
        "trusted": true
      },
      "execution_count": 1,
      "outputs": [
        {
          "name": "stdout",
          "text": "Die with denominator 36\n\n| Outcome | Quantity | Probability |\n|--------:|---------:|------------:|\n|       1 |        1 |   2.777778% |\n|       2 |        3 |   8.333333% |\n|       3 |        5 |  13.888889% |\n|       4 |        7 |  19.444444% |\n|       5 |        9 |  25.000000% |\n|       6 |       11 |  30.555556% |\n\n\n",
          "output_type": "stream"
        }
      ]
    },
    {
      "cell_type": "markdown",
      "source": "You can use the `keep` and `drop` arguments to keep multiple dice and sum them.",
      "metadata": {}
    },
    {
      "cell_type": "code",
      "source": "print(highest(d6, d6, d6, d6, keep=3))  # 4d6 drop lowest",
      "metadata": {
        "trusted": true
      },
      "execution_count": 2,
      "outputs": [
        {
          "name": "stdout",
          "text": "Die with denominator 1296\n\n| Outcome | Quantity | Probability |\n|--------:|---------:|------------:|\n|       3 |        1 |   0.077160% |\n|       4 |        4 |   0.308642% |\n|       5 |       10 |   0.771605% |\n|       6 |       21 |   1.620370% |\n|       7 |       38 |   2.932099% |\n|       8 |       62 |   4.783951% |\n|       9 |       91 |   7.021605% |\n|      10 |      122 |   9.413580% |\n|      11 |      148 |  11.419753% |\n|      12 |      167 |  12.885802% |\n|      13 |      172 |  13.271605% |\n|      14 |      160 |  12.345679% |\n|      15 |      131 |  10.108025% |\n|      16 |       94 |   7.253086% |\n|      17 |       54 |   4.166667% |\n|      18 |       21 |   1.620370% |\n\n\n",
          "output_type": "stream"
        }
      ]
    },
    {
      "cell_type": "code",
      "source": "print(highest(d6, d6, d6, keep=1, drop=1))  # middle of 3d6: drop highest, then keep the next",
      "metadata": {
        "trusted": true
      },
      "execution_count": 3,
      "outputs": [
        {
          "name": "stdout",
          "text": "Die with denominator 216\n\n| Outcome | Quantity | Probability |\n|--------:|---------:|------------:|\n|       1 |       16 |   7.407407% |\n|       2 |       40 |  18.518519% |\n|       3 |       52 |  24.074074% |\n|       4 |       52 |  24.074074% |\n|       5 |       40 |  18.518519% |\n|       6 |       16 |   7.407407% |\n\n\n",
          "output_type": "stream"
        }
      ]
    },
    {
      "cell_type": "markdown",
      "source": "`apply` works similarly to how AnyDice expands dice arguments to functions. Here we use *Ironsworn* as an example.",
      "metadata": {}
    },
    {
      "cell_type": "code",
      "source": "from icepool import apply, d6, d10\n\ndef ironsworn(action, modifier, challenge_1, challenge_2):\n    return (action + modifier > challenge_1) + (action + modifier > challenge_2)\n\nprint(apply(ironsworn, d6, 1, d10, d10))",
      "metadata": {
        "trusted": true
      },
      "execution_count": 4,
      "outputs": [
        {
          "name": "stdout",
          "text": "Die with denominator 600\n\n| Outcome | Quantity | Probability |\n|--------:|---------:|------------:|\n|       0 |      271 |  45.166667% |\n|       1 |      238 |  39.666667% |\n|       2 |       91 |  15.166667% |\n\n\n",
          "output_type": "stream"
        }
      ]
    },
    {
      "cell_type": "code",
      "source": "",
      "metadata": {},
      "execution_count": null,
      "outputs": []
    }
  ]
}