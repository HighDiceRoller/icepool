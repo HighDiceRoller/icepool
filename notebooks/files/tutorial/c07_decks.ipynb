{
  "metadata": {
    "language_info": {
      "codemirror_mode": {
        "name": "python",
        "version": 3
      },
      "file_extension": ".py",
      "mimetype": "text/x-python",
      "name": "python",
      "nbconvert_exporter": "python",
      "pygments_lexer": "ipython3",
      "version": "3.8"
    },
    "kernelspec": {
      "name": "python",
      "display_name": "Python (Pyodide)",
      "language": "python"
    }
  },
  "nbformat_minor": 4,
  "nbformat": 4,
  "cells": [
    {
      "cell_type": "markdown",
      "source": "## Chapter 7: Decks\n\nIcepool also has some support for decks.\n\n### Creation\n\nA `Deck` is constructed similarly to a `Die`; in this case, quantities represent the number of each type of card in the deck rather than weights.\n\nFor example, here's a deck consisting of each of the numbers from 1-13, with 4 cards per number:",
      "metadata": {}
    },
    {
      "cell_type": "code",
      "source": "import piplite\nawait piplite.install(\"icepool\")\n\nfrom icepool import Deck, Die\n\nprint(Deck(range(1, 14), times=4))",
      "metadata": {
        "trusted": true
      },
      "execution_count": 1,
      "outputs": [
        {
          "name": "stdout",
          "text": "Deck with denominator 52\n\n| Outcome | Quantity | Probability |\n|--------:|---------:|------------:|\n|       1 |        4 |   7.692308% |\n|       2 |        4 |   7.692308% |\n|       3 |        4 |   7.692308% |\n|       4 |        4 |   7.692308% |\n|       5 |        4 |   7.692308% |\n|       6 |        4 |   7.692308% |\n|       7 |        4 |   7.692308% |\n|       8 |        4 |   7.692308% |\n|       9 |        4 |   7.692308% |\n|      10 |        4 |   7.692308% |\n|      11 |        4 |   7.692308% |\n|      12 |        4 |   7.692308% |\n|      13 |        4 |   7.692308% |\n\n\n",
          "output_type": "stream"
        }
      ]
    },
    {
      "cell_type": "markdown",
      "source": "Note that nested collections are treated differently compared to the `Die` constructor.\n\nWith a `Die`, the assigned quantities are interpreted as weights. Each sub-collection is treated as a die, and the weight assigned to it is effectively shared between all of its outcomes. The overall denominator increases to be able to represent all the sub-dice if necessary.\n\nWith a `Deck`, the assigned quantities are interpreted as duplicates. Each outcome is considered to be a card, and is duplicated the specified number of times.\n\nFor example, here's the same `Deck` with two extra 14s, compared to a `Die` constructed with the same arguments:",
      "metadata": {}
    },
    {
      "cell_type": "code",
      "source": "# Take a deck of 1-13, duplicate it 4 times, then throw in two 14s.\ndeck = Deck({Deck(range(1, 14)): 4, 14: 2})\nprint(deck)\n\n# Roll 1d6:\n# On 1-4: the result is 1d13.\n# On 5-6: the result is 14.\nprint(Die({Die(range(1, 14)): 4, 14: 2}))",
      "metadata": {
        "trusted": true
      },
      "execution_count": 2,
      "outputs": [
        {
          "name": "stdout",
          "text": "Deck with denominator 54\n\n| Outcome | Quantity | Probability |\n|--------:|---------:|------------:|\n|       1 |        4 |   7.407407% |\n|       2 |        4 |   7.407407% |\n|       3 |        4 |   7.407407% |\n|       4 |        4 |   7.407407% |\n|       5 |        4 |   7.407407% |\n|       6 |        4 |   7.407407% |\n|       7 |        4 |   7.407407% |\n|       8 |        4 |   7.407407% |\n|       9 |        4 |   7.407407% |\n|      10 |        4 |   7.407407% |\n|      11 |        4 |   7.407407% |\n|      12 |        4 |   7.407407% |\n|      13 |        4 |   7.407407% |\n|      14 |        2 |   3.703704% |\n\n\nDie with denominator 78\n\n| Outcome | Quantity | Probability |\n|--------:|---------:|------------:|\n|       1 |        4 |   5.128205% |\n|       2 |        4 |   5.128205% |\n|       3 |        4 |   5.128205% |\n|       4 |        4 |   5.128205% |\n|       5 |        4 |   5.128205% |\n|       6 |        4 |   5.128205% |\n|       7 |        4 |   5.128205% |\n|       8 |        4 |   5.128205% |\n|       9 |        4 |   5.128205% |\n|      10 |        4 |   5.128205% |\n|      11 |        4 |   5.128205% |\n|      12 |        4 |   5.128205% |\n|      13 |        4 |   5.128205% |\n|      14 |       26 |  33.333333% |\n\n\n",
          "output_type": "stream"
        }
      ]
    },
    {
      "cell_type": "markdown",
      "source": "### Deals\n\nSince cards are drawn without replacement, they cannot be considered independent of each other. Thus, for a deck to be useful, we need to specify how many cards to deal from it. This is done using the `deal` method. This produces a `Deal` object. In turn, this is a subclass of `MultisetGenerator`---making a `Deal` analogous to a `Pool`.\n\nIn fact, `Deal`s have all the same built-in evaluators as `Pool`s, and can be used with custom `MultisetEvaluator` just as well as a `Pool`.\n\nFor example, here's the sum of two cards:",
      "metadata": {}
    },
    {
      "cell_type": "code",
      "source": "deal = deck.deal(2)\n\nprint(deal.sum())",
      "metadata": {
        "trusted": true
      },
      "execution_count": 3,
      "outputs": [
        {
          "name": "stdout",
          "text": "Die with denominator 1431\n\n| Outcome | Quantity | Probability |\n|--------:|---------:|------------:|\n|       2 |        6 |   0.419287% |\n|       3 |       16 |   1.118099% |\n|       4 |       22 |   1.537386% |\n|       5 |       32 |   2.236198% |\n|       6 |       38 |   2.655486% |\n|       7 |       48 |   3.354298% |\n|       8 |       54 |   3.773585% |\n|       9 |       64 |   4.472397% |\n|      10 |       70 |   4.891684% |\n|      11 |       80 |   5.590496% |\n|      12 |       86 |   6.009783% |\n|      13 |       96 |   6.708595% |\n|      14 |      102 |   7.127883% |\n|      15 |      104 |   7.267645% |\n|      16 |       94 |   6.568833% |\n|      17 |       88 |   6.149546% |\n|      18 |       78 |   5.450734% |\n|      19 |       72 |   5.031447% |\n|      20 |       62 |   4.332635% |\n|      21 |       56 |   3.913347% |\n|      22 |       46 |   3.214535% |\n|      23 |       40 |   2.795248% |\n|      24 |       30 |   2.096436% |\n|      25 |       24 |   1.677149% |\n|      26 |       14 |   0.978337% |\n|      27 |        8 |   0.559050% |\n|      28 |        1 |   0.069881% |\n\n\n",
          "output_type": "stream"
        }
      ]
    },
    {
      "cell_type": "markdown",
      "source": "You can also deal multiple hands from the same deck (without replacing between them). This causes each hand to take up multiple \"slots\" within an `MultisetEvaluator`.\n\nAs an example, let's take exactly the same *RISK*-like evaluator from the last chapter and deal 3 cards to player A and 2 cards to player B:",
      "metadata": {}
    },
    {
      "cell_type": "code",
      "source": "from icepool import MultisetEvaluator, Order\n\nclass RiskEvaluator(MultisetEvaluator):\n    def next_state(self, state, outcome, a, b):\n        if state is None:\n            score_a, score_b, advantage = 0, 0, 0\n        else:\n            score_a, score_b, advantage = state\n        # Advantage is the number of unpaired dice that rolled a previous (higher) number.\n        # If positive, it favors side A, otherwise it favors side B.\n        # We pair them off with newly-rolled dice of the disadvantaged side.\n        if advantage > 0:\n            score_a += min(b, advantage)\n        elif advantage < 0:\n            score_b += min(a, -advantage)\n        advantage += a - b\n        return score_a, score_b, advantage\n    \n    def final_outcome(self, final_state):\n        # Take only the scores.\n        return final_state[:2]\n    \n    def order(self, *_):\n        # See outcomes in descending order.\n        return Order.Descending\n\nrisk_evaluator = RiskEvaluator()\n\nprint(risk_evaluator(deck.deal(3, 2)))",
      "metadata": {
        "trusted": true
      },
      "execution_count": 4,
      "outputs": [
        {
          "name": "stdout",
          "text": "Die with denominator 31625100\n\n| Outcome[0] | Outcome[1] | Quantity | Probability |\n|-----------:|-----------:|---------:|------------:|\n|          0 |          0 |   185640 |   0.587002% |\n|          0 |          1 |  1517464 |   4.798290% |\n|          0 |          2 |  5510596 |  17.424754% |\n|          1 |          0 |  2337868 |   7.392445% |\n|          1 |          1 |  7519408 |  23.776709% |\n|          2 |          0 | 14554124 |  46.020800% |\n\n\n",
          "output_type": "stream"
        }
      ]
    },
    {
      "cell_type": "markdown",
      "source": "Here the `Deal` takes up both slots of the evaluator. If you wanted to, you could even mix `Deck`s and `Pool`s in the arguments to an evaluation.",
      "metadata": {}
    },
    {
      "cell_type": "code",
      "source": "",
      "metadata": {},
      "execution_count": null,
      "outputs": []
    }
  ]
}