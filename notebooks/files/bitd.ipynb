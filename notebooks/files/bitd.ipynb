{
  "metadata": {
    "language_info": {
      "codemirror_mode": {
        "name": "python",
        "version": 3
      },
      "file_extension": ".py",
      "mimetype": "text/x-python",
      "name": "python",
      "nbconvert_exporter": "python",
      "pygments_lexer": "ipython3",
      "version": "3.8"
    },
    "kernelspec": {
      "name": "python",
      "display_name": "Python (Pyodide)",
      "language": "python"
    }
  },
  "nbformat_minor": 4,
  "nbformat": 4,
  "cells": [
    {
      "cell_type": "markdown",
      "source": "## *Blades in the Dark*\n\n[Official site.](https://bladesinthedark.com/core-system)\n\n[AnyDice article.](https://anydice.com/articles/blades-in-the-dark/)\n\nRoll a number of d6s.\n\n* If the highest die is a 1, 2, or 3, it's a bad outcome.\n* If the highest die is a 4 or 5, it's a mixed success.\n* If the highest die is a 6, it's a full success.\n* If there are more than one 6, it's a critical success.",
      "metadata": {}
    },
    {
      "cell_type": "code",
      "source": "%pip install icepool\n\nimport icepool\n\n# A single die. Count the number of 6s and 4+s.\nbitd = icepool.d6.map(lambda x: icepool.vectorize(x == 6, x >= 4))\n\n# Interpret the number of dice that rolled the above.\ndef count_bitd(outcome):\n    sixes, four_pluses = outcome\n    if sixes > 1:\n        return '3. critical success'\n    elif sixes == 1:\n        return '2. full success'\n    elif four_pluses >= 1:\n        return '1. mixed success'\n    else:\n        return '0. bad outcome'\n\n# Roll 4 dice and interpret the result.\nprint((4 @ bitd).map(count_bitd))",
      "metadata": {
        "trusted": true
      },
      "execution_count": 1,
      "outputs": [
        {
          "name": "stdout",
          "text": "Die with denominator 1296\n\n|             Outcome | Quantity | Probability |\n|--------------------:|---------:|------------:|\n|      0. bad outcome |       81 |   6.250000% |\n|    1. mixed success |      544 |  41.975309% |\n|     2. full success |      500 |  38.580247% |\n| 3. critical success |      171 |  13.194444% |\n\n\n",
          "output_type": "stream"
        }
      ]
    },
    {
      "cell_type": "code",
      "source": "",
      "metadata": {},
      "execution_count": null,
      "outputs": []
    }
  ]
}