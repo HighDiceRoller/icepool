{
  "metadata": {
    "kernelspec": {
      "name": "python",
      "display_name": "Python (Pyodide)",
      "language": "python"
    },
    "language_info": {
      "codemirror_mode": {
        "name": "python",
        "version": 3
      },
      "file_extension": ".py",
      "mimetype": "text/x-python",
      "name": "python",
      "nbconvert_exporter": "python",
      "pygments_lexer": "ipython3",
      "version": "3.8"
    }
  },
  "nbformat_minor": 5,
  "nbformat": 4,
  "cells": [
    {
      "id": "2cd15eb7-80a0-4657-b624-7262353ccef9",
      "cell_type": "markdown",
      "source": "## *Outgunned*\n\n| Dice | Basic | Critical | Reroll | Extreme | Reroll | Impossible | Reroll |\n|------|-------|----------|--------|---------|--------|------------|--------|\n| 2 | 17% | - | - | - | - | - | - |\n| 3 | 45% | 3% | 5% | - | - | - | - |\n| 4 | 72% | 10% | 21% | 0.5% | 1.5% | - | - |\n| 5 | 91% | 21% | 47% | 2% | 9% | 0.1% | 0.5% |\n| 6 | 99% | 37% | 75% | 5% | 26% | 0.5% | 3.5% |\n| 7 | 100% | 54% | 89% | 11% | 51% | 1% | 13% |\n| 8 | 100% | 70% | 99% | 18% | 75% | 3% | 32% |\n| 9 | 100% | 84% | 99% | 28% | 90% | 5% | 57% |",
      "metadata": {}
    },
    {
      "id": "955a168b-fdbc-4924-9a3d-4b4ec32801ac",
      "cell_type": "code",
      "source": "%pip install icepool\n\nfrom icepool import Vector, d, one_hot\n\ndef compute_reroll_level(initial_roll, require_initial_success):\n    if require_initial_success and not any(initial_roll >= 2):\n        # no reroll allowed\n        return 1\n    rerolls = sum(initial_roll == 1)\n    not_rerolled = Vector((x if x >= 2 else 0) for x in initial_roll)\n    final = not_rerolled + rerolls @ one_hot(6)\n    return final.map(max, star=False)\n\nprint('| Dice | Basic | Critical | Reroll | Extreme | Reroll | Impossible | Reroll |')\nprint('|------|-------|----------|--------|---------|--------|------------|--------|')\n\nfor pool_size in range(2, 10):\n    initial_roll = d(6).pool(pool_size).all_counts(filter=0).map(Vector)\n    initial_level = initial_roll.marginals[0]\n    reroll_level = initial_roll.map(compute_reroll_level, False)\n    \n    print(('| {:d} | ' + 7 * ' {:5.2f}% |').format(\n        pool_size,\n        initial_level.probability('>=', 2, percent=True),\n        initial_level.probability('>=', 3, percent=True),\n        reroll_level.probability('>=', 3, percent=True),\n        initial_level.probability('>=', 4, percent=True),\n        reroll_level.probability('>=', 4, percent=True),\n        initial_level.probability('>=', 5, percent=True),\n        reroll_level.probability('>=', 5, percent=True),\n        ))",
      "metadata": {
        "trusted": true
      },
      "outputs": [
        {
          "name": "stdout",
          "output_type": "stream",
          "text": "| Dice | Basic | Critical | Reroll | Extreme | Reroll | Impossible | Reroll |\n|------|-------|----------|--------|---------|--------|------------|--------|\n| 2 |  16.67% |  0.00% |  0.00% |  0.00% |  0.00% |  0.00% |  0.00% |\n| 3 |  44.44% |  2.78% | 11.27% |  0.00% |  0.00% |  0.00% |  0.00% |\n| 4 |  72.22% |  9.72% | 29.40% |  0.46% |  3.68% |  0.00% |  0.00% |\n| 5 |  90.74% | 21.30% | 51.56% |  2.01% | 10.34% |  0.08% |  1.05% |\n| 6 |  98.46% | 36.73% | 70.09% |  5.22% | 19.45% |  0.40% |  3.10% |\n| 7 |  100.00% | 54.09% | 84.20% | 10.58% | 30.43% |  1.20% |  6.23% |\n| 8 |  100.00% | 70.74% | 91.83% | 18.33% | 41.55% |  2.77% | 10.39% |\n| 9 |  100.00% | 84.25% | 96.75% | 28.40% | 52.85% |  5.37% | 15.59% |\n"
        }
      ],
      "execution_count": 1
    },
    {
      "id": "fa832a62-5fca-482f-8d9c-f5c296350199",
      "cell_type": "code",
      "source": "",
      "metadata": {
        "trusted": true
      },
      "outputs": [],
      "execution_count": null
    }
  ]
}