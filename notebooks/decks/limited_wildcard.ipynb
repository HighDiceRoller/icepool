{
  "metadata": {
    "kernelspec": {
      "name": "python",
      "display_name": "Python (Pyodide)",
      "language": "python"
    },
    "language_info": {
      "codemirror_mode": {
        "name": "python",
        "version": 3
      },
      "file_extension": ".py",
      "mimetype": "text/x-python",
      "name": "python",
      "nbconvert_exporter": "python",
      "pygments_lexer": "ipython3",
      "version": "3.8"
    }
  },
  "nbformat_minor": 4,
  "nbformat": 4,
  "cells": [
    {
      "cell_type": "markdown",
      "source": "## Limited wildcard\n\n[BoardGameGeek forum post.](https://boardgamegeek.com/thread/869326/article/40240589#40240589)\n\n* Start with some number of wildcards (\"W\").\n  * A wildcard can stand in for some other cards but not others. For example, it might be able to stand in for \"C\", \"D\", or \"E\" but not \"A\" or \"B\".\n* Draw some cards from a deck.\n* What's the chance that you will be able to make a desired multiset of cards?",
      "metadata": {}
    },
    {
      "cell_type": "code",
      "source": "import piplite\nawait piplite.install(\"icepool\")\n\nimport icepool\nimport time\n\nclass EvalWildcard(icepool.MultisetEvaluator):\n    def next_state_ascending(self, state, outcome, target, *counts):\n        # state = the number of wildcards needed.\n        if state is None:\n            state = 0\n        total_count = sum(counts)\n        # Final: wildcards.\n        if outcome == 'W':\n            if state == 'fail':\n                return False\n            else:\n                return total_count >= state\n        if state == 'fail':\n            return state\n        # Could potentially use wildcards.\n        if outcome >= 'C':\n            return state + max(target - total_count, 0)\n        # Ineligible for wildcards.\n        if total_count < target:\n            return 'fail'\n        return state\n\n    def extra_outcomes(self, *_):\n        # Always process wildcard.\n        return ('W',)\n\n# When expressed as a sequence, each appearance counts as one card.\ntarget = list('ABBCDDEEE')\n# When expressed as a dict, the value gives the number of cards.\ndeal = icepool.Deck({'A': 3, 'B': 8, 'C': 2, 'D': 3, 'E': 3, 'F': 113, 'W': 7}).deal(35)\nhand = list('W')\n\nevaluator = EvalWildcard()\n\nstart_ns = time.perf_counter_ns()\n\n# The counts resulting from the three arguments are supplied as\n# the last three arguments to next_state.\nresult = evaluator.evaluate(target, deal, hand)\n\nend_ns = time.perf_counter_ns()\nelapsed_ms = (end_ns - start_ns) * 1e-6\nprint(f'Computation time: {elapsed_ms:0.1f} ms')\n\nprint(f'{result:md:o|q==|%==}')",
      "metadata": {
        "trusted": true
      },
      "outputs": [
        {
          "name": "stdout",
          "output_type": "stream",
          "text": "Computation time: 10.4 ms\nDie with denominator 903552809026475628595978062186780\n\n| Outcome |                          Quantity | Probability |\n|:--------|----------------------------------:|------------:|\n| False   | 816069609857287121983676726542308 |  90.317865% |\n| True    |  87483199169188506612301335644472 |   9.682135% |\n\n\n"
        }
      ],
      "execution_count": 1
    },
    {
      "cell_type": "code",
      "source": "",
      "metadata": {
        "trusted": true
      },
      "outputs": [],
      "execution_count": null
    }
  ]
}