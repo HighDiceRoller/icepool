{
  "metadata": {
    "language_info": {
      "codemirror_mode": {
        "name": "python",
        "version": 3
      },
      "file_extension": ".py",
      "mimetype": "text/x-python",
      "name": "python",
      "nbconvert_exporter": "python",
      "pygments_lexer": "ipython3",
      "version": "3.8"
    },
    "kernelspec": {
      "name": "python",
      "display_name": "Python (Pyodide)",
      "language": "python"
    }
  },
  "nbformat_minor": 4,
  "nbformat": 4,
  "cells": [
    {
      "cell_type": "markdown",
      "source": "## Chapter 3: Dice functions\n\nIcepool has a variety of built-in functions and methods. You can consult the [API documentation](https://highdiceroller.github.io/icepool/apidoc/icepool.html#Die) for details. We won't cover every single one in this chapter, but we will cover some of the more important ones.\n\n### Free functions\n\n#### `highest` and `lowest`\n\nThe `highest` function takes the highest of several dice rolls.",
      "metadata": {}
    },
    {
      "cell_type": "code",
      "source": "import piplite\nawait piplite.install(\"icepool\")\n\nfrom icepool import d6, highest, lowest, highest, lowest\n\nprint(highest(d6, d6))",
      "metadata": {
        "trusted": true
      },
      "execution_count": 1,
      "outputs": [
        {
          "name": "stdout",
          "text": "Die with denominator 36\n\n| Outcome | Quantity | Probability |\n|--------:|---------:|------------:|\n|       1 |        1 |   2.777778% |\n|       2 |        3 |   8.333333% |\n|       3 |        5 |  13.888889% |\n|       4 |        7 |  19.444444% |\n|       5 |        9 |  25.000000% |\n|       6 |       11 |  30.555556% |\n\n\n",
          "output_type": "stream"
        }
      ]
    },
    {
      "cell_type": "markdown",
      "source": "You can use `highest` and the `keep` and `drop` arguments to keep multiple dice and sum them.",
      "metadata": {}
    },
    {
      "cell_type": "code",
      "source": "print(highest(d6, d6, d6, d6, keep=3))  # 4d6 drop lowest",
      "metadata": {
        "trusted": true
      },
      "execution_count": 2,
      "outputs": [
        {
          "name": "stdout",
          "text": "Die with denominator 1296\n\n| Outcome | Quantity | Probability |\n|--------:|---------:|------------:|\n|       3 |        1 |   0.077160% |\n|       4 |        4 |   0.308642% |\n|       5 |       10 |   0.771605% |\n|       6 |       21 |   1.620370% |\n|       7 |       38 |   2.932099% |\n|       8 |       62 |   4.783951% |\n|       9 |       91 |   7.021605% |\n|      10 |      122 |   9.413580% |\n|      11 |      148 |  11.419753% |\n|      12 |      167 |  12.885802% |\n|      13 |      172 |  13.271605% |\n|      14 |      160 |  12.345679% |\n|      15 |      131 |  10.108025% |\n|      16 |       94 |   7.253086% |\n|      17 |       54 |   4.166667% |\n|      18 |       21 |   1.620370% |\n\n\n",
          "output_type": "stream"
        }
      ]
    },
    {
      "cell_type": "code",
      "source": "print(highest(d6, d6, d6, keep=1, drop=1))  # middle of 3d6: drop highest, then keep the next",
      "metadata": {
        "trusted": true
      },
      "execution_count": 3,
      "outputs": [
        {
          "name": "stdout",
          "text": "Die with denominator 216\n\n| Outcome | Quantity | Probability |\n|--------:|---------:|------------:|\n|       1 |       16 |   7.407407% |\n|       2 |       40 |  18.518519% |\n|       3 |       52 |  24.074074% |\n|       4 |       52 |  24.074074% |\n|       5 |       40 |  18.518519% |\n|       6 |       16 |   7.407407% |\n\n\n",
          "output_type": "stream"
        }
      ]
    },
    {
      "cell_type": "markdown",
      "source": "#### `apply`\n\n`apply` works similarly to how AnyDice expands dice arguments to functions: it evaluates a function over to all possible joint outcomes of one or more dice, then constructs a new die from the results.\n\nHere we use *Ironsworn* as an example:\n\n* Roll an action die (d6 + modifier) and two challenge dice (d10s).\n* The result is how many challenge dice are beaten by the action die.",
      "metadata": {}
    },
    {
      "cell_type": "code",
      "source": "from icepool import apply, d6, d10\n\ndef ironsworn(action, modifier, challenge_1, challenge_2):\n    return (action + modifier > challenge_1) + (action + modifier > challenge_2)\n\nprint(apply(ironsworn, d6, 1, d10, d10))",
      "metadata": {
        "trusted": true
      },
      "execution_count": 4,
      "outputs": [
        {
          "name": "stdout",
          "text": "Die with denominator 600\n\n| Outcome | Quantity | Probability |\n|--------:|---------:|------------:|\n|       0 |      271 |  45.166667% |\n|       1 |      238 |  39.666667% |\n|       2 |       91 |  15.166667% |\n\n\n",
          "output_type": "stream"
        }
      ]
    },
    {
      "cell_type": "markdown",
      "source": "Note that if we had done `(d6 + 1 > d10) + (d6 + 1 > d10)` we would get the wrong result because it would treat this as rolling the d6 independently against each of the two challenge dice. Thus, `apply` can be used to \"freeze\" the roll of individual dice so that you can use the same roll twice or in control flow (e.g. if-else statements).\n\n`apply` is not especially efficient. If possible, using a `Pool` will tend to be considerably faster. More on this in the next chapter.",
      "metadata": {}
    },
    {
      "cell_type": "markdown",
      "source": "### `Die` methods\n\n#### `simplify`\n\nA `Die` is a non-normalized probability distribution that assigns an integer quantity to each outcome. You might think of a `Die` as a set of fractions where the denominator is the total quantity in the die.\n\nMost operations do not put a `Die` into simplest form automatically; this allows you to track the \"raw\" denominator of a series of operations. If you want to put a `Die` into simplest form, you can use the `simplify` method:",
      "metadata": {}
    },
    {
      "cell_type": "code",
      "source": "print(d6 == d6)\nprint((d6 == d6).simplify())",
      "metadata": {
        "trusted": true
      },
      "execution_count": 5,
      "outputs": [
        {
          "name": "stdout",
          "text": "DieWithTruth with denominator 36\n\n| Outcome | Quantity | Probability |\n|:--------|---------:|------------:|\n| False   |       30 |  83.333333% |\n| True    |        6 |  16.666667% |\n\n\nDie with denominator 6\n\n| Outcome | Quantity | Probability |\n|:--------|---------:|------------:|\n| False   |        5 |  83.333333% |\n| True    |        1 |  16.666667% |\n\n\n",
          "output_type": "stream"
        }
      ]
    },
    {
      "cell_type": "markdown",
      "source": "#### `reroll`\n\nThis allows you to reroll selected outcomes of a `Die`. For example, this rerolls 1s and 2s on a d6:",
      "metadata": {}
    },
    {
      "cell_type": "code",
      "source": "print(d6.reroll([1, 2]))",
      "metadata": {
        "trusted": true
      },
      "execution_count": 6,
      "outputs": [
        {
          "name": "stdout",
          "text": "Die with denominator 4\n\n| Outcome | Quantity | Probability |\n|--------:|---------:|------------:|\n|       3 |        1 |  25.000000% |\n|       4 |        1 |  25.000000% |\n|       5 |        1 |  25.000000% |\n|       6 |        1 |  25.000000% |\n\n\n",
          "output_type": "stream"
        }
      ]
    },
    {
      "cell_type": "markdown",
      "source": "By default, there is no limit to the number of times rerolled. If you want to set a limit, use the `depth` argument:",
      "metadata": {}
    },
    {
      "cell_type": "code",
      "source": "print(d6.reroll([1, 2], depth=1))",
      "metadata": {
        "trusted": true
      },
      "execution_count": 7,
      "outputs": [
        {
          "name": "stdout",
          "text": "Die with denominator 36\n\n| Outcome | Quantity | Probability |\n|--------:|---------:|------------:|\n|       1 |        2 |   5.555556% |\n|       2 |        2 |   5.555556% |\n|       3 |        8 |  22.222222% |\n|       4 |        8 |  22.222222% |\n|       5 |        8 |  22.222222% |\n|       6 |        8 |  22.222222% |\n\n\n",
          "output_type": "stream"
        }
      ]
    },
    {
      "cell_type": "markdown",
      "source": "#### `explode`\n\nThis explodes the given outcomes, that is, if the outcome is rolled, the die is rolled again and the result added to the running total. By default the single highest outcome is exploded. Like `Die.reroll()`, `explode()` has a depth, though its default is finite.",
      "metadata": {}
    },
    {
      "cell_type": "code",
      "source": "print(d6.explode(depth=2))",
      "metadata": {
        "trusted": true
      },
      "execution_count": 8,
      "outputs": [
        {
          "name": "stdout",
          "text": "Die with denominator 216\n\n| Outcome | Quantity | Probability |\n|--------:|---------:|------------:|\n|       1 |       36 |  16.666667% |\n|       2 |       36 |  16.666667% |\n|       3 |       36 |  16.666667% |\n|       4 |       36 |  16.666667% |\n|       5 |       36 |  16.666667% |\n|       7 |        6 |   2.777778% |\n|       8 |        6 |   2.777778% |\n|       9 |        6 |   2.777778% |\n|      10 |        6 |   2.777778% |\n|      11 |        6 |   2.777778% |\n|      13 |        1 |   0.462963% |\n|      14 |        1 |   0.462963% |\n|      15 |        1 |   0.462963% |\n|      16 |        1 |   0.462963% |\n|      17 |        1 |   0.462963% |\n|      18 |        1 |   0.462963% |\n\n\n",
          "output_type": "stream"
        }
      ]
    },
    {
      "cell_type": "markdown",
      "source": "#### `map`\n\nSimilar to calling `apply` on the `Die`, but with some additional features:\n\n* Instead of calling a function on each outcome of the die, you can supply a `dict` mapping old outcomes to new outcomes.\n* You can repeat the mapping by providing the `repeat` argument.\n  * Experimental: You can even effectively repeat an infinite number of times by using `repeat=None`. This can be used to model processes that almost surely terminate, as long as they have a reasonably small state space.\n\nHere are some examples:",
      "metadata": {}
    },
    {
      "cell_type": "code",
      "source": "# Replace numbers with letters.\nprint(d6.map({1:'a', 2:'b', 3:'c', 4:'d', 5:'e', 6:'f'}))",
      "metadata": {
        "trusted": true
      },
      "execution_count": 9,
      "outputs": [
        {
          "name": "stdout",
          "text": "Die with denominator 6\n\n| Outcome | Quantity | Probability |\n|:--------|---------:|------------:|\n| a       |        1 |  16.666667% |\n| b       |        1 |  16.666667% |\n| c       |        1 |  16.666667% |\n| d       |        1 |  16.666667% |\n| e       |        1 |  16.666667% |\n| f       |        1 |  16.666667% |\n\n\n",
          "output_type": "stream"
        }
      ]
    },
    {
      "cell_type": "code",
      "source": "# Roll d6s until the sum is at least 10; the result is the total.\n# Note that you are allowed to return a die from the function sent to `Die.map()`\n# (or `apply()` for that matter),\nprint(d6.map(lambda x: x if x >= 10 else x + d6))",
      "metadata": {
        "trusted": true
      },
      "execution_count": 10,
      "outputs": [
        {
          "name": "stdout",
          "text": "Die with denominator 36\n\n| Outcome | Quantity | Probability |\n|--------:|---------:|------------:|\n|       2 |        1 |   2.777778% |\n|       3 |        2 |   5.555556% |\n|       4 |        3 |   8.333333% |\n|       5 |        4 |  11.111111% |\n|       6 |        5 |  13.888889% |\n|       7 |        6 |  16.666667% |\n|       8 |        5 |  13.888889% |\n|       9 |        4 |  11.111111% |\n|      10 |        3 |   8.333333% |\n|      11 |        2 |   5.555556% |\n|      12 |        1 |   2.777778% |\n\n\n",
          "output_type": "stream"
        }
      ]
    },
    {
      "cell_type": "markdown",
      "source": "#### `highest` and `lowest`\n\nSimilar to the free functions of the same name, this is convenient if all the dice you roll are the same. Here's another way to do 4d6 drop lowest:",
      "metadata": {}
    },
    {
      "cell_type": "code",
      "source": "print(d6.highest(4, 3))",
      "metadata": {
        "trusted": true
      },
      "execution_count": 11,
      "outputs": [
        {
          "name": "stdout",
          "text": "Die with denominator 1296\n\n| Outcome | Quantity | Probability |\n|--------:|---------:|------------:|\n|       3 |        1 |   0.077160% |\n|       4 |        4 |   0.308642% |\n|       5 |       10 |   0.771605% |\n|       6 |       21 |   1.620370% |\n|       7 |       38 |   2.932099% |\n|       8 |       62 |   4.783951% |\n|       9 |       91 |   7.021605% |\n|      10 |      122 |   9.413580% |\n|      11 |      148 |  11.419753% |\n|      12 |      167 |  12.885802% |\n|      13 |      172 |  13.271605% |\n|      14 |      160 |  12.345679% |\n|      15 |      131 |  10.108025% |\n|      16 |       94 |   7.253086% |\n|      17 |       54 |   4.166667% |\n|      18 |       21 |   1.620370% |\n\n\n",
          "output_type": "stream"
        }
      ]
    },
    {
      "cell_type": "code",
      "source": "",
      "metadata": {},
      "execution_count": null,
      "outputs": []
    }
  ]
}