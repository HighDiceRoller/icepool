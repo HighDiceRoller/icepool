{
  "metadata": {
    "language_info": {
      "codemirror_mode": {
        "name": "python",
        "version": 3
      },
      "file_extension": ".py",
      "mimetype": "text/x-python",
      "name": "python",
      "nbconvert_exporter": "python",
      "pygments_lexer": "ipython3",
      "version": "3.8"
    },
    "kernelspec": {
      "name": "python",
      "display_name": "Pyolite",
      "language": "python"
    }
  },
  "nbformat_minor": 4,
  "nbformat": 4,
  "cells": [
    {
      "cell_type": "markdown",
      "source": "## Ability score draft\n\n[StackExchange question.](https://rpg.stackexchange.com/questions/120334/how-can-i-model-this-party-draft-pool-ability-score-generation-method-in-anydi)\n\nIn this system, each player rolls the standard 4d6 drop lowest six times, but the scores are put into a common pool.\nThe players then draft scores from the pool, reversing order every round, e.g. player 1, 2, 3, 4, 4, 3, 2, 1, 1, 2, 3, 4, ...\n\nThis computes the mean array for each player, i.e. the mean value for each ranked ability score for each player.",
      "metadata": {}
    },
    {
      "cell_type": "code",
      "source": "import piplite\nawait piplite.install(\"hdroller\")\n\nimport hdroller\n\ndef snake_draft(num_players,\n                ability_score=hdroller.d6.keep_highest(4, 3),\n                reverses=(False, True, False, True, False, True)):\n    \"\"\"\n    Args:\n        num_players: The number of players. Six times this many scores will be rolled.\n        ability_score: A die representing the distribution of a single score.\n        reverses: A 6-tuple representing whether the player order should be flipped\n            for that round of drafting. In other words, each element determines\n            whether a column of the result table will be flipped.\n            The default performs a snake draft.\n    \"\"\"\n    total_rolls = 6 * num_players\n    scores = [ability_score.keep(total_rolls, i) for i in range(total_rolls - 1, -1, -1)]\n    text  = '| Player |    1st|    2nd|    3rd|    4th|    5th|    6th|\\n'\n    text += '|-------:|------:|------:|------:|------:|------:|------:|\\n'\n    for player in range(num_players):\n        text += f'|      {player+1} '\n        for score_rank, reverse in enumerate(reverses):\n            if reverse:\n                index = (score_rank + 1) * num_players - 1 - player\n            else:\n                index = score_rank * num_players + player\n            text += f'| {scores[index].mean():5.2f} '\n        text += '|\\n'\n    text += '\\n'\n    print(text)\n\nfor num_players in [1, 2, 3, 4, 5, 6]:\n    snake_draft(num_players)",
      "metadata": {
        "trusted": true
      },
      "execution_count": 1,
      "outputs": [
        {
          "name": "stdout",
          "text": "| Player |    1st|    2nd|    3rd|    4th|    5th|    6th|\n|-------:|------:|------:|------:|------:|------:|------:|\n|      1 | 15.66 | 14.17 | 12.96 | 11.76 | 10.41 |  8.50 |\n\n\n| Player |    1st|    2nd|    3rd|    4th|    5th|    6th|\n|-------:|------:|------:|------:|------:|------:|------:|\n|      1 | 16.45 | 13.93 | 13.30 | 11.44 | 10.74 |  7.41 |\n|      2 | 15.40 | 14.61 | 12.69 | 12.08 |  9.94 |  8.94 |\n\n\n| Player |    1st|    2nd|    3rd|    4th|    5th|    6th|\n|-------:|------:|------:|------:|------:|------:|------:|\n|      1 | 16.82 | 13.84 | 13.42 | 11.32 | 10.85 |  6.85 |\n|      2 | 15.95 | 14.29 | 13.01 | 11.76 | 10.34 |  8.22 |\n|      3 | 15.31 | 14.77 | 12.60 | 12.18 |  9.77 |  9.09 |\n\n\n| Player |    1st|    2nd|    3rd|    4th|    5th|    6th|\n|-------:|------:|------:|------:|------:|------:|------:|\n|      1 | 17.05 | 13.80 | 13.48 | 11.26 | 10.91 |  6.48 |\n|      2 | 16.29 | 14.13 | 13.17 | 11.60 | 10.53 |  7.75 |\n|      3 | 15.73 | 14.48 | 12.86 | 11.92 | 10.13 |  8.56 |\n|      4 | 15.26 | 14.85 | 12.55 | 12.24 |  9.68 |  9.17 |\n\n\n| Player |    1st|    2nd|    3rd|    4th|    5th|    6th|\n|-------:|------:|------:|------:|------:|------:|------:|\n|      1 | 17.20 | 13.77 | 13.52 | 11.23 | 10.94 |  6.21 |\n|      2 | 16.52 | 14.04 | 13.26 | 11.50 | 10.65 |  7.41 |\n|      3 | 16.01 | 14.31 | 13.02 | 11.76 | 10.33 |  8.17 |\n|      4 | 15.59 | 14.60 | 12.77 | 12.02 |  9.99 |  8.74 |\n|      5 | 15.23 | 14.90 | 12.52 | 12.27 |  9.63 |  9.21 |\n\n\n| Player |    1st|    2nd|    3rd|    4th|    5th|    6th|\n|-------:|------:|------:|------:|------:|------:|------:|\n|      1 | 17.32 | 13.76 | 13.54 | 11.20 | 10.97 |  6.00 |\n|      2 | 16.70 | 13.97 | 13.33 | 11.43 | 10.72 |  7.15 |\n|      3 | 16.23 | 14.20 | 13.12 | 11.65 | 10.46 |  7.87 |\n|      4 | 15.84 | 14.43 | 12.92 | 11.87 | 10.19 |  8.41 |\n|      5 | 15.51 | 14.68 | 12.71 | 12.08 |  9.90 |  8.86 |\n|      6 | 15.21 | 14.93 | 12.50 | 12.29 |  9.59 |  9.24 |\n\n\n",
          "output_type": "stream"
        }
      ]
    },
    {
      "cell_type": "code",
      "source": "",
      "metadata": {},
      "execution_count": null,
      "outputs": []
    }
  ]
}