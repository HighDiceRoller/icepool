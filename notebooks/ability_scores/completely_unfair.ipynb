{
  "metadata": {
    "language_info": {
      "codemirror_mode": {
        "name": "python",
        "version": 3
      },
      "file_extension": ".py",
      "mimetype": "text/x-python",
      "name": "python",
      "nbconvert_exporter": "python",
      "pygments_lexer": "ipython3",
      "version": "3.8"
    },
    "kernelspec": {
      "name": "python",
      "display_name": "Pyolite",
      "language": "python"
    }
  },
  "nbformat_minor": 4,
  "nbformat": 4,
  "cells": [
    {
      "cell_type": "markdown",
      "source": "## Probability for completely unfair stats when rolling ability scores using 4d6 drop lowest for D&D\n\n[StackExchange question.](https://stats.stackexchange.com/questions/110671/probability-for-completely-unfair-stats-when-rolling-ability-scores-using-4d6-dr)\n\n> What's the probability that, given 5 players, one player will have a highest ability score equal or lower than the lowest ability score of another player?\n\n### Step 1: 4d6 keep highest 3\n\nThe problem of keeping the highest can be computed through a variety of methods ([example](https://stats.stackexchange.com/questions/130025/formula-for-dropping-dice-non-brute-force/242839)), but enumerating all $6^4 = 1296$ possibilities is trivial for a computer as well. However you prefer to do it, this should be the first step.",
      "metadata": {}
    },
    {
      "cell_type": "code",
      "source": "import piplite\nawait piplite.install(\"hdroller\")\n\nimport hdroller\n\none_ability = hdroller.d6.keep_highest(4, 3)",
      "metadata": {
        "trusted": true
      },
      "execution_count": 1,
      "outputs": []
    },
    {
      "cell_type": "markdown",
      "source": "### Step 2: Lowest and highest ability scores for a single player\n\nWith the distribution of 4d6kh3 in hand, we then proceed to find the joint distribution of the lowest and highest ability scores for a single player.\nWe can do this iteratively: given the distribution after the first $n$ scores, we can take the joint distribution with one additional (independent) score\nand use this to compute the distribution for $n+1$ scores.",
      "metadata": {}
    },
    {
      "cell_type": "code",
      "source": "def append_score(current, score):\n    # As we see each score, we track the lowest and highest seen so far.\n    lo, hi = current\n    return min(lo, score), max(hi, score)\n\n# Base case: lo = 18 and hi = 3 which will be overwritten in the first iteration.\none_player = hdroller.Die((18, 3))\n\n# Iteratively compute the result.\nnum_scores = 6\nfor i in range(num_scores):\n    # apply() takes care of iterating over outcomes and tracking the weights.\n    one_player = hdroller.apply(append_score, one_player, one_ability)",
      "metadata": {
        "trusted": true
      },
      "execution_count": 2,
      "outputs": []
    },
    {
      "cell_type": "markdown",
      "source": "### Step 3: Highest low score and lowest high score\n\nWe can repeat a similar strategy to find the highest of all low scores and the lowest of all high scores.",
      "metadata": {}
    },
    {
      "cell_type": "code",
      "source": "def append_player(a, b):\n    # This time, we track the highest of low scores and lowest of high scores.\n    return max(a[0], b[0]), min(a[1], b[1])\n\n# Base case: hi_of_lo = 3 and lo_of_hi = 18 which will be overwritten in the first iteration.\nresult = hdroller.Die((3, 18))\n\n# Iteratively compute the result.\nnum_players = 5\nfor i in range(num_players):\n    result = hdroller.apply(append_player, result, one_player)\n\nprint(result.sub(lambda hi_of_lo, lo_of_hi: hi_of_lo < lo_of_hi))\n\nprint(result.sub(lambda hi_of_lo, lo_of_hi: hi_of_lo <= lo_of_hi))",
      "metadata": {
        "trusted": true
      },
      "execution_count": 3,
      "outputs": [
        {
          "name": "stdout",
          "text": "Denominator: 2388636399360109977557402041718133080829429159844757507642063199359529632522467783435119230976\n| Outcome |                                                                                         Weight | Probability |\n|--------:|-----------------------------------------------------------------------------------------------:|------------:|\n|   False |   92942254017771778302442910899460381690269648591775397887668652159287864092157419786173506912 |   3.891017% |\n|    True | 2295694145342338199254959130818672699139159511252982109754394547200241768430310363648945724064 |  96.108983% |\n\nDenominator: 2388636399360109977557402041718133080829429159844757507642063199359529632522467783435119230976\n| Outcome |                                                                                         Weight | Probability |\n|--------:|-----------------------------------------------------------------------------------------------:|------------:|\n|   False |   23243356132086937036436804148193127041539978673576580168851539232987343495775877086580076790 |   0.973081% |\n|    True | 2365393043228023040520965237569939953787889181171180927473211660126542289026691906348539154186 |  99.026919% |\n\n",
          "output_type": "stream"
        }
      ]
    }
  ]
}