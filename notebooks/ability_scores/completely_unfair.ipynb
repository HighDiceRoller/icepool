{
  "metadata": {
    "language_info": {
      "codemirror_mode": {
        "name": "python",
        "version": 3
      },
      "file_extension": ".py",
      "mimetype": "text/x-python",
      "name": "python",
      "nbconvert_exporter": "python",
      "pygments_lexer": "ipython3",
      "version": "3.8"
    },
    "kernelspec": {
      "name": "python",
      "display_name": "Python (Pyodide)",
      "language": "python"
    }
  },
  "nbformat_minor": 4,
  "nbformat": 4,
  "cells": [
    {
      "cell_type": "markdown",
      "source": "## Probability for completely unfair stats when rolling ability scores using 4d6 drop lowest for D&D\n\n[StackExchange question.](https://stats.stackexchange.com/questions/110671/probability-for-completely-unfair-stats-when-rolling-ability-scores-using-4d6-dr)\n\n> What's the probability that, given 5 players, one player will have a highest ability score equal or lower than the lowest ability score of another player?\n\n### Step 1: 4d6 keep highest 3\n\nThe problem of keeping the highest can be computed through a variety of methods ([example](https://stats.stackexchange.com/questions/130025/formula-for-dropping-dice-non-brute-force/242839)), but even simply enumerating all $6^4 = 1296$ possibilities is trivial for a computer as well. However you prefer to do it, this should be the first step.",
      "metadata": {}
    },
    {
      "cell_type": "code",
      "source": "import piplite\nawait piplite.install(\"icepool\")\n\nimport icepool\n\none_ability = icepool.d6.keep_highest(4, 3)",
      "metadata": {
        "trusted": true
      },
      "execution_count": 1,
      "outputs": []
    },
    {
      "cell_type": "markdown",
      "source": "### Step 2: Lowest and highest ability scores for a single player\n\nWith the distribution of 4d6kh3 in hand, we then proceed to find the joint distribution of the lowest and highest ability scores for a single player.\nWe can do this inductively: given the distribution after the first $n$ scores, we can take the joint distribution with one additional (independent) score\nand use this to compute the distribution for $n+1$ scores.",
      "metadata": {}
    },
    {
      "cell_type": "code",
      "source": "def append_score(current, score):\n    # As we see each score, we track the lowest and highest seen so far.\n    lo, hi = current\n    return min(lo, score), max(hi, score)\n\n# Base case: lo = 18 and hi = 3 which will be overwritten in the first iteration.\ninitial = icepool.Die([(18, 3)])\n\n# Iteratively compute the result.\nnum_scores = 6\none_player = initial\nfor i in range(num_scores):\n    # apply() takes care of iterating over outcomes and tracking the weights.\n    one_player = icepool.apply(append_score, one_player, one_ability)\n    \n# Equivalent one-liner. reduce() is analogous to the functools version.\none_player = icepool.reduce(append_score, [one_ability] * num_scores, initial=initial)",
      "metadata": {
        "trusted": true
      },
      "execution_count": 2,
      "outputs": []
    },
    {
      "cell_type": "markdown",
      "source": "### Step 3: Highest low score and lowest high score\n\nWe can repeat a similar strategy to find the highest of all low scores and the lowest of all high scores.",
      "metadata": {}
    },
    {
      "cell_type": "code",
      "source": "def append_player(a, b):\n    # This time, we track the highest of low scores and lowest of high scores.\n    return max(a[0], b[0]), min(a[1], b[1])\n\n# Base case: hi_of_lo = 3 and lo_of_hi = 18 which will be overwritten\n# in the first iteration.\ninitial = icepool.Die([(3, 18)])\n\n# Iteratively compute the result.\nnum_players = 5\nresult = initial\nfor i in range(num_players):\n    result = icepool.apply(append_player, result, one_player)\n    \n# Equivalent one-liner. reduce() is analogous to the functools version.\nresult = icepool.reduce(append_player, [one_player] * num_players, initial=initial)\n\nprint(result.sub(lambda x: x[0] >= x[1]))\n\nprint(result.sub(lambda x: x[0] > x[1]))",
      "metadata": {
        "trusted": true
      },
      "execution_count": 3,
      "outputs": [
        {
          "name": "stdout",
          "text": "Die with denominator 2388636399360109977557402041718133080829429159844757507642063199359529632522467783435119230976\n\n| Outcome | Probability |\n|:--------|------------:|\n| False   |  96.108983% |\n| True    |   3.891017% |\n\n\nDie with denominator 2388636399360109977557402041718133080829429159844757507642063199359529632522467783435119230976\n\n| Outcome | Probability |\n|:--------|------------:|\n| False   |  99.026919% |\n| True    |   0.973081% |\n\n\n",
          "output_type": "stream"
        }
      ]
    },
    {
      "cell_type": "code",
      "source": "",
      "metadata": {},
      "execution_count": null,
      "outputs": []
    }
  ]
}