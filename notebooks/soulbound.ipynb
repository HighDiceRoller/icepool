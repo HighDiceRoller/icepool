{
  "metadata": {
    "kernelspec": {
      "name": "python",
      "display_name": "Python (Pyodide)",
      "language": "python"
    },
    "language_info": {
      "codemirror_mode": {
        "name": "python",
        "version": 3
      },
      "file_extension": ".py",
      "mimetype": "text/x-python",
      "name": "python",
      "nbconvert_exporter": "python",
      "pygments_lexer": "ipython3",
      "version": "3.8"
    }
  },
  "nbformat_minor": 4,
  "nbformat": 4,
  "cells": [
    {
      "cell_type": "markdown",
      "source": "## Soulbound\n\n[Official rules.](https://cubicle7games.com/blog/soulbound-how-tests-work)\n\n[StackExchange question.](https://math.stackexchange.com/questions/4403443/probability-of-rolling-n-dice-that-are-each-are-greater-than-or-equal-to-x-w)\n\n[Reddit question.](https://www.reddit.com/r/RPGdesign/comments/zkduz7/understanding_the_probability_of_rolling_a_number/)\n\n* Roll a pool of d6.\n* Each die >= the DN is a success.\n* Focus points can be used to increase the value of a die by 1 each.\n\nWhich dice should be upgraded? Since each focus point can be distributed independently,\nyou can't go wrong by upgrading the dice that are the closest to the threshold first.\nTherefore, we can consider the dice in descending order and upgrade dice greedily.",
      "metadata": {}
    },
    {
      "cell_type": "code",
      "source": "%pip install icepool\n\nfrom icepool import d6, MultisetEvaluator, Order, UnsupportedOrder\n\nclass SoulboundEvaluator(MultisetEvaluator):\n    def __init__(self, dn, focus):\n        self._dn = dn\n        self._focus = focus\n\n    def initial_state(self, order, outcomes, size):\n        if order > 0:\n            raise UnsupportedOrder()\n        return 0, 0\n    \n    def next_state(self, state, order, outcome, count):\n        success, focus = state\n        \n        if outcome >= self._dn:\n            success += count\n        else:\n            # Upgrade as many dice as possible to successes.\n            focus_per_die = self._dn - outcome\n            focus_dice = min(focus // focus_per_die, count)\n            success += focus_dice\n            focus -= focus_per_die * focus_dice\n        return success, focus\n    \n    def final_outcome(self, final_state, order, outcomes, *sizes):\n        # Return just the number of successes.\n        success, focus = final_state\n        return success\n\nresult = SoulboundEvaluator(dn=5, focus=3).evaluate(d6.pool(10))\nprint(result)\nprint('Chance of at least 4 successes:')\nprint(result >= 4)",
      "metadata": {
        "trusted": true
      },
      "outputs": [
        {
          "name": "stdout",
          "output_type": "stream",
          "text": "Die with denominator 60466176\n\n| Outcome | Quantity | Probability |\n|--------:|---------:|------------:|\n|       0 |  1048576 |   1.734153% |\n|       1 |  5242880 |   8.670765% |\n|       2 | 11796480 |  19.509221% |\n|       3 | 15728640 |  26.012295% |\n|       4 | 13762560 |  22.760758% |\n|       5 |  8257536 |  13.656455% |\n|       6 |  3440640 |   5.690190% |\n|       7 |   983040 |   1.625768% |\n|       8 |   184320 |   0.304832% |\n|       9 |    20480 |   0.033870% |\n|      10 |     1024 |   0.001694% |\n\n\nChance of at least 4 successes:\nDie with denominator 60466176\n\n| Outcome | Quantity | Probability |\n|:--------|---------:|------------:|\n| False   | 33816576 |  55.926434% |\n| True    | 26649600 |  44.073566% |\n\n\n"
        }
      ],
      "execution_count": 1
    },
    {
      "cell_type": "code",
      "source": "",
      "metadata": {
        "trusted": true
      },
      "outputs": [],
      "execution_count": null
    }
  ]
}