{
  "metadata": {
    "language_info": {
      "codemirror_mode": {
        "name": "python",
        "version": 3
      },
      "file_extension": ".py",
      "mimetype": "text/x-python",
      "name": "python",
      "nbconvert_exporter": "python",
      "pygments_lexer": "ipython3",
      "version": "3.8"
    },
    "kernelspec": {
      "name": "python",
      "display_name": "Python (Pyodide)",
      "language": "python"
    }
  },
  "nbformat_minor": 4,
  "nbformat": 4,
  "cells": [
    {
      "cell_type": "markdown",
      "source": "## Soulbound\n\n[Official rules.](https://cubicle7games.com/blog/soulbound-how-tests-work)\n\n[StackExchange question.](https://math.stackexchange.com/questions/4403443/probability-of-rolling-n-dice-that-are-each-are-greater-than-or-equal-to-x-w)\n\n[Reddit question.](https://www.reddit.com/r/RPGdesign/comments/zkduz7/understanding_the_probability_of_rolling_a_number/)\n\n* Roll a pool of d6.\n* Each die >= the DN is a success.\n* Focus points can be used to increase the value of a die by 1 each.\n\nWhich dice should be upgraded? Since each focus point can be distributed independently,\nyou can't go wrong by upgrading the dice that are the closest to the threshold first.\nTherefore, we can consider the dice in descending order and upgrade dice greedily.",
      "metadata": {}
    },
    {
      "cell_type": "code",
      "source": "%pip install icepool\n\nfrom icepool import d6, MultisetEvaluator, Order\n\nclass SoulboundEvaluator(MultisetEvaluator):\n    def __init__(self, dn, focus):\n        self._dn = dn\n        self._focus = focus\n    \n    def next_state(self, state, outcome, count):\n        if state is None:\n            success, focus = 0, self._focus\n        else:\n            success, focus = state\n        \n        if outcome >= self._dn:\n            success += count\n        else:\n            # Upgrade as many dice as possible to successes.\n            focus_per_die = self._dn - outcome\n            focus_dice = min(focus // focus_per_die, count)\n            success += focus_dice\n            focus -= focus_per_die * focus_dice\n        return success, focus\n    \n    def final_outcome(self, final_state):\n        # Return just the number of successes.\n        success, focus = final_state\n        return success\n        \n    def order(self, *_):\n        # See outcomes in descending order.\n        return Order.Descending\n\nresult = SoulboundEvaluator(dn=5, focus=3).evaluate(d6.pool(10))\nprint(result)\nprint('Chance of at least 4 successes:')\nprint(result >= 4)",
      "metadata": {
        "trusted": true
      },
      "execution_count": 1,
      "outputs": [
        {
          "name": "stdout",
          "text": "Die with denominator 60466176\n\n| Outcome | Quantity | Probability |\n|--------:|---------:|------------:|\n|       0 |        1 |   0.000002% |\n|       1 |    64188 |   0.106155% |\n|       2 |   926855 |   1.532849% |\n|       3 |  4573072 |   7.563025% |\n|       4 | 11264720 |  18.629787% |\n|       5 | 16259004 |  26.889420% |\n|       6 | 14777568 |  24.439396% |\n|       7 |  8650560 |  14.306445% |\n|       8 |  3197184 |   5.287558% |\n|       9 |   686720 |   1.135709% |\n|      10 |    66304 |   0.109655% |\n\n\nChance of at least 4 successes:\nDie with denominator 60466176\n\n| Outcome | Quantity | Probability |\n|:--------|---------:|------------:|\n| False   |  5564116 |   9.202031% |\n| True    | 54902060 |  90.797969% |\n\n\n",
          "output_type": "stream"
        }
      ]
    },
    {
      "cell_type": "code",
      "source": "",
      "metadata": {},
      "execution_count": null,
      "outputs": []
    }
  ]
}