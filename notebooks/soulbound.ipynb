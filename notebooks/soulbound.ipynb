{
  "metadata": {
    "language_info": {
      "codemirror_mode": {
        "name": "python",
        "version": 3
      },
      "file_extension": ".py",
      "mimetype": "text/x-python",
      "name": "python",
      "nbconvert_exporter": "python",
      "pygments_lexer": "ipython3",
      "version": "3.8"
    },
    "kernelspec": {
      "name": "python",
      "display_name": "Python (Pyodide)",
      "language": "python"
    }
  },
  "nbformat_minor": 4,
  "nbformat": 4,
  "cells": [
    {
      "cell_type": "markdown",
      "source": "## Soulbound\n\n[Official rules.](https://cubicle7games.com/blog/soulbound-how-tests-work)\n\n[StackExchange question.](https://math.stackexchange.com/questions/4403443/probability-of-rolling-n-dice-that-are-each-are-greater-than-or-equal-to-x-w)\n\n[Reddit question.](https://www.reddit.com/r/RPGdesign/comments/zkduz7/understanding_the_probability_of_rolling_a_number/)\n\n* Roll a pool of d6.\n* Each die >= the DN is a success.\n* Focus points can be used to increase the value of a die 1:1.",
      "metadata": {}
    },
    {
      "cell_type": "code",
      "source": "import piplite\nawait piplite.install(\"icepool\")\n\nfrom icepool import d6, OutcomeCountEvaluator, Order\n\nclass SoulboundEvaluator(OutcomeCountEvaluator):\n    def __init__(self, dn, focus):\n        self._dn = dn\n        self._focus = focus\n    \n    def next_state(self, state, outcome, count):\n        if state is None:\n            success, focus = 0, self._focus\n        else:\n            success, focus = state\n        \n        if outcome >= self._dn:\n            success += count\n        else:\n            # Upgrade as many dice as possible to successes.\n            focus_per_die = self._dn - outcome\n            focus_dice = min(focus // focus_per_die, count)\n            success += focus_dice\n            focus -= focus_per_die * focus_dice\n        return success, focus\n    \n    def final_outcome(self, final_state, *_):\n        # Return just the number of successes.\n        success, focus = final_state\n        return success\n        \n    def order(self, *_):\n        # See outcomes in descending order.\n        return Order.Descending\n    \nprint(SoulboundEvaluator(dn=4, focus=3).evaluate(d6.pool(3)))",
      "metadata": {
        "trusted": true
      },
      "execution_count": 1,
      "outputs": [
        {
          "name": "stdout",
          "text": "Die with denominator 216\n\n| Outcome | Quantity | Probability |\n|--------:|---------:|------------:|\n|       1 |       11 |   5.092593% |\n|       2 |       69 |  31.944444% |\n|       3 |      136 |  62.962963% |\n\n\n",
          "output_type": "stream"
        }
      ]
    },
    {
      "cell_type": "code",
      "source": "",
      "metadata": {},
      "execution_count": null,
      "outputs": []
    }
  ]
}