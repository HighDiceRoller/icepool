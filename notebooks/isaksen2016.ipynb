{
  "metadata": {
    "language_info": {
      "codemirror_mode": {
        "name": "python",
        "version": 3
      },
      "file_extension": ".py",
      "mimetype": "text/x-python",
      "name": "python",
      "nbconvert_exporter": "python",
      "pygments_lexer": "ipython3",
      "version": "3.8"
    },
    "kernelspec": {
      "name": "python",
      "display_name": "Pyolite",
      "language": "python"
    }
  },
  "nbformat_minor": 4,
  "nbformat": 4,
  "cells": [
    {
      "cell_type": "markdown",
      "source": "## Characterising Score Distributions in Dice Games\n\nIsaksen, Aaron, et al. \"Characterising score distributions in dice games.\" Game and Puzzle Design 2.1 (2016): 14.\n\n[PDF from Julian Togelius's website.](http://julian.togelius.com/Isaksen2016Characterising.pdf)\n\nWe reproduce all tables presented in this paper.\nProbably the most interesting calculation is 8.1 Rolling Sorted, Rerolling Tied Dice.",
      "metadata": {}
    },
    {
      "cell_type": "code",
      "source": "import piplite\nawait piplite.install(\"icepool\")\n\nimport icepool\nfrom math import sqrt\n\nimport time\n\nstart_ns = time.perf_counter_ns()",
      "metadata": {
        "trusted": true
      },
      "execution_count": 1,
      "outputs": []
    },
    {
      "cell_type": "code",
      "source": "# 2. Metrics for Dice Games\n\ndef win_bias(die):\n    return 100.0 * ((die > 0).mean() - (die < 0).mean())\n\ndef tie_percentage(die):\n    return 100.0 * (die == 0).mean()\n\ndef closeness(die):\n    return 1.0 / sqrt(die.sub(lambda x: x * x).mean())\n\ndef print_header():\n    print('|     Game     | win bias | tie % | closeness |')\n    print('|:------------:|---------:|------:|----------:|')\n\ndef print_row(game, die):\n    print(f'| {game:12} |   {win_bias(die):6.2f} | {tie_percentage(die):5.2f} |     {closeness(die):5.3f} |')",
      "metadata": {
        "trusted": true
      },
      "execution_count": 2,
      "outputs": []
    },
    {
      "cell_type": "code",
      "source": "# 3.1 Sorting Dice, With Ties\n\nclass SortingDiceWithTies(icepool.OutcomeCountEvaluator):\n    def next_state(self, state, outcome, a, b):\n        net_score, advantage = state or (0, 0)\n        # Advantage is the number of unpaired dice that rolled a previous (higher) number.\n        # If positive, it favors side A, otherwise it favors side B.\n        # We pair them off with newly-rolled dice of the disadvantaged side.\n        if advantage > 0:\n            net_score += min(b, advantage)\n        elif advantage < 0:\n            net_score -= min(a, -advantage)\n        advantage += a - b\n        return net_score, advantage\n    \n    def final_outcome(self, final_state, *_):\n        # Take only the score.\n        return final_state[0]\n    \n    def direction(self, *_):\n        # See outcomes in descending order.\n        return -1\n\nsorting_dice_with_ties = SortingDiceWithTies()\n\nprint_header()\nfor die_size in [2, 4, 6, 8, 10]:\n    pool = icepool.d(die_size).pool(5)\n    result = sorting_dice_with_ties.evaluate(pool, pool)\n    print_row(f'5d{die_size}', result)",
      "metadata": {
        "trusted": true
      },
      "execution_count": 3,
      "outputs": [
        {
          "name": "stdout",
          "text": "|     Game     | win bias | tie % | closeness |\n|:------------:|---------:|------:|----------:|\n| 5d2          |     0.00 | 24.61 |     0.632 |\n| 5d4          |     0.00 | 11.97 |     0.384 |\n| 5d6          |     0.00 |  9.91 |     0.340 |\n| 5d8          |     0.00 |  9.15 |     0.323 |\n| 5d10         |     0.00 |  8.64 |     0.315 |\n",
          "output_type": "stream"
        }
      ]
    },
    {
      "cell_type": "code",
      "source": "print_header()\nfor num_dice in [1, 2, 3, 4, 5]:\n    pool = icepool.d(6).pool(num_dice)\n    result = sorting_dice_with_ties.evaluate(pool, pool)\n    print_row(f'{num_dice}d6', result)",
      "metadata": {
        "trusted": true
      },
      "execution_count": 4,
      "outputs": [
        {
          "name": "stdout",
          "text": "|     Game     | win bias | tie % | closeness |\n|:------------:|---------:|------:|----------:|\n| 1d6          |     0.00 | 16.67 |     1.095 |\n| 2d6          |     0.00 | 20.52 |     0.680 |\n| 3d6          |     0.00 | 13.91 |     0.504 |\n| 4d6          |     0.00 | 11.71 |     0.404 |\n| 5d6          |     0.00 |  9.91 |     0.340 |\n",
          "output_type": "stream"
        }
      ]
    },
    {
      "cell_type": "code",
      "source": "# 3.2 Dice Unsorted, With Ties\n\nprint_header()\nfor die_size in [2, 4, 6, 8, 10]:\n    die = icepool.d(die_size)\n    single = (die - die).sign()\n    result = 5 @ single\n    print_row(f'5d{die_size}', result)",
      "metadata": {
        "trusted": true
      },
      "execution_count": 5,
      "outputs": [
        {
          "name": "stdout",
          "text": "|     Game     | win bias | tie % | closeness |\n|:------------:|---------:|------:|----------:|\n| 5d2          |     0.00 | 24.61 |     0.632 |\n| 5d4          |     0.00 | 19.32 |     0.516 |\n| 5d6          |     0.00 | 16.69 |     0.490 |\n| 5d8          |     0.00 | 14.49 |     0.478 |\n| 5d10         |     0.00 | 12.71 |     0.471 |\n",
          "output_type": "stream"
        }
      ]
    },
    {
      "cell_type": "code",
      "source": "print_header()\nfor num_dice in [1, 2, 3, 4, 5]:\n    single = (icepool.d6 - icepool.d6).sign()\n    result = num_dice @ single\n    print_row(f'{num_dice}d6', result)",
      "metadata": {
        "trusted": true
      },
      "execution_count": 6,
      "outputs": [
        {
          "name": "stdout",
          "text": "|     Game     | win bias | tie % | closeness |\n|:------------:|---------:|------:|----------:|\n| 1d6          |     0.00 | 16.67 |     1.095 |\n| 2d6          |     0.00 | 37.50 |     0.775 |\n| 3d6          |     0.00 | 17.82 |     0.632 |\n| 4d6          |     0.00 | 23.95 |     0.548 |\n| 5d6          |     0.00 | 16.69 |     0.490 |\n",
          "output_type": "stream"
        }
      ]
    },
    {
      "cell_type": "code",
      "source": "# 5.1 Rolling Sorted, Player A Wins Ties\n\nclass SortingDiceAWinsTies(icepool.OutcomeCountEvaluator):\n    def next_state(self, state, outcome, a, b):\n        net_score, advantage = state or (0, 0)\n        # Advantage is the number of unpaired dice that rolled a previous (higher) number.\n        # If positive, it favors side A, otherwise it favors side B.\n        if advantage < 0:\n            net_score -= min(a, -advantage)\n        if advantage + a > 0:\n            net_score += min(b, advantage + a)\n        advantage += a - b\n        return net_score, advantage\n    \n    def final_outcome(self, final_state, *_):\n        # Take only the score.\n        return final_state[0]\n    \n    def direction(self, *_):\n        # See outcomes in descending order.\n        return -1\n    \nsorting_dice_a_wins_ties = SortingDiceAWinsTies()\n\nprint_header()\nfor die_size in [2, 4, 6, 8, 10]:\n    pool = icepool.d(die_size).pool(5)\n    result = sorting_dice_a_wins_ties.evaluate(pool, pool)\n    print_row(f'5d{die_size}', result)",
      "metadata": {
        "trusted": true
      },
      "execution_count": 7,
      "outputs": [
        {
          "name": "stdout",
          "text": "|     Game     | win bias | tie % | closeness |\n|:------------:|---------:|------:|----------:|\n| 5d2          |    89.06 |  0.00 |     0.238 |\n| 5d4          |    54.79 |  0.00 |     0.271 |\n| 5d6          |    38.21 |  0.00 |     0.282 |\n| 5d8          |    29.13 |  0.00 |     0.287 |\n| 5d10         |    23.48 |  0.00 |     0.289 |\n",
          "output_type": "stream"
        }
      ]
    },
    {
      "cell_type": "code",
      "source": "# 5.2 Rolling Unsorted, A Wins Ties\n\nprint_header()\nfor die_size in [2, 4, 6, 8, 10]:\n    die = icepool.d(die_size)\n    single = ((die - die) >= 0).sub({False : -1})\n    result = 5 @ single\n    print_row(f'5d{die_size}', result)",
      "metadata": {
        "trusted": true
      },
      "execution_count": 8,
      "outputs": [
        {
          "name": "stdout",
          "text": "|     Game     | win bias | tie % | closeness |\n|:------------:|---------:|------:|----------:|\n| 5d2          |    79.30 |  0.00 |     0.316 |\n| 5d4          |    44.96 |  0.00 |     0.400 |\n| 5d6          |    30.68 |  0.00 |     0.424 |\n| 5d8          |    23.19 |  0.00 |     0.434 |\n| 5d10         |    18.63 |  0.00 |     0.439 |\n",
          "output_type": "stream"
        }
      ]
    },
    {
      "cell_type": "code",
      "source": "# 6 Reducing Bias With Fewer Dice\n\nprint_header()\nfor num_dice in [2, 3, 4, 5]:\n    pool_a = icepool.d(6).pool(num_dice)\n    pool_b = icepool.d(6).pool(5)\n    result = sorting_dice_a_wins_ties.evaluate(pool_a, pool_b)\n    print_row(f'{num_dice}d6 v 5d6', result)",
      "metadata": {
        "trusted": true
      },
      "execution_count": 9,
      "outputs": [
        {
          "name": "stdout",
          "text": "|     Game     | win bias | tie % | closeness |\n|:------------:|---------:|------:|----------:|\n| 2d6 v 5d6    |   -35.61 | 32.37 |     0.608 |\n| 3d6 v 5d6    |   -23.63 |  0.00 |     0.451 |\n| 4d6 v 5d6    |     3.23 | 20.40 |     0.357 |\n| 5d6 v 5d6    |    38.21 |  0.00 |     0.282 |\n",
          "output_type": "stream"
        }
      ]
    },
    {
      "cell_type": "code",
      "source": "print_header()\nfor num_dice in [1, 2, 3, 4]:\n    pool_a = icepool.d(6).pool(num_dice)\n    pool_b = icepool.d(6).pool(num_dice+1)\n    result = sorting_dice_a_wins_ties.evaluate(pool_a, pool_b)\n    print_row(f'{num_dice}d6 v {num_dice+1}d6', result)",
      "metadata": {
        "trusted": true
      },
      "execution_count": 10,
      "outputs": [
        {
          "name": "stdout",
          "text": "|     Game     | win bias | tie % | closeness |\n|:------------:|---------:|------:|----------:|\n| 1d6 v 2d6    |   -15.74 |  0.00 |     1.000 |\n| 2d6 v 3d6    |    -7.91 | 33.58 |     0.613 |\n| 3d6 v 4d6    |    -2.80 |  0.00 |     0.450 |\n| 4d6 v 5d6    |     3.23 | 20.40 |     0.357 |\n",
          "output_type": "stream"
        }
      ]
    },
    {
      "cell_type": "code",
      "source": "# 7.1 Mixed Dice Sorted, A Wins Ties\n\nprint_header()\nfor num_d8 in range(6):\n    pool_a = icepool.d6.pool(5)\n    num_d6 = (5 - num_d8)\n    die_sizes = (8,) * num_d8 + (6,) * num_d6\n    pool_b = icepool.standard_pool(die_sizes)\n    result = sorting_dice_a_wins_ties.evaluate(pool_a, pool_b)\n    print_row(f'{num_d6}d6/{num_d8}d8', result)",
      "metadata": {
        "trusted": true
      },
      "execution_count": 11,
      "outputs": [
        {
          "name": "stdout",
          "text": "|     Game     | win bias | tie % | closeness |\n|:------------:|---------:|------:|----------:|\n| 5d6/0d8      |    38.21 |  0.00 |     0.282 |\n| 4d6/1d8      |    24.36 |  0.00 |     0.294 |\n| 3d6/2d8      |    10.80 |  0.00 |     0.302 |\n| 2d6/3d8      |    -2.24 |  0.00 |     0.305 |\n| 1d6/4d8      |   -14.56 |  0.00 |     0.305 |\n| 0d6/5d8      |   -25.98 |  0.00 |     0.301 |\n",
          "output_type": "stream"
        }
      ]
    },
    {
      "cell_type": "code",
      "source": "print_header()\npool_a = icepool.d6.pool(5)\n\npool_b = icepool.standard_pool([6, 6, 6, 8, 10])\nresult = sorting_dice_a_wins_ties.evaluate(pool_a, pool_b)\nprint_row(f'3d6/1d8/1d10', result)\n\npool_b = icepool.standard_pool([6, 6, 8, 8, 8])\nresult = sorting_dice_a_wins_ties.evaluate(pool_a, pool_b)\nprint_row(f'2d6/3d8', result)\n\npool_b = icepool.standard_pool([6, 6, 6, 10, 10])\nresult = sorting_dice_a_wins_ties.evaluate(pool_a, pool_b)\nprint_row(f'3d6/2d10', result)",
      "metadata": {
        "trusted": true
      },
      "execution_count": 12,
      "outputs": [
        {
          "name": "stdout",
          "text": "|     Game     | win bias | tie % | closeness |\n|:------------:|---------:|------:|----------:|\n| 3d6/1d8/1d10 |     2.67 |  0.00 |     0.307 |\n| 2d6/3d8      |    -2.24 |  0.00 |     0.305 |\n| 3d6/2d10     |    -5.36 |  0.00 |     0.310 |\n",
          "output_type": "stream"
        }
      ]
    },
    {
      "cell_type": "code",
      "source": "# 7.2 Mixed Dice Unsorted, A Wins Ties\n\nd6_vs_d6 = ((icepool.d6 - icepool.d6) >= 0).sub({False: -1})\nd6_vs_d8 = ((icepool.d6 - icepool.d8) >= 0).sub({False: -1})\nd6_vs_d10 = ((icepool.d6 - icepool.d10) >= 0).sub({False: -1})\n\nprint_header()\nfor num_d8 in range(6):\n    pool_a = icepool.d6.pool(5)\n    num_d6 = (5 - num_d8)\n    result = num_d6 @ d6_vs_d6 + num_d8 @ d6_vs_d8\n    print_row(f'{num_d6}d6/{num_d8}d8', result)",
      "metadata": {
        "trusted": true
      },
      "execution_count": 13,
      "outputs": [
        {
          "name": "stdout",
          "text": "|     Game     | win bias | tie % | closeness |\n|:------------:|---------:|------:|----------:|\n| 5d6/0d8      |    30.68 |  0.00 |     0.424 |\n| 4d6/1d8      |    20.34 |  0.00 |     0.440 |\n| 3d6/2d8      |     9.48 |  0.00 |     0.450 |\n| 2d6/3d8      |    -1.61 |  0.00 |     0.452 |\n| 1d6/4d8      |   -12.60 |  0.00 |     0.446 |\n| 0d6/5d8      |   -23.19 |  0.00 |     0.434 |\n",
          "output_type": "stream"
        }
      ]
    },
    {
      "cell_type": "code",
      "source": "print_header()\nresult = 3 @ d6_vs_d6 + 2 @ d6_vs_d8\nprint_row('3d6/2d8', result)\n\nresult = 3 @ d6_vs_d6 + 1 @ d6_vs_d8 + 1 @ d6_vs_d10\nprint_row('3d6/1d8/1d10', result)\n\nresult = 2 @ d6_vs_d6 + 3 @ d6_vs_d8\nprint_row('2d6/3d8', result)\n\nresult = 3 @ d6_vs_d6 + 2 @ d6_vs_d10\nprint_row('3d6/2d10', result)\n\nresult = 2 @ d6_vs_d6 + 2 @ d6_vs_d8 + 1 @ d6_vs_d10\nprint_row('2d6/2d8/1d10', result)",
      "metadata": {
        "trusted": true
      },
      "execution_count": 14,
      "outputs": [
        {
          "name": "stdout",
          "text": "|     Game     | win bias | tie % | closeness |\n|:------------:|---------:|------:|----------:|\n| 3d6/2d8      |     9.48 |  0.00 |     0.450 |\n| 3d6/1d8/1d10 |     2.97 |  0.00 |     0.456 |\n| 2d6/3d8      |    -1.61 |  0.00 |     0.452 |\n| 3d6/2d10     |    -3.73 |  0.00 |     0.459 |\n| 2d6/2d8/1d10 |    -8.26 |  0.00 |     0.453 |\n",
          "output_type": "stream"
        }
      ]
    },
    {
      "cell_type": "code",
      "source": "# 8.1 Rolling Sorted, Rerolling Tied Dice\n\nclass SortingDiceCountTies(icepool.OutcomeCountEvaluator):\n    def next_state(self, state, outcome, a, b):\n        net_score, ties, advantage = state or (0, 0, 0)\n        # Advantage is the number of unpaired dice that rolled a previous (higher) number.\n        # If positive, it favors side A, otherwise it favors side B.\n        # We pair them off with newly-rolled dice of the disadvantaged side.\n        if advantage > 0:\n            abs_delta = min(b, advantage)\n            net_score += abs_delta\n            ties += min(a, b - abs_delta)\n        elif advantage < 0:\n            abs_delta = min(a, -advantage)\n            net_score -= abs_delta\n            ties += min(b, a - abs_delta)\n        else:\n            ties += min(a, b)\n        advantage += a - b\n        return net_score, ties, advantage\n    \n    def final_outcome(self, final_state, *pools):\n        net_score, ties, advantage = final_state\n        # Reroll if every pair was tied.\n        # This ensures that we make progress towards termination every sub-game.\n        if ties == min(pool.size() for pool in pools):\n            return icepool.Reroll\n        return net_score, ties\n    \n    def direction(self, *_):\n        # See outcomes in descending order.\n        return -1\n\nsorting_dice_count_ties = SortingDiceCountTies()\n\nprint_header()\nfor die_size in [2, 4, 6, 8, 10]:\n    die = icepool.d(die_size)\n    def sub_game(state):\n        net_score, ties = state\n        if ties == 0:\n            return net_score, 0\n        else:\n            pool = die.pool(ties)\n            # Die addition is element-wise on tuples.\n            return sorting_dice_count_ties(pool, pool) + (net_score, 0)\n    initial = (0, 5)  # zero starting score, 5 dice\n    result = icepool.Die([initial]).sub(sub_game, max_depth=5).marginals[0]\n    print_row(f'5d{die_size}', result)",
      "metadata": {
        "trusted": true
      },
      "execution_count": 15,
      "outputs": [
        {
          "name": "stdout",
          "text": "|     Game     | win bias | tie % | closeness |\n|:------------:|---------:|------:|----------:|\n| 5d2          |     0.00 |  0.00 |     0.350 |\n| 5d4          |     0.00 |  0.00 |     0.311 |\n| 5d6          |     0.00 |  0.00 |     0.302 |\n| 5d8          |     0.00 |  0.00 |     0.298 |\n| 5d10         |     0.00 |  0.00 |     0.296 |\n",
          "output_type": "stream"
        }
      ]
    },
    {
      "cell_type": "code",
      "source": "print_header()\nfor num_dice in [1, 2, 3, 4, 5]:\n    def sub_game(state):\n        net_score, ties = state\n        if ties == 0:\n            return net_score, 0\n        else:\n            pool = icepool.d6.pool(ties)\n            # Die addition is element-wise on tuples.\n            return sorting_dice_count_ties(pool, pool) + (net_score, 0)\n    initial = (0, num_dice)\n    result = icepool.Die([initial]).sub(sub_game, max_depth=num_dice).marginals[0]\n    print_row(f'{num_dice}d6', result)\n    if num_dice == 2:\n        two_d6_tie_percentage = tie_percentage(result)\n\n# The paper (which uses Monte Carlo for this table)\n# has a different value for the Tie % in the last decimal place.\n# However, with the paper using 6^10 samples,\n# the rounding threshold is within 1.42 standard deviations of our calculated value.\n# So the difference is plausibly explained by random noise.\nprint(f'2d6 tie percentage: {two_d6_tie_percentage:0.4f}')\nsd = sqrt(two_d6_tie_percentage * (100.0 - two_d6_tie_percentage) / 6**10)\nprint(f'Standard deviation of percentage: {sd:0.4f}')\nerror_sd = (34.155 - two_d6_tie_percentage) / sd\nprint(f'Error in standard deviations: {error_sd:0.4f}')",
      "metadata": {
        "trusted": true
      },
      "execution_count": 16,
      "outputs": [
        {
          "name": "stdout",
          "text": "|     Game     | win bias | tie % | closeness |\n|:------------:|---------:|------:|----------:|\n| 1d6          |     0.00 |  0.00 |     1.000 |\n| 2d6          |     0.00 | 34.15 |     0.616 |\n| 3d6          |     0.00 |  0.00 |     0.453 |\n| 4d6          |     0.00 | 21.00 |     0.361 |\n| 5d6          |     0.00 |  0.00 |     0.302 |\n2d6 tie percentage: 34.1463\nStandard deviation of percentage: 0.0061\nError in standard deviations: 1.4198\n",
          "output_type": "stream"
        }
      ]
    },
    {
      "cell_type": "code",
      "source": "# 8.2 Rolling Unsorted, Rerolling Ties\n\nprint_header()\nfor die_size in [2, 4, 6, 8, 10]:\n    die = icepool.d(die_size)\n    single = (die - die).sign().reroll({0})\n    result = 5 @ single\n    print_row(f'5d{die_size}', result)",
      "metadata": {
        "trusted": true
      },
      "execution_count": 17,
      "outputs": [
        {
          "name": "stdout",
          "text": "|     Game     | win bias | tie % | closeness |\n|:------------:|---------:|------:|----------:|\n| 5d2          |     0.00 |  0.00 |     0.447 |\n| 5d4          |     0.00 |  0.00 |     0.447 |\n| 5d6          |     0.00 |  0.00 |     0.447 |\n| 5d8          |     0.00 |  0.00 |     0.447 |\n| 5d10         |     0.00 |  0.00 |     0.447 |\n",
          "output_type": "stream"
        }
      ]
    },
    {
      "cell_type": "code",
      "source": "single = (icepool.d6 - icepool.d6).sign().reroll({0})\n\nprint_header()\nfor num_dice in [1, 2, 3, 4, 5]:\n    result = num_dice @ single\n    print_row(f'{num_dice}d6', result)",
      "metadata": {
        "trusted": true
      },
      "execution_count": 18,
      "outputs": [
        {
          "name": "stdout",
          "text": "|     Game     | win bias | tie % | closeness |\n|:------------:|---------:|------:|----------:|\n| 1d6          |     0.00 |  0.00 |     1.000 |\n| 2d6          |     0.00 | 50.00 |     0.707 |\n| 3d6          |     0.00 |  0.00 |     0.577 |\n| 4d6          |     0.00 | 37.50 |     0.500 |\n| 5d6          |     0.00 |  0.00 |     0.447 |\n",
          "output_type": "stream"
        }
      ]
    },
    {
      "cell_type": "code",
      "source": "end_ns = time.perf_counter_ns()\nelapsed_s = (end_ns - start_ns) * 1e-9\nprint(f'Elapsed time after loading: {elapsed_s:0.3f} s')",
      "metadata": {
        "trusted": true
      },
      "execution_count": 19,
      "outputs": [
        {
          "name": "stdout",
          "text": "Elapsed time after loading: 1.514 s\n",
          "output_type": "stream"
        }
      ]
    }
  ]
}