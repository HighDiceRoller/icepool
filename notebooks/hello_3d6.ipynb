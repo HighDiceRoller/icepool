{
 "cells": [
  {
   "cell_type": "markdown",
   "metadata": {},
   "source": [
    "## Minimal example"
   ]
  },
  {
   "cell_type": "code",
   "execution_count": 1,
   "metadata": {},
   "outputs": [
    {
     "name": "stdout",
     "output_type": "stream",
     "text": [
      "Collecting hdroller\n",
      "  Downloading hdroller-0.6.1-py3-none-any.whl (31 kB)\n",
      "Installing collected packages: hdroller\n",
      "Successfully installed hdroller-0.6.1\n",
      "python version: 3.9.10 (tags/v3.9.10:f2f3f53, Jan 17 2022, 15:14:21) [MSC v.1929 64 bit (AMD64)]\n",
      "hdroller version: 0.6.1\n",
      "Total weight: 216\n",
      "| Outcome | Weight | Probability |\n",
      "|--------:|-------:|------------:|\n",
      "|       3 |      1 |   0.462963% |\n",
      "|       4 |      3 |   1.388889% |\n",
      "|       5 |      6 |   2.777778% |\n",
      "|       6 |     10 |   4.629630% |\n",
      "|       7 |     15 |   6.944444% |\n",
      "|       8 |     21 |   9.722222% |\n",
      "|       9 |     25 |  11.574074% |\n",
      "|      10 |     27 |  12.500000% |\n",
      "|      11 |     27 |  12.500000% |\n",
      "|      12 |     25 |  11.574074% |\n",
      "|      13 |     21 |   9.722222% |\n",
      "|      14 |     15 |   6.944444% |\n",
      "|      15 |     10 |   4.629630% |\n",
      "|      16 |      6 |   2.777778% |\n",
      "|      17 |      3 |   1.388889% |\n",
      "|      18 |      1 |   0.462963% |\n",
      "\n"
     ]
    }
   ],
   "source": [
    "try:\n",
    "    # JupyterLite\n",
    "    import micropip\n",
    "    await micropip.install('hdroller')\n",
    "except ModuleNotFoundError:\n",
    "    # Jupyter\n",
    "    import sys\n",
    "    !{sys.executable} -m pip install hdroller\n",
    "\n",
    "import sys\n",
    "import pkg_resources\n",
    "import hdroller\n",
    "print('python version:', sys.version)\n",
    "print('hdroller version:', pkg_resources.get_distribution(\"hdroller\").version)\n",
    "\n",
    "print(3 @ hdroller.d6)\n"
   ]
  },
  {
   "cell_type": "code",
   "execution_count": null,
   "metadata": {},
   "outputs": [],
   "source": []
  }
 ],
 "metadata": {
  "kernelspec": {
   "display_name": "Python 3 (ipykernel)",
   "language": "python",
   "name": "python3"
  },
  "language_info": {
   "codemirror_mode": {
    "name": "ipython",
    "version": 3
   },
   "file_extension": ".py",
   "mimetype": "text/x-python",
   "name": "python",
   "nbconvert_exporter": "python",
   "pygments_lexer": "ipython3",
   "version": "3.9.10"
  }
 },
 "nbformat": 4,
 "nbformat_minor": 4
}
