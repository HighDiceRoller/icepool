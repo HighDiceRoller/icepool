{
  "metadata": {
    "language_info": {
      "codemirror_mode": {
        "name": "python",
        "version": 3
      },
      "file_extension": ".py",
      "mimetype": "text/x-python",
      "name": "python",
      "nbconvert_exporter": "python",
      "pygments_lexer": "ipython3",
      "version": "3.8"
    },
    "kernelspec": {
      "name": "python",
      "display_name": "Pyolite",
      "language": "python"
    }
  },
  "nbformat_minor": 4,
  "nbformat": 4,
  "cells": [
    {
      "cell_type": "markdown",
      "source": "## Minimal example",
      "metadata": {}
    },
    {
      "cell_type": "code",
      "source": "import micropip\nawait micropip.install('hdroller')\n\nimport sys\nimport pkg_resources\nimport hdroller\nprint('python version:', sys.version)\nprint('hdroller version:', pkg_resources.get_distribution(\"hdroller\").version)\n\nprint(3 @ hdroller.d6)\n",
      "metadata": {
        "trusted": true
      },
      "execution_count": 3,
      "outputs": [
        {
          "name": "stdout",
          "text": "python version: 3.9.5 (default, Jan 10 2022, 23:25:12) \n[Clang 13.0.0 (/b/s/w/ir/cache/git/chromium.googlesource.com-external-github.co\nhdroller version: 0.6.1\nTotal weight: 216\n| Outcome | Weight | Probability |\n|--------:|-------:|------------:|\n|       3 |      1 |   0.462963% |\n|       4 |      3 |   1.388889% |\n|       5 |      6 |   2.777778% |\n|       6 |     10 |   4.629630% |\n|       7 |     15 |   6.944444% |\n|       8 |     21 |   9.722222% |\n|       9 |     25 |  11.574074% |\n|      10 |     27 |  12.500000% |\n|      11 |     27 |  12.500000% |\n|      12 |     25 |  11.574074% |\n|      13 |     21 |   9.722222% |\n|      14 |     15 |   6.944444% |\n|      15 |     10 |   4.629630% |\n|      16 |      6 |   2.777778% |\n|      17 |      3 |   1.388889% |\n|      18 |      1 |   0.462963% |\n\n",
          "output_type": "stream"
        }
      ]
    },
    {
      "cell_type": "code",
      "source": "",
      "metadata": {},
      "execution_count": null,
      "outputs": []
    }
  ]
}