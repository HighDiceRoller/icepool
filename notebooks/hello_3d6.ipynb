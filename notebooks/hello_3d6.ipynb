{
 "cells": [
  {
   "cell_type": "markdown",
   "metadata": {},
   "source": [
    "## Minimal example\n",
    "\n",
    "This shows how to create 3d6 and create a table and plot of the distribution."
   ]
  },
  {
   "cell_type": "code",
   "execution_count": 1,
   "metadata": {},
   "outputs": [
    {
     "name": "stdout",
     "output_type": "stream",
     "text": [
      "Requirement already satisfied: hdroller in c:\\users\\ajul1\\appdata\\local\\programs\\python\\python39\\lib\\site-packages (0.6.1)\n",
      "python version: 3.9.10 (tags/v3.9.10:f2f3f53, Jan 17 2022, 15:14:21) [MSC v.1929 64 bit (AMD64)]\n",
      "hdroller version: 0.6.1\n",
      "Total weight: 216\n",
      "| Outcome | Weight | Probability |\n",
      "|--------:|-------:|------------:|\n",
      "|       3 |      1 |   0.462963% |\n",
      "|       4 |      3 |   1.388889% |\n",
      "|       5 |      6 |   2.777778% |\n",
      "|       6 |     10 |   4.629630% |\n",
      "|       7 |     15 |   6.944444% |\n",
      "|       8 |     21 |   9.722222% |\n",
      "|       9 |     25 |  11.574074% |\n",
      "|      10 |     27 |  12.500000% |\n",
      "|      11 |     27 |  12.500000% |\n",
      "|      12 |     25 |  11.574074% |\n",
      "|      13 |     21 |   9.722222% |\n",
      "|      14 |     15 |   6.944444% |\n",
      "|      15 |     10 |   4.629630% |\n",
      "|      16 |      6 |   2.777778% |\n",
      "|      17 |      3 |   1.388889% |\n",
      "|      18 |      1 |   0.462963% |\n",
      "\n"
     ]
    }
   ],
   "source": [
    "try:\n",
    "    # JupyterLite\n",
    "    import micropip\n",
    "    await micropip.install('hdroller')\n",
    "except ModuleNotFoundError:\n",
    "    # Jupyter\n",
    "    import sys\n",
    "    !{sys.executable} -m pip install hdroller\n",
    "\n",
    "import sys\n",
    "import pkg_resources\n",
    "import hdroller\n",
    "print('python version:', sys.version)\n",
    "print('hdroller version:', pkg_resources.get_distribution(\"hdroller\").version)\n",
    "\n",
    "# Create a d6. Here's a few different ways...\n",
    "\n",
    "# Just import it. In fact, you can import any sided die.\n",
    "from hdroller import d6, d97\n",
    "\n",
    "# Use the d() function.\n",
    "d6 = hdroller.d(6)\n",
    "\n",
    "# Specify a mapping from outcomes to weights.\n",
    "d6 = hdroller.Die({1: 1, 2: 1, 3: 1, 4: 1, 5: 1, 6: 1})\n",
    "\n",
    "# List the outcomes. Each will be weighted once.\n",
    "d6 = hdroller.Die([1, 2, 3, 4, 5, 6])\n",
    "\n",
    "# Now we want three of them added together. Here's two ways to do that:\n",
    "\n",
    "# Just add them together.\n",
    "die = d6 + d6 + d6\n",
    "\n",
    "# Use the @ operator, which means roll the left side, then roll the right side that many times and add.\n",
    "# The \"3\" becomes a die which always rolls the number 3.\n",
    "die = 3 @ hdroller.d6\n",
    "\n",
    "# The result is another die with the probability distribution of 3d6.\n",
    "\n",
    "# Print a table of the outcomes, weights, and probabilities.\n",
    "print(die)"
   ]
  },
  {
   "cell_type": "code",
   "execution_count": 2,
   "metadata": {},
   "outputs": [
    {
     "data": {
      "image/png": "[encoded data removed]",
      "text/plain": [
       "<Figure size 432x288 with 1 Axes>"
      ]
     },
     "metadata": {
      "needs_background": "light"
     },
     "output_type": "display_data"
    }
   ],
   "source": [
    "# Plot using matplotlib.\n",
    "\n",
    "import matplotlib.pyplot as plt\n",
    "\n",
    "fig, ax = plt.subplots()\n",
    "ax.plot(die.outcomes(), die.pmf())\n",
    "plt.show()"
   ]
  }
 ],
 "metadata": {
  "kernelspec": {
   "display_name": "Python 3 (ipykernel)",
   "language": "python",
   "name": "python3"
  },
  "language_info": {
   "codemirror_mode": {
    "name": "ipython",
    "version": 3
   },
   "file_extension": ".py",
   "mimetype": "text/x-python",
   "name": "python",
   "nbconvert_exporter": "python",
   "pygments_lexer": "ipython3",
   "version": "3.9.10"
  }
 },
 "nbformat": 4,
 "nbformat_minor": 4
}
