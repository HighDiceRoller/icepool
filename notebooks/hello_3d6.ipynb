{
  "metadata": {
    "kernelspec": {
      "name": "python",
      "display_name": "Python (Pyodide)",
      "language": "python"
    },
    "language_info": {
      "codemirror_mode": {
        "name": "python",
        "version": 3
      },
      "file_extension": ".py",
      "mimetype": "text/x-python",
      "name": "python",
      "nbconvert_exporter": "python",
      "pygments_lexer": "ipython3",
      "version": "3.8"
    }
  },
  "nbformat_minor": 4,
  "nbformat": 4,
  "cells": [
    {
      "cell_type": "markdown",
      "source": "## Minimal example\n\nThis shows how to create 3d6 and create a table and plot of the distribution.",
      "metadata": {}
    },
    {
      "cell_type": "code",
      "source": "%pip install icepool\n\nimport icepool\n\nimport sys\nfrom importlib.metadata import version\nprint('python version:', sys.version)\nprint('icepool version:', version('icepool'))\n\n# Create a d6. Here's a few different ways...\n\n# Just import it. In fact, you can import any-sided standard die.\nfrom icepool import d6, d97\n\n# Use the d() function.\nd6 = icepool.d(6)\n\n# Specify a mapping from outcomes to weights.\nd6 = icepool.Die({1: 1, 2: 1, 3: 1, 4: 1, 5: 1, 6: 1})\n\n# Give the outcomes as separate arguments. Each will be weighted once.\nd6 = icepool.Die([1, 2, 3, 4, 5, 6])\n\n# Now we want three of them added together. Here's a couple of ways to do that:\n\n# Just add them together.\ndie = d6 + d6 + d6\n\n# Use the @ operator, which means roll the left side, then roll the right side that many times and add.\n# The \"3\" becomes a die which always rolls the number 3.\ndie = 3 @ icepool.d6\n\n# The result is another die with the probability distribution of 3d6.\n\n# Print a table of the outcomes, weights, and probabilities.\nprint(die)",
      "metadata": {
        "trusted": true
      },
      "execution_count": 1,
      "outputs": [
        {
          "name": "stdout",
          "text": "python version: 3.11.2 (main, Mar 30 2023, 21:37:59) [Clang 17.0.0 (https://github.com/llvm/llvm-project df82394e7a2d06506718cafa347b\nicepool version: 0.27.0\nDie with denominator 216\n\n| Outcome | Quantity | Probability |\n|--------:|---------:|------------:|\n|       3 |        1 |   0.462963% |\n|       4 |        3 |   1.388889% |\n|       5 |        6 |   2.777778% |\n|       6 |       10 |   4.629630% |\n|       7 |       15 |   6.944444% |\n|       8 |       21 |   9.722222% |\n|       9 |       25 |  11.574074% |\n|      10 |       27 |  12.500000% |\n|      11 |       27 |  12.500000% |\n|      12 |       25 |  11.574074% |\n|      13 |       21 |   9.722222% |\n|      14 |       15 |   6.944444% |\n|      15 |       10 |   4.629630% |\n|      16 |        6 |   2.777778% |\n|      17 |        3 |   1.388889% |\n|      18 |        1 |   0.462963% |\n\n\n",
          "output_type": "stream"
        }
      ]
    },
    {
      "cell_type": "code",
      "source": "# Plot using matplotlib.\n\nimport matplotlib.pyplot as plt\n\nfig, ax = plt.subplots()\nax.plot(die.outcomes(), die.probabilities())\nplt.show()",
      "metadata": {
        "trusted": true
      },
      "execution_count": null,
      "outputs": []
    }
  ]
}